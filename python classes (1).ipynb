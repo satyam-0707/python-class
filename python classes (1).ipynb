{
 "cells": [
  {
   "cell_type": "code",
   "execution_count": null,
   "id": "eb7b6c8c-eb0a-455f-97af-5f027c91f3ca",
   "metadata": {},
   "outputs": [],
   "source": [
    "#input\n",
    "\n",
    "#integer\n",
    "a=int(input(\"enter the number\") )\n",
    "\n",
    "#decimal pr float\n",
    "#b=float(input(\"enter the number\"))\n",
    "\n",
    "#character or string\n",
    "#c=input(\"enter your name\")"
   ]
  },
  {
   "cell_type": "code",
   "execution_count": null,
   "id": "2168dec9-a9c5-4991-9f12-dd339c106b6b",
   "metadata": {},
   "outputs": [],
   "source": [
    "# sum of two numbers by using input\n",
    "a=int(input(\"enter the number\"))\n",
    "b=int(input(\"enter the number\"))\n",
    "c=a+b\n",
    "print(\"the sume is \",c)\n",
    "\n",
    "\n",
    "\n"
   ]
  },
  {
   "cell_type": "code",
   "execution_count": null,
   "id": "40a3d988-b98b-41b3-802d-3573cfc6df43",
   "metadata": {},
   "outputs": [],
   "source": [
    "# simple interest \n",
    "p=int(input(\"enter the principle\"))\n",
    "r=float(input(\"enter the rate\"))\n",
    "t=int(input(\"enter the time\"))\n",
    "si=p*r*t/100\n",
    "print(\"the interest is\",si)\n",
    "\n",
    "\n",
    "\n",
    "\n",
    "\n",
    "\n",
    "      \n",
    "      "
   ]
  },
  {
   "cell_type": "code",
   "execution_count": null,
   "id": "0f4cf8b6-3c37-4200-83d2-5e0922df6734",
   "metadata": {},
   "outputs": [],
   "source": [
    "# average\n",
    "a=float(input(\"enter the number\"))\n",
    "b=float(input(\"enter the number\"))\n",
    "c=float(input(\"enter the number\"))\n",
    "avg=(a+b+c)/3\n",
    "print (\"the average is \",avg)\n",
    "\n"
   ]
  },
  {
   "cell_type": "code",
   "execution_count": null,
   "id": "ff5e0ac9-d1a8-4edf-83c5-7775f276b549",
   "metadata": {},
   "outputs": [],
   "source": [
    "p=float(input(\"enter the marks\"))\n",
    "c=float(input(\"enter the marks\"))\n",
    "m=float(input(\"enter the marks\"))\n",
    "e=float(input(\"enter the marks\"))\n",
    "h=float(input(\"enter the marks\"))\n",
    "s=p+c+m+e+h\n",
    "per=s*100/500\n",
    "print(\"the percentage is \",per)\n",
    "\n"
   ]
  },
  {
   "cell_type": "code",
   "execution_count": null,
   "id": "f95ab220-a20b-434f-8371-a048f6e4645b",
   "metadata": {},
   "outputs": [],
   "source": [
    "a=90\n",
    "b=13\n",
    "print(\"the sum is \",a+b)\n",
    "print(\"the sub is \",a-b)\n",
    "print(\"the pro is \",a*b)\n",
    "print(\"the div is \",a/b)\n",
    "print(\"the mod is \",a%b)\n",
    "print(\"the floar div is \",a//b)\n",
    "print(\"the exponent is \",a**b)\n"
   ]
  },
  {
   "cell_type": "code",
   "execution_count": null,
   "id": "ddad535c-f8fa-4208-a943-4c1d33aa12fc",
   "metadata": {},
   "outputs": [],
   "source": [
    "p=65\n",
    "c=98\n",
    "m=78\n",
    "e=78\n",
    "h=56\n",
    "s=p+c+m+e+h\n",
    "per=s*100/500\n",
    "print(\"the percentage is \",per)"
   ]
  },
  {
   "cell_type": "code",
   "execution_count": null,
   "id": "ba2211a8-d4d1-43b9-9c91-6794903e5424",
   "metadata": {},
   "outputs": [],
   "source": [
    "import math\n",
    "n=10\n",
    "x= math\n",
    "print(x)\n",
    "3.16227\n"
   ]
  },
  {
   "cell_type": "code",
   "execution_count": null,
   "id": "23943c2f-8829-49b6-ac7a-46cb50a989af",
   "metadata": {
    "scrolled": true
   },
   "outputs": [],
   "source": [
    "associativity of operators\n",
    "p=paronthysis\n",
    "e=exponent\n",
    "h=multiply\n",
    "d=divide\n",
    "a=addition\n",
    "s=sub"
   ]
  },
  {
   "cell_type": "code",
   "execution_count": null,
   "id": "31786898-034d-4052-a919-d77bccc92337",
   "metadata": {},
   "outputs": [],
   "source": [
    "#swapping of two numbers \n",
    "a=100\n",
    "b=200\n",
    "print(\"before swapping\")\n",
    "print(\"a\",a)\n",
    "print(\"b\",b)\n"
   ]
  },
  {
   "cell_type": "code",
   "execution_count": null,
   "id": "c1ba002c-2c8c-4ace-9e46-aebd5062aa51",
   "metadata": {},
   "outputs": [],
   "source": [
    "#sum of two numbers by using input \n",
    "a=int(input(\"enter the number\"))\n",
    "b=int(input(\"enter the number\"))\n",
    "c=a+b\n",
    "print(\"the sum is\",c)"
   ]
  },
  {
   "cell_type": "code",
   "execution_count": null,
   "id": "dc1847dd-2800-4d94-a93d-d35f59c7da9b",
   "metadata": {},
   "outputs": [],
   "source": [
    "#simple interest \n",
    "p=int(input(\"enter the principle\"))\n",
    "r=float(input(\"enter the rate\"))\n",
    "t=int(input(\"enter the time\"))\n",
    "si=p*r*t/100\n",
    "print(\"the interest is\",si)"
   ]
  },
  {
   "cell_type": "code",
   "execution_count": null,
   "id": "30c11f4e-7293-472c-bf40-2a5dd4b9e085",
   "metadata": {},
   "outputs": [],
   "source": [
    "#average\n",
    "a=float(input(\"enter the number\"))\n",
    "b=float(input(\"enter the number\"))\n",
    "c=float(input(\"enter the number\"))\n",
    "avg=(a+b+c)/3\n",
    "print(\"the average is\",avg)"
   ]
  },
  {
   "cell_type": "code",
   "execution_count": null,
   "id": "04b3bd20-dfd5-4f7c-b10a-12168e5144bb",
   "metadata": {},
   "outputs": [],
   "source": [
    "p=float(input(\"enter the marks\"))\n",
    "c=float(input(\"enter the marks\"))\n",
    "m=float(input(\"enter the marks\"))\n",
    "e=float(input(\"enter the marks\"))\n",
    "h=float(input(\"enter the marks\"))\n",
    "s=p+c+m+e+h\n",
    "per=s*100/500 \n",
    "print(\"sum is\",s)\n",
    "print(\"the percentage is\",per)"
   ]
  },
  {
   "cell_type": "code",
   "execution_count": null,
   "id": "afdf506d-f0d8-4b38-a356-bb587a225aa2",
   "metadata": {},
   "outputs": [],
   "source": [
    "#import math\n",
    "n=int(input(\"enter the number\"))\n",
    "x=math\n",
    "print(x)"
   ]
  },
  {
   "cell_type": "code",
   "execution_count": null,
   "id": "67dbdf8c-ee7c-4049-8ac2-c0b59e39961a",
   "metadata": {},
   "outputs": [],
   "source": [
    "# variable---- variable is a container that store value or values\n",
    "# it can be change when the operations are performed on it\n"
   ]
  },
  {
   "cell_type": "code",
   "execution_count": null,
   "id": "f66d1d2e-4557-4ca1-a896-a2930b25147e",
   "metadata": {},
   "outputs": [],
   "source": [
    "# some rules to create variable\n",
    "\n",
    "# variable name can not start with a digit "
   ]
  },
  {
   "cell_type": "code",
   "execution_count": null,
   "id": "fbe88e3d-ca91-4040-b34b-039a859698a6",
   "metadata": {},
   "outputs": [],
   "source": [
    "1a=10 #wrong\n"
   ]
  },
  {
   "cell_type": "code",
   "execution_count": null,
   "id": "90bb140e-b546-4786-8496-ebfb62c4a272",
   "metadata": {},
   "outputs": [],
   "source": [
    "# there is no space are allowed in varable name\n",
    "\n",
    "#student name =\"madrid\""
   ]
  },
  {
   "cell_type": "code",
   "execution_count": null,
   "id": "836dad71-e494-41a1-9acf-bf01813258ed",
   "metadata": {},
   "outputs": [],
   "source": [
    "#instead of space we can use \"_\"\n",
    "student_name\"madrid\""
   ]
  },
  {
   "cell_type": "code",
   "execution_count": null,
   "id": "0c129c34-59d3-4fc6-b133-d6935742a103",
   "metadata": {},
   "outputs": [],
   "source": [
    "_a=10"
   ]
  },
  {
   "cell_type": "code",
   "execution_count": null,
   "id": "222d1c14-65e5-44e6-85db-1085929ea90b",
   "metadata": {},
   "outputs": [],
   "source": [
    "_a_=10"
   ]
  },
  {
   "cell_type": "code",
   "execution_count": null,
   "id": "2b21eb68-cc64-4ffc-a56a-f81fc0a02253",
   "metadata": {},
   "outputs": [],
   "source": [
    "#python is case sensitive\n",
    "\n",
    "a=10\n",
    "A=10\n",
    "\n",
    "both have different values "
   ]
  },
  {
   "cell_type": "code",
   "execution_count": null,
   "id": "5e902d63-9836-4cb3-9979-abb5789055e1",
   "metadata": {},
   "outputs": [],
   "source": [
    "# automatic memory allocation \n",
    "\n",
    "a=10\n",
    "id(a)"
   ]
  },
  {
   "cell_type": "code",
   "execution_count": null,
   "id": "fd43c658-1e06-4a78-b980-82eeb8479090",
   "metadata": {},
   "outputs": [],
   "source": [
    "# keywords are never used as an variable name \n",
    "# they are knowns as \"reserved\" keywords\n"
   ]
  },
  {
   "cell_type": "code",
   "execution_count": null,
   "id": "5c1fe0d0-62e2-4ef4-b022-6c4f3dc32dab",
   "metadata": {},
   "outputs": [],
   "source": [
    "False     def        if        raise \n",
    "None      del        import    return\n",
    "True      elif       in        try \n",
    "and       else       is        while\n",
    "as        except     lambda    with \n",
    "assert    finally    nonlocal  yield \n",
    "break     for        not \n",
    "class     from       or \n",
    "continue  global     pass\n",
    "await     async      \n"
   ]
  },
  {
   "cell_type": "code",
   "execution_count": null,
   "id": "e2df8f99-bf75-46fe-baea-f7dc7d480476",
   "metadata": {},
   "outputs": [],
   "source": [
    "# opertors \n",
    "\n",
    "\n",
    "#Arithmetic \n",
    "#comparision \n",
    "#Assignment \n",
    "#logical operator\n",
    "#Bitwise\n",
    "\n",
    "\n",
    "\n"
   ]
  },
  {
   "cell_type": "code",
   "execution_count": null,
   "id": "96ad3dda-63bb-494f-bdf7-725efd4e6788",
   "metadata": {},
   "outputs": [],
   "source": [
    "#Arithmetic\n",
    "# + - / // % **"
   ]
  },
  {
   "cell_type": "code",
   "execution_count": null,
   "id": "1ff0de67-9dd9-433c-bd0b-3b48f020e8f9",
   "metadata": {},
   "outputs": [],
   "source": [
    "a=100\n",
    "b=23\n"
   ]
  },
  {
   "cell_type": "code",
   "execution_count": null,
   "id": "fb005efe-b089-4866-989d-2e17cc09d5d1",
   "metadata": {},
   "outputs": [],
   "source": [
    "a+b"
   ]
  },
  {
   "cell_type": "code",
   "execution_count": null,
   "id": "f1cb39f2-4a3f-48aa-b4bf-295eb1bca23c",
   "metadata": {},
   "outputs": [],
   "source": [
    "a-b"
   ]
  },
  {
   "cell_type": "code",
   "execution_count": null,
   "id": "ecc2277a-3625-44ff-a63a-4d735d714201",
   "metadata": {},
   "outputs": [],
   "source": [
    "a*b"
   ]
  },
  {
   "cell_type": "code",
   "execution_count": null,
   "id": "7a38a500-2fd1-435d-8263-460ba9751d52",
   "metadata": {},
   "outputs": [],
   "source": [
    "a/b"
   ]
  },
  {
   "cell_type": "code",
   "execution_count": null,
   "id": "65a2a375-9ade-4c6d-9619-a6bdd6c6f211",
   "metadata": {},
   "outputs": [],
   "source": [
    "a%b  # return remainder"
   ]
  },
  {
   "cell_type": "code",
   "execution_count": null,
   "id": "514189fb-ef71-4c8c-a671-65da438d3f92",
   "metadata": {},
   "outputs": [],
   "source": [
    "a//b  #floor division"
   ]
  },
  {
   "cell_type": "code",
   "execution_count": null,
   "id": "628edc9d-1930-4745-b1ca-a280b892e75d",
   "metadata": {},
   "outputs": [],
   "source": [
    "a=45\n",
    "b=2"
   ]
  },
  {
   "cell_type": "code",
   "execution_count": null,
   "id": "9de77b1a-f8da-4596-bbab-b6f1de737eb4",
   "metadata": {},
   "outputs": [],
   "source": [
    "a**b   # a to the power b"
   ]
  },
  {
   "cell_type": "code",
   "execution_count": null,
   "id": "de9abdb5-42b5-438d-882a-c00eb5453054",
   "metadata": {},
   "outputs": [],
   "source": [
    "#output function\n",
    "\n",
    "#print()\n",
    "\n",
    "#Msg\n",
    "\n",
    "print(\"hello\")\n",
    "\n",
    "# for value of the variable \n",
    "a=12\n",
    "print(a)\n",
    "\n",
    "\n"
   ]
  },
  {
   "cell_type": "code",
   "execution_count": null,
   "id": "87000018-ff61-4c8c-aeca-0a9927c8e8f3",
   "metadata": {},
   "outputs": [],
   "source": [
    "# Msg with value \n",
    "\n",
    "b=100\n",
    "print(\"the value is\",b)"
   ]
  },
  {
   "cell_type": "code",
   "execution_count": null,
   "id": "28c231c2-d465-45f8-8002-fbbd944756ef",
   "metadata": {},
   "outputs": [],
   "source": [
    "# declaration \n",
    "\n",
    "# Logic\n",
    "\n",
    "# output"
   ]
  },
  {
   "cell_type": "code",
   "execution_count": null,
   "id": "6826beed-0b39-41cc-980b-9cccb763c4fa",
   "metadata": {},
   "outputs": [],
   "source": [
    "# sum of two numbers \n",
    "\n",
    "a=200\n",
    "b=500\n",
    "c=a+b\n",
    "print(\"the sume is\",c)"
   ]
  },
  {
   "cell_type": "code",
   "execution_count": null,
   "id": "7efdf4ff-3d1d-46a6-bca4-a9ca90969daa",
   "metadata": {},
   "outputs": [],
   "source": [
    "# simple intrest \n",
    "p=3000\n",
    "r=5.6\n",
    "t=3\n",
    "si=p*r*t/100\n",
    "print(\"the interest is\",si)"
   ]
  },
  {
   "cell_type": "code",
   "execution_count": null,
   "id": "28cb047e-0945-4a8d-8012-1f844cf25dc7",
   "metadata": {},
   "outputs": [],
   "source": [
    "# average \n",
    "a=300\n",
    "b=400\n",
    "c=700\n",
    "avg=(a+b+c)/3\n",
    "print(\"the average is\",avg)"
   ]
  },
  {
   "cell_type": "code",
   "execution_count": null,
   "id": "bbc4cb42-9bd0-498f-a201-9104e682d88d",
   "metadata": {},
   "outputs": [],
   "source": [
    "#p--- paranthysis \n",
    "#E--- Exponent\n",
    "#M--- Multiplication\n",
    "#D--- Division \n",
    "#A--- Addition\n",
    "#S--- Substraction\n"
   ]
  },
  {
   "cell_type": "code",
   "execution_count": null,
   "id": "764dcaf0-2db0-4210-81b9-7c18a62f9e5f",
   "metadata": {},
   "outputs": [],
   "source": [
    "# calculater percentage\n",
    "p=57\n",
    "c=98\n",
    "m=56\n",
    "e=89\n",
    "h=98\n",
    "s=p+c+m+e+h\n",
    "per=s*100/500\n",
    "print(\"the sum is\",si)\n",
    "print(\"the percentage is\",per)"
   ]
  },
  {
   "cell_type": "code",
   "execution_count": null,
   "id": "46bd0bbc-d78b-443d-8161-d3b075debc2c",
   "metadata": {},
   "outputs": [],
   "source": [
    "# input--- runtime values\n",
    "\n",
    "# integer--- int(input(\"enter the number\"))\n",
    "\n",
    "# decimal---- float(input(\"enter the number\"))\n",
    "\n",
    "# string or character--- input(\"msg\")\n",
    "\n",
    "these are data types"
   ]
  },
  {
   "cell_type": "code",
   "execution_count": null,
   "id": "737d0331-c199-407b-a639-3b3a215dd625",
   "metadata": {},
   "outputs": [],
   "source": [
    "a=10\n",
    "type(a)"
   ]
  },
  {
   "cell_type": "code",
   "execution_count": null,
   "id": "5938a4ba-88a8-4c6f-ac93-9b14957f26c0",
   "metadata": {},
   "outputs": [],
   "source": [
    "x=12.34\n",
    "type(x)"
   ]
  },
  {
   "cell_type": "code",
   "execution_count": null,
   "id": "405ca439-cf71-49a1-86b4-dfea64ee6d67",
   "metadata": {},
   "outputs": [],
   "source": [
    "y=\"vansh\"\n",
    "type(y)"
   ]
  },
  {
   "cell_type": "code",
   "execution_count": null,
   "id": "53c65fb3-1394-430b-8e98-2835090f9132",
   "metadata": {},
   "outputs": [],
   "source": [
    "a=[12,23,34,44,45]\n",
    "type(a)"
   ]
  },
  {
   "cell_type": "code",
   "execution_count": null,
   "id": "5cbde29c-93cd-4f17-af91-7600b49c85b8",
   "metadata": {},
   "outputs": [],
   "source": [
    "b=(12,23,34,45)\n",
    "type(b)"
   ]
  },
  {
   "cell_type": "code",
   "execution_count": null,
   "id": "ffdfda1e-425a-40f1-9d78-bec6a3d077e0",
   "metadata": {},
   "outputs": [],
   "source": [
    "c={12,23,34,45}\n",
    "type(c)"
   ]
  },
  {
   "cell_type": "code",
   "execution_count": null,
   "id": "005a5744-f464-47b4-91da-ca88e6e7e33a",
   "metadata": {},
   "outputs": [],
   "source": [
    "d={\"Name\":\"Sahil\",\"Age\":30}\n",
    "type(d)"
   ]
  },
  {
   "cell_type": "code",
   "execution_count": null,
   "id": "ddcf2c24-22e9-496c-90c5-19e68b73b20f",
   "metadata": {},
   "outputs": [],
   "source": [
    "# sum of two numbers \n",
    "a=int(input(\"enter the number\"))\n",
    "b=int(input(\"enter the number\"))\n",
    "c=a+b\n",
    "print(\"the value is\",c)"
   ]
  },
  {
   "cell_type": "code",
   "execution_count": null,
   "id": "667b28c3-576e-4d61-9d68-b2e4d9c28cbe",
   "metadata": {},
   "outputs": [],
   "source": [
    "p=int(input(\"enter the value of the principle\"))\n",
    "r=float(input(\"enter the rate\"))\n",
    "t=int(input(\"enter the time\"))\n",
    "si=p*r*t/100\n",
    "print(\"the simple interest is\",si)"
   ]
  },
  {
   "cell_type": "code",
   "execution_count": null,
   "id": "b989af99-29bb-4d06-9481-ce74bdb7ce68",
   "metadata": {},
   "outputs": [],
   "source": [
    "a=float(input(\"enter the number\"))\n",
    "b=float(input(\"enter the number\"))\n",
    "c=float(input(\"enter the number\"))\n",
    "avg=(a+b+c)/3\n",
    "print(\"the average is\",avg)"
   ]
  },
  {
   "cell_type": "code",
   "execution_count": null,
   "id": "76401996-e565-48cc-92ea-68e0c46e500f",
   "metadata": {},
   "outputs": [],
   "source": [
    "mark1=int(input(\"enter the physic marks\"))\n",
    "mark2=int(input(\"enter the chemistry marks\"))\n",
    "mark3=int(input(\"enter the maths marks\"))\n",
    "mark4=int(input(\"enter the hindi marks\"))\n",
    "mark5=int(input(\"enter the english marks\"))\n",
    "per=(mark1+mark2+mark3+mark4+mark5)*100/500\n",
    "print(\"the percentage is\",per)"
   ]
  },
  {
   "cell_type": "code",
   "execution_count": null,
   "id": "862718cf-2559-4c2e-9ba3-8217ada452ad",
   "metadata": {},
   "outputs": [],
   "source": [
    "import math "
   ]
  },
  {
   "cell_type": "code",
   "execution_count": null,
   "id": "dd4ae4ce-7510-4c0c-bdbd-2385de51107f",
   "metadata": {},
   "outputs": [],
   "source": [
    "n=int(input(\"enter the number\"))\n",
    "x=math.sqrt(n)\n",
    "print(x)"
   ]
  },
  {
   "cell_type": "code",
   "execution_count": null,
   "id": "067fa8e3-596e-4962-96a5-7ea71e9c57c2",
   "metadata": {},
   "outputs": [],
   "source": [
    "#pow(x,y)\n",
    "\n",
    "a=int(input(\"enter the value of the base\"))\n",
    "b=int(input(\"enter the value of the exponent\"))\n",
    "x=math.pow(a,b)\n",
    "print(x)\n"
   ]
  },
  {
   "cell_type": "code",
   "execution_count": null,
   "id": "f79ece5e-b36f-4ae7-a0d4-f010eed604e0",
   "metadata": {},
   "outputs": [],
   "source": [
    "# comparision operator\n",
    "\n",
    "#==\n",
    "# what is difference betwee = a ==\n",
    "a=10\n",
    "a==10"
   ]
  },
  {
   "cell_type": "code",
   "execution_count": null,
   "id": "eda7dd1a-5e4e-4a19-97f7-a5a5ca21edc3",
   "metadata": {},
   "outputs": [],
   "source": [
    "#< less than\n",
    "#> greater than\n",
    "#<= less than or equal\n",
    "#>= greater than or equal"
   ]
  },
  {
   "cell_type": "code",
   "execution_count": null,
   "id": "02156382-a355-4e65-86ff-ba95a6f6dcc1",
   "metadata": {},
   "outputs": [],
   "source": [
    "a=int(input(\"enter the number\"))\n",
    "b=int(input(\"enter the number\"))\n",
    "print(\"a==b\",a==b)\n",
    "print(\"a<b\",a<b)\n",
    "print(\"a>b\",a>b)\n",
    "print(\"a<=b\",a<=b)\n",
    "print(\"a>=b\",a>=b)"
   ]
  },
  {
   "cell_type": "code",
   "execution_count": null,
   "id": "0aa4a1cc-3d9c-4b71-acc2-147e987d32b5",
   "metadata": {},
   "outputs": [],
   "source": [
    "p=int(input(\"enter then value of principle\"))\n",
    "r=float(input(\"enter the rate\"))\n",
    "t=int(input(\"enter the time\"))\n",
    "si=p+r+t/100\n",
    "print(\"the simple interest\",si)"
   ]
  },
  {
   "cell_type": "code",
   "execution_count": null,
   "id": "1068274f-dad5-49cf-9487-112dd59903a9",
   "metadata": {},
   "outputs": [],
   "source": [
    "a=int(input(\"enter the number\"))\n",
    "b=int(input(\"enter the number\"))\n",
    "c=a+b\n",
    "print(\"the sum of\",c)"
   ]
  },
  {
   "cell_type": "code",
   "execution_count": null,
   "id": "3cf74090-19e9-47fd-9147-842090798cea",
   "metadata": {},
   "outputs": [],
   "source": [
    "a=float(input(\"enter the number\"))\n",
    "b=float(input(\"enter the number\"))\n",
    "c=float(input(\"enter the number\"))\n",
    "avg=(a+b+c)/3\n",
    "print(\"the average of\",avg)"
   ]
  },
  {
   "cell_type": "code",
   "execution_count": null,
   "id": "0b84fa4f-4a10-45db-9083-fb9cd8730f40",
   "metadata": {},
   "outputs": [],
   "source": [
    "mark1=int(input(\"enter the marks of math\"))\n",
    "mark2=int(input(\"enter the marks of bio\"))\n",
    "mark3=int(input(\"enter the marks of english\"))\n",
    "mark4=int(input(\"enter the marks of hindi\"))\n",
    "mark5=int(input(\"enter the marks of chemistry\"))\n",
    "per=(mark1+mark2+mark3+mark4+mark5)*100/500\n",
    "print(\"the percentage of\",per)"
   ]
  },
  {
   "cell_type": "code",
   "execution_count": null,
   "id": "f99daedf-ad49-434d-8643-56ab10a57bc8",
   "metadata": {},
   "outputs": [],
   "source": [
    "#conditional statement\n",
    "\n",
    "# if ----- only if\n",
    "# if  then else\n",
    "# if elif ladder from\n",
    "# nested if\n",
    "\n"
   ]
  },
  {
   "cell_type": "code",
   "execution_count": null,
   "id": "a95a4e42-75bd-490e-aead-fc32d335b933",
   "metadata": {},
   "outputs": [],
   "source": [
    "syntax\n",
    "\n",
    "if condtion: statement which is only true\n"
   ]
  },
  {
   "cell_type": "code",
   "execution_count": null,
   "id": "92443af2-f11d-4db0-afa4-abdf7c1907c7",
   "metadata": {},
   "outputs": [],
   "source": [
    "n=int(input(\"enter the number\"))\n",
    "if n==10:\n",
    "   print(\"you won\")"
   ]
  },
  {
   "cell_type": "code",
   "execution_count": null,
   "id": "e4e697d6-7dc1-4c46-9970-fadae0898c68",
   "metadata": {},
   "outputs": [],
   "source": [
    "n=int(input(\"enter the number\"))\n",
    "if n>0:\n",
    "    print(\"+ve number\")\n",
    "if n<0:\n",
    "    print(\"--ve number\")\n",
    "if n==0:\n",
    "    print(\"number is zero itself\")\n",
    "    \n"
   ]
  },
  {
   "cell_type": "code",
   "execution_count": null,
   "id": "6233f143-a960-4a27-8cb4-597dfd99ac90",
   "metadata": {},
   "outputs": [],
   "source": [
    "n=int(input(\"enter the number\"))\n",
    "if n%2==0:\n",
    "   print(\"even number\")\n",
    "else:\n",
    "   print(\"odd number\")"
   ]
  },
  {
   "cell_type": "code",
   "execution_count": null,
   "id": "ff80cecf-63e8-417a-9857-13a68de80fe4",
   "metadata": {},
   "outputs": [],
   "source": [
    "year =int(input(\"enter the number\"))\n",
    "if year%4==0:\n",
    "   print(\"leap year\")\n",
    "else:\n",
    "   print(\"non leap year\")"
   ]
  },
  {
   "cell_type": "code",
   "execution_count": null,
   "id": "8b9e9bb8-b206-4778-9410-52907822ea9d",
   "metadata": {},
   "outputs": [],
   "source": [
    "age=int(input(\"enter the age\"))\n",
    "if age>=18:\n",
    "    print(\"eligible to vote\")\n",
    "else:\n",
    "    print(\"not eligible\")"
   ]
  },
  {
   "cell_type": "code",
   "execution_count": null,
   "id": "5399cae5-fb55-44a8-a360-893d070ecfc5",
   "metadata": {},
   "outputs": [],
   "source": [
    "# change the positive number if -ve is being entered\n",
    "\n",
    "n=int(input(\"enter the number\"))\n",
    "if n<0:\n",
    "    print(n*(-1))\n",
    "else:\n",
    "    print(n)"
   ]
  },
  {
   "cell_type": "code",
   "execution_count": null,
   "id": "59a1955f-c9a3-4580-af90-70c85623c107",
   "metadata": {},
   "outputs": [],
   "source": [
    "if elif ladder form\n",
    "syntax \n",
    "if condition : \n",
    "    statement\n",
    "elif condition:\n",
    "    statment\n",
    "elif condition:\n",
    "    statment\n",
    "else:\n",
    "    statment\n",
    "    "
   ]
  },
  {
   "cell_type": "code",
   "execution_count": null,
   "id": "d078cc0f-23b1-46a4-b69c-5ceb0e3d3532",
   "metadata": {},
   "outputs": [],
   "source": [
    "day=int(input(\"enter the number b/w 1--7\"))\n",
    "if day==1:\n",
    "    print(\"sun\")\n",
    "elif day==2:\n",
    "    print(\"mon\")\n",
    "elif day==3:\n",
    "    print(\"tue\")\n",
    "elif day==4:\n",
    "    print(\"wed\")\n",
    "elif day==5:\n",
    "    print(\"thu\")\n",
    "elif day==6:\n",
    "    print(\"fri\")\n",
    "elif day==7:\n",
    "    print(\"sat\")\n",
    "else:\n",
    "    print(\"invalid choice\")\n",
    "          \n",
    "    "
   ]
  },
  {
   "cell_type": "code",
   "execution_count": null,
   "id": "5d8fe83d-6771-425a-95ab-e64ffe5407aa",
   "metadata": {},
   "outputs": [],
   "source": [
    "p=float(input(\"enter the marks\"))\n",
    "c=float(input(\"enter the marks\"))\n",
    "m=float(input(\"enter the marks\"))\n",
    "e=float(input(\"enter the marks\"))\n",
    "h=float(input(\"enter the marks\"))\n",
    "s=p+c+m+e+h\n",
    "per=s*100/500\n",
    "print(\"the percentage is\",per)\n",
    "if per>=60:\n",
    "   print(\"first Div\")\n",
    "elif per>=45:\n",
    "    print(\"second div\")\n",
    "elif per>=33:\n",
    "    print(\"third div\")\n",
    "else:\n",
    "    print(\"fail\")\n",
    "\n",
    "\n",
    "\n",
    "        "
   ]
  },
  {
   "cell_type": "code",
   "execution_count": null,
   "id": "b98bf237-7b6a-4b09-be4e-22528c6aada6",
   "metadata": {},
   "outputs": [],
   "source": [
    "logical operator\n",
    "\n",
    "and-- all of the conditions must be true for true output\n",
    "\n",
    "or-- any of the condition must be true for true output"
   ]
  },
  {
   "cell_type": "code",
   "execution_count": null,
   "id": "eb744a03-b964-49a1-b38a-532fc9ed00e7",
   "metadata": {},
   "outputs": [],
   "source": [
    "# greatest among three numbers\n",
    "\n",
    "a=int(input(\"enter the number\"))\n",
    "b=int(input(\"enter the number\"))\n",
    "c=int(input(\"enter the number\"))\n",
    "if a>b and a>c:\n",
    "    print(a,\"is greatest\")\n",
    "elif b>a and b>c:\n",
    "    print(b,\"is greatest\")\n",
    "else:\n",
    "    print(c,\"is greatest\")"
   ]
  },
  {
   "cell_type": "code",
   "execution_count": null,
   "id": "895d886a-e4dc-490f-b7e2-8c7f49f15463",
   "metadata": {},
   "outputs": [],
   "source": [
    "a=int(input(\"enter the number\"))\n",
    "b=int(input(\"enter the number\"))\n",
    "c=int(input(\"enter the number\"))\n",
    "if a>b and a>c:\n",
    "    print(a,\"is greatest\")\n",
    "elif b>a and b>c:\n",
    "    print(b,\"is greatest\")\n",
    "else:\n",
    "    print(c,\"is greatest\")"
   ]
  },
  {
   "cell_type": "code",
   "execution_count": null,
   "id": "7ac702c2-f56b-4c7d-8e9d-63d12b2752ac",
   "metadata": {},
   "outputs": [],
   "source": [
    "a=int(input(\"enter the number\"))\n",
    "b=int(input(\"enter the number\"))\n",
    "c=int(input(\"enter the number\"))\n",
    "if a>b and a>c:\n",
    "    print(a,\"is greatest\")\n",
    "elif b>a and b>c:\n",
    "    print(b,\"is greatest\")\n",
    "else:\n",
    "    print(c,\"is greatest\")"
   ]
  },
  {
   "cell_type": "code",
   "execution_count": null,
   "id": "809c8e0d-79cc-4b2c-909a-e61853e50fa8",
   "metadata": {},
   "outputs": [],
   "source": [
    "# check vowel or consonant \n",
    "\n",
    "ch=input(\"enter an alphabet\")\n",
    "\n",
    "if ch=='a' or ch=='e' or ch=='i' or ch=='o' or ch=='u':\n",
    "    print(\"vowel\")\n",
    "if ch=='A' or ch=='E' or ch=='I' or ch=='O' or ch=='U':\n",
    "    print(\"consonant\")"
   ]
  },
  {
   "cell_type": "code",
   "execution_count": null,
   "id": "d0189d33-75ee-4f0d-a462-df21875b21a7",
   "metadata": {},
   "outputs": [],
   "source": [
    "ch=input(\"enter an alphabet\")\n",
    "if ch in['a','e','i','o','u','A','E','I','O','U']:\n",
    "    print(\"vowel\")\n",
    "else:\n",
    "    print(\"consonant\")"
   ]
  },
  {
   "cell_type": "code",
   "execution_count": null,
   "id": "becfc643-259f-458f-9c64-255a16d5bb41",
   "metadata": {},
   "outputs": [],
   "source": [
    "# traffic light\n",
    "\n",
    "ch=input(\"enter the alphabet as \\n r for red \\n g for green \\n y for yellow \\n\")\n",
    "if ch=='r' or ch=='R':\n",
    "    print(\"stop\")\n",
    "elif ch=='y' or ch=='Y':\n",
    "     print(\"get ready\")\n",
    "elif ch=='g' or 'G':\n",
    "    print(\"move forward\")\n",
    "else:\n",
    "    print(\"pay chalaan\")"
   ]
  },
  {
   "cell_type": "code",
   "execution_count": null,
   "id": "ae2e97e0-746b-46ac-8a1b-c68b99ed6051",
   "metadata": {},
   "outputs": [],
   "source": [
    "# take values of length and breadth of rectangle from user and check if it is square\n",
    "length = int(input(\"enter the length\"))\n",
    "breadth = int(input(\"enter the breadth\"))\n",
    "if length == breadth:\n",
    "    print(\"yes, it is square\")\n",
    "    print(\"the area of square is\", length**2)\n",
    "else:\n",
    "    print(\"no, it is only rectangle\")\n",
    "    print(\"the area of rectangle is\", length*breadth)"
   ]
  },
  {
   "cell_type": "code",
   "execution_count": null,
   "id": "2088e329-cdd9-4f4b-a27d-c76ddf951c9b",
   "metadata": {},
   "outputs": [],
   "source": [
    "\n",
    "\n",
    "hungry = True\n",
    "if hungry:\n",
    "     print('Feed me!')\n",
    "else:\n",
    "     print('I am not hungry')"
   ]
  },
  {
   "cell_type": "code",
   "execution_count": null,
   "id": "06ef607f-499b-4691-b73c-85d8bd7ec211",
   "metadata": {},
   "outputs": [],
   "source": [
    "loc = 'Auto shop'\n",
    "\n",
    "if loc =='Auto shop':\n",
    "    print('Cars are cool!')\n",
    "elif loc == 'Bank':\n",
    "    print('Money is cool!')\n",
    "elif loc == 'Store':\n",
    "    print('Welcome to the store!')\n",
    "else:\n",
    "    print('I do not know so much')"
   ]
  },
  {
   "cell_type": "code",
   "execution_count": null,
   "id": "b6ca4176-75e4-4e16-b75d-acfab8a77fc6",
   "metadata": {},
   "outputs": [],
   "source": [
    "p=float(input(\"enter the marks\"))\n",
    "c=float(input(\"enter the marks\"))\n",
    "m=float(input(\"enter the marks\"))\n",
    "e=float(input(\"enter the marks\"))\n",
    "h=float(input(\"enter the marks\"))\n",
    "si=p+c+m+e+h\n",
    "per=si*100/500\n",
    "print(\"the percentage is\",per)\n",
    "if per>=60:\n",
    "    print('first div')\n",
    "elif per>=45:\n",
    "    print('secound div')\n",
    "elif per>=30:\n",
    "    print('third div')\n",
    "else:\n",
    "    print('fail')\n",
    "\n"
   ]
  },
  {
   "cell_type": "code",
   "execution_count": null,
   "id": "4b7cc72e-77e2-4e05-8a84-a5bded51793b",
   "metadata": {},
   "outputs": [],
   "source": [
    "p=float(input(\"enter the marks\"))\n",
    "c=float(input(\"enter the marks\"))\n",
    "m=float(input(\"enter the marks\"))\n",
    "e=float(input(\"enter the marks\"))\n",
    "h=float(input(\"enter the marks\"))\n",
    "si=p+c+m+e+h\n",
    "per=si*100/500\n",
    "print(\"the percentage is\",per)\n",
    "if per>=60:\n",
    "    print('first div')\n",
    "elif per>=45:\n",
    "    print('secound div')\n",
    "elif per>=35:\n",
    "    print('third div')\n",
    "else:\n",
    "    print('fail')"
   ]
  },
  {
   "cell_type": "code",
   "execution_count": null,
   "id": "910cb130-2459-4ddb-ac84-91a8043a911f",
   "metadata": {},
   "outputs": [],
   "source": [
    "a=int(input(\"enter the number\"))\n",
    "b=int(input(\"enter the number\"))\n",
    "c=int(input(\"enter the number\"))\n",
    "if a>b and a>c:\n",
    "    print(a,\"is greatest\")\n",
    "elif b>a and b>c:\n",
    "    print(b,\"is greatest\")\n",
    "else:\n",
    "    print(c,\"is greatest\")\n"
   ]
  },
  {
   "cell_type": "code",
   "execution_count": null,
   "id": "fdd1283a-3c48-4287-baf8-5f198536f377",
   "metadata": {},
   "outputs": [],
   "source": [
    "a=int(input(\"enter the number\"))\n",
    "b=int(input(\"enter the number\"))\n",
    "c=int(input(\"enter the number\"))\n",
    "if a>b and a>c:\n",
    "    print(a,\"is greatest\")\n",
    "elif b>a and b>c:\n",
    "    print(b,\"is greatest\")\n",
    "else:\n",
    "    print(c,\"is greatest\")\n"
   ]
  },
  {
   "cell_type": "code",
   "execution_count": null,
   "id": "cc10053c-15b9-4d5f-a0c9-95bcc9feb546",
   "metadata": {},
   "outputs": [],
   "source": [
    "loc = 'Store'\n",
    "\n",
    "if loc== ('Auto shop'):\n",
    "    print('cars are cool')\n",
    "elif loc== ('Store'):\n",
    "    print('your welcome')\n",
    "elif loc== ('Bank'):\n",
    "    print('Money is cool')\n",
    "else:\n",
    "    print('I have no idea')\n"
   ]
  },
  {
   "cell_type": "code",
   "execution_count": null,
   "id": "520a5f23-0dc5-4338-a442-ffdccbbda556",
   "metadata": {},
   "outputs": [],
   "source": [
    "ch=input(\"enter the alphabet as \\n r for red \\n g for green \\n y for yellow \\n\")\n",
    "if ch=='r' or ch=='R':\n",
    "    print('stop')\n",
    "elif ch=='g' or ch=='G':\n",
    "    print('move forward')\n",
    "elif ch=='y' or ch=='Y':\n",
    "    print('get ready')\n",
    "else:\n",
    "    print('pay chalaan')"
   ]
  },
  {
   "cell_type": "code",
   "execution_count": null,
   "id": "40536c94-0990-453d-a6ec-6f56d64d459a",
   "metadata": {},
   "outputs": [],
   "source": [
    "ch=input(\"enter the alphabet as \\n r for red \\n g for green \\n y for yellow \\n\")\n",
    "if ch=='r' or ch=='R':\n",
    "    print('stop')\n",
    "elif ch=='y' or ch=='Y':\n",
    "    print('get ready')\n",
    "elif ch=='g' or ch=='G':\n",
    "    print('get ready')\n",
    "else:\n",
    "    print('pay chalaan')"
   ]
  },
  {
   "cell_type": "code",
   "execution_count": null,
   "id": "8d376626-5062-484c-983b-d3740d749267",
   "metadata": {},
   "outputs": [],
   "source": [
    "a=int(input(\"enter the number\"))\n",
    "b=int(input(\"enter the number\"))\n",
    "c=int(input(\"enter the number\"))\n",
    "if a>b and a>c:\n",
    "    print(a,\"is greatest\")\n",
    "elif b>a and b>c:\n",
    "    print(b,\"is greatest\")\n",
    "else:\n",
    "    print(c,\"is greatest\")"
   ]
  },
  {
   "cell_type": "code",
   "execution_count": null,
   "id": "c0badcad-e1ca-44e0-aebc-c7d40c5e2c5f",
   "metadata": {},
   "outputs": [],
   "source": [
    "# runtime value program\n",
    "# we have to input the values of the variable while execution of program \n"
   ]
  },
  {
   "cell_type": "code",
   "execution_count": null,
   "id": "0af96a75-bb36-48b4-b1b1-62055433cc3c",
   "metadata": {},
   "outputs": [],
   "source": [
    "ch=input(\"enter the alphabet as \\n 'r' for red \\n 'g' for green \\n y for yellow \\n\")\n",
    "if ch=='r' or ch=='R':\n",
    "    print('Stop')\n",
    "elif ch=='y' or ch=='Y':\n",
    "    print('Get ready')\n",
    "elif ch=='g' or ch=='G':\n",
    "    print('Move forward')\n",
    "else:\n",
    "    print(\"Pay chalaan\")\n"
   ]
  },
  {
   "cell_type": "code",
   "execution_count": null,
   "id": "e5f8d65f-2952-4d6d-ae5a-40ee0ea98e1c",
   "metadata": {},
   "outputs": [],
   "source": [
    "loc = 'mall'\n",
    "if loc== ('mall'):\n",
    "    print('shopping area')\n",
    "elif loc==('store'):\n",
    "    print('your welcome')\n",
    "elif loc==('bank'):\n",
    "    print('money is cool')\n",
    "else:\n",
    "    print('no idea')"
   ]
  },
  {
   "cell_type": "code",
   "execution_count": null,
   "id": "aa89430c-54b6-4dcb-94d3-5dada915bc2c",
   "metadata": {},
   "outputs": [],
   "source": [
    "age=int(input(\"enter the age\"))\n",
    "if age>=18:\n",
    "    print(\"eligible\")\n",
    "else:\n",
    "    print(\"not eligible\")"
   ]
  },
  {
   "cell_type": "code",
   "execution_count": null,
   "id": "1359c0c0-0afc-4b59-8ab3-fe33b16d0e6a",
   "metadata": {},
   "outputs": [],
   "source": [
    "year = int(input(\"enter the year\"))\n",
    "if year%4==0:\n",
    "    print(\"leap year\")\n",
    "else:\n",
    "    print(\"non leap year\")"
   ]
  },
  {
   "cell_type": "code",
   "execution_count": null,
   "id": "eb438dd3-6ca8-4b32-93c4-d98c4197dc75",
   "metadata": {},
   "outputs": [],
   "source": [
    "age=int(input(\"enter the age\"))\n",
    "if age>=18:\n",
    "    print(\"eligible for vote\")\n",
    "else:\n",
    "    print(\"not eligible for vote\")"
   ]
  },
  {
   "cell_type": "code",
   "execution_count": null,
   "id": "0f07fa5f-fb11-4168-ae5c-c1c026a2765f",
   "metadata": {},
   "outputs": [],
   "source": [
    "year=int(input(\"enter the year\"))\n",
    "if year%4==0:\n",
    "    print(\"leap year\")\n",
    "else:\n",
    "    print(\"non leap year\")\n"
   ]
  },
  {
   "cell_type": "code",
   "execution_count": null,
   "id": "392faea4-6843-4364-a746-97b481907fb0",
   "metadata": {},
   "outputs": [],
   "source": [
    "n=int(input(\"enter the number\"))\n",
    "if n<0:\n",
    "    print(n*(-1))\n",
    "else:\n",
    "    print(n)"
   ]
  },
  {
   "cell_type": "code",
   "execution_count": null,
   "id": "cedaf63c-d130-47bd-8e37-efe8f333e980",
   "metadata": {},
   "outputs": [],
   "source": [
    "n=int(input(\"enter the number\"))\n",
    "if n<0:\n",
    "    print(n*(-1))\n",
    "else:\n",
    "    print(n)"
   ]
  },
  {
   "cell_type": "code",
   "execution_count": null,
   "id": "b6b7b827-4239-4519-98de-a58082cf0661",
   "metadata": {},
   "outputs": [],
   "source": [
    "n=int(input(\"enter the number\"))\n",
    "if n<0:\n",
    "    print(n*(-1))\n",
    "else:\n",
    "    print(n)"
   ]
  },
  {
   "cell_type": "code",
   "execution_count": null,
   "id": "985d47b0-3952-4d5a-8918-4d69811bfb7c",
   "metadata": {},
   "outputs": [],
   "source": [
    "day=int(input(\"enter the number b/w 1--7\"))\n",
    "if day==1:\n",
    "    print(\"SUN\")\n",
    "elif day==2:\n",
    "    print(\"MON\")\n",
    "elif day==3:\n",
    "    print(\"TUE\")\n",
    "elif day==4:\n",
    "    print(\"WED\")\n",
    "elif day==5:\n",
    "    print(\"THUS\")\n",
    "elif day==6:\n",
    "    print(\"FRI\")\n",
    "elif day==7:\n",
    "    print(\"SAT\")\n",
    "else:\n",
    "    print(\"INVALID INVOICE\")"
   ]
  },
  {
   "cell_type": "code",
   "execution_count": null,
   "id": "8ec3e48d-df7f-4f2a-9c32-50eab7499ac2",
   "metadata": {},
   "outputs": [],
   "source": [
    "a=int(input(\"enter the number\"))\n",
    "b=float(input(\"enter the number\"))\n",
    "c=int(input(\"enter the number\"))\n",
    "si=a+b+c/100\n",
    "print(\"the number of\",si)"
   ]
  },
  {
   "cell_type": "code",
   "execution_count": null,
   "id": "dd894a26-f0c3-4702-8762-e9f5ff38f9d9",
   "metadata": {},
   "outputs": [],
   "source": [
    "a=int(input(\"enter the number\"))\n",
    "b=int(input(\"enter the number\"))\n",
    "c=a+b\n",
    "print(\"the number of\",c)"
   ]
  },
  {
   "cell_type": "code",
   "execution_count": null,
   "id": "68a26123-6d40-4d58-b341-5bb1e69b62fc",
   "metadata": {},
   "outputs": [],
   "source": [
    "day=int(input(\"enter the day b/w 1--7\"))\n",
    "if day==1:\n",
    "    print(\"Sun\")\n",
    "elif day==2:\n",
    "    print(\"Mon\")\n",
    "elif day==3:\n",
    "    print(\"Tue\")\n",
    "elif day==4:\n",
    "    print(\"Wed\")\n",
    "elif day==5:\n",
    "    print(\"Thus\")\n",
    "elif day==6:\n",
    "    print(\"Fri\")\n",
    "elif day==7:\n",
    "    print(\"'Sat\")\n",
    "else:\n",
    "    print(\"Invalid Invoice\")\n",
    "        "
   ]
  },
  {
   "cell_type": "code",
   "execution_count": null,
   "id": "3b585971-a4af-4b3f-a607-0507dca74829",
   "metadata": {},
   "outputs": [],
   "source": [
    "n=int(input(\"enter the number\"))\n",
    "if n<0:\n",
    "    print(n*(-1))\n",
    "else:\n",
    "    print(n)"
   ]
  },
  {
   "cell_type": "code",
   "execution_count": null,
   "id": "2de6636a-1f94-438f-8c29-aa73db249684",
   "metadata": {},
   "outputs": [],
   "source": [
    "n=int(input(\"enter the number\"))\n",
    "if n<0:\n",
    "    print(n*(-1))\n",
    "else:\n",
    "    print(n)"
   ]
  },
  {
   "cell_type": "code",
   "execution_count": null,
   "id": "19dd6d73-8dba-4010-a80a-e86f53422cc8",
   "metadata": {},
   "outputs": [],
   "source": [
    "year=int(input(\"enter the year\"))\n",
    "if year%4==0:\n",
    "    print(\"leap year\")\n",
    "else:\n",
    "    print(\"non leap year\")"
   ]
  },
  {
   "cell_type": "code",
   "execution_count": null,
   "id": "2e2b9567-6d9c-4fc9-a36b-b99d99133ff6",
   "metadata": {},
   "outputs": [],
   "source": [
    "age=int(input(\"enter the age\"))\n",
    "if age>=18:\n",
    "    print(\"eligible for vote\")\n",
    "else:\n",
    "    print(\"not eligible for vote\")"
   ]
  },
  {
   "cell_type": "code",
   "execution_count": null,
   "id": "82fa38f0-711a-4e14-978e-565595cf3304",
   "metadata": {},
   "outputs": [],
   "source": [
    "age=int(input(\"enter the age\"))\n",
    "if age>=18:\n",
    "    print(\"eligible for vote\")\n",
    "else:\n",
    "    print(\"not eligible for vote\")"
   ]
  },
  {
   "cell_type": "code",
   "execution_count": null,
   "id": "953aa406-885d-4502-a438-f60d6dec5e7e",
   "metadata": {},
   "outputs": [],
   "source": [
    "ch=input(\"enter the alphabet \\n 'r' for red \\n 'g' for green \\n y for yellow \\n\")\n",
    "if ch=='r' or ch=='R':\n",
    "    print(\"stop\")\n",
    "elif ch=='g' or ch=='G':\n",
    "    print(\"move forward\")\n",
    "elif ch=='y' or ch=='Y':\n",
    "    print(\"get ready\")\n",
    "else:\n",
    "    print(\"pay challan\")"
   ]
  },
  {
   "cell_type": "code",
   "execution_count": null,
   "id": "3602a19a-2131-4970-b250-4a98fb5afa23",
   "metadata": {},
   "outputs": [],
   "source": [
    "ch=input(\"enter the alphabet \\n 'r' for red \\n 'g' for green \\n 'y' for yellow\")\n",
    "if ch=='r' or ch=='R':\n",
    "    print(\"stop\")\n",
    "elif ch=='y' or ch=='Y':\n",
    "    print(\"get ready\")\n",
    "elif ch=='g' or ch=='G':\n",
    "    print(\"move forward\")\n",
    "else:\n",
    "    print(\"pay chalaan\")"
   ]
  },
  {
   "cell_type": "code",
   "execution_count": null,
   "id": "a30606ed-daa8-453a-b2fd-38eb7c43fa0b",
   "metadata": {},
   "outputs": [],
   "source": [
    "a=int(input(\"enter the number\"))\n",
    "b=int(input(\"enter the number\"))\n",
    "c=int(input(\"enter the number\"))\n",
    "if a>b and a>c:\n",
    "    print(a,\"is greatest\")\n",
    "elif b>a and b>c:\n",
    "    print(b,\"is greatest\")\n",
    "else:\n",
    "    print(c,\"is greatest\")"
   ]
  },
  {
   "cell_type": "code",
   "execution_count": null,
   "id": "dcf6e3d0-d13e-4b19-9e05-3d8f21c3a4bf",
   "metadata": {},
   "outputs": [],
   "source": [
    "a=float(input(\"enter the marks\"))\n",
    "b=float(input(\"enter the marks\"))\n",
    "c=float(input(\"enter the marks\"))\n",
    "d=float(input(\"enter the marks\"))\n",
    "e=float(input(\"enter the marks\"))\n",
    "si=a+b+c+d+e\n",
    "per=si*100/500\n",
    "if per>=60:\n",
    "    print(\"first div\")\n",
    "elif per>=45:\n",
    "    print(\"secound div\")\n",
    "elif per>=30:\n",
    "    print(\"third div\")\n",
    "else:\n",
    "    print(\"fail\")"
   ]
  },
  {
   "cell_type": "code",
   "execution_count": null,
   "id": "1894f3f1-2185-4794-9739-1980003ab78b",
   "metadata": {},
   "outputs": [],
   "source": [
    "a=float(input(\"enter the marks\"))\n",
    "b=float(input(\"enter the marks\"))\n",
    "c=float(input(\"enter the marks\"))\n",
    "d=float(input(\"enter the marks\"))\n",
    "e=float(input(\"enter the marks\"))\n",
    "si=a+b+c+d+e\n",
    "per=si*100/500\n",
    "if per>60:\n",
    "    print(\"first div\")\n",
    "elif per>45:\n",
    "    print(\"secound div\")\n",
    "elif per>30:\n",
    "    print(\"third div\")\n",
    "else:\n",
    "    print(\"fail\")"
   ]
  },
  {
   "cell_type": "code",
   "execution_count": null,
   "id": "5be76375-57f3-4bc1-9341-ea0bcb02c59d",
   "metadata": {},
   "outputs": [],
   "source": [
    "if inside if----\n",
    "---------------\n",
    "\n",
    "# greatest among three numbers \n",
    "\n",
    "a=int(input(\"enter the number\"))\n",
    "b=int(input(\"enter the number\"))\n",
    "c=int(input(\"enter the number\"))\n",
    "\n",
    "if a>b:\n",
    "    if a>c:\n",
    "        print(a,\"is greatest\")\n",
    "    else:\n",
    "        print(c,\"is greatest\")\n",
    "else:\n",
    "    b>c:\n",
    "    print(c,\"greatest\")\n"
   ]
  },
  {
   "cell_type": "code",
   "execution_count": null,
   "id": "86fa4aa9-712c-409e-9ee3-7d16a321625c",
   "metadata": {},
   "outputs": [],
   "source": [
    "a=int(input(\"enter the number\"))\n",
    "b=int(input(\"enter the number\"))\n",
    "c=int(input(\"enter the number\"))\n",
    "\n",
    "if a>b:\n",
    "    if a>c:\n",
    "        print(a,\"is greatest\")\n",
    "    else:\n",
    "        print(c,\"is greatest\")\n",
    "else:\n",
    "    if b>c:\n",
    "        print(b,\"is greatest\")\n",
    "    else:\n",
    "        print(c,\"is greatest\")\n",
    "    \n",
    "    "
   ]
  },
  {
   "cell_type": "code",
   "execution_count": null,
   "id": "abc6f9ac-0b9b-45c5-93b4-9681c0e66486",
   "metadata": {},
   "outputs": [],
   "source": [
    "loop statement\n",
    "--------------\n",
    "\n",
    "# while loop --- interview\n",
    "# for loop --- project"
   ]
  },
  {
   "cell_type": "raw",
   "id": "dd49a3ba-6604-42ae-9572-5fc7f490918a",
   "metadata": {},
   "source": [
    "syntax \n",
    "\n",
    "vae_intialization # from where to start\n",
    " while condition: # where to stop\n",
    "     statement / logic \n",
    "      incr / decr"
   ]
  },
  {
   "cell_type": "code",
   "execution_count": null,
   "id": "50510bda-f1be-4ffc-aa6f-11518c1fe688",
   "metadata": {},
   "outputs": [],
   "source": [
    "print your name 10 times"
   ]
  },
  {
   "cell_type": "code",
   "execution_count": null,
   "id": "0a4657bf-6ef2-441a-b3bd-62e57b7e08e8",
   "metadata": {},
   "outputs": [],
   "source": [
    "i=1\n",
    "while i<=10:\n",
    "    print(\"satyam\")\n",
    "    i=i+1"
   ]
  },
  {
   "cell_type": "code",
   "execution_count": null,
   "id": "6213a23c-d59b-48c8-8f8c-ae11363f95bd",
   "metadata": {},
   "outputs": [],
   "source": [
    "print first 10 natural number"
   ]
  },
  {
   "cell_type": "code",
   "execution_count": null,
   "id": "4df72c30-8235-4247-a953-f2f6d5ccc34f",
   "metadata": {},
   "outputs": [],
   "source": [
    "i=1\n",
    "while i<=10:\n",
    "    print(i)\n",
    "    i=i+1"
   ]
  },
  {
   "cell_type": "code",
   "execution_count": null,
   "id": "2d1662ad-72e0-496e-b1cc-673233ccebd9",
   "metadata": {},
   "outputs": [],
   "source": [
    "i=1\n",
    "while i<=10:\n",
    "    print(i,end=\" \")\n",
    "    i=i+1"
   ]
  },
  {
   "cell_type": "code",
   "execution_count": null,
   "id": "2c2690cb-4183-4f63-8192-6b65d5587e52",
   "metadata": {},
   "outputs": [],
   "source": [
    "print the sum first 10 natural number\n",
    "\n",
    "s=s+i\n",
    "s=0+1=1\n",
    "s=1+2=3\n",
    "s=3+3=6\n",
    "s=6+4=10\n",
    "\n",
    "\n",
    "\n",
    "#s=45+10=55"
   ]
  },
  {
   "cell_type": "code",
   "execution_count": null,
   "id": "4d7f223d-ed7d-47bd-8ae1-b595311ad838",
   "metadata": {},
   "outputs": [],
   "source": [
    "i=1\n",
    "s=0\n",
    "while i<=10:\n",
    "    s=s+i\n",
    "    i=i+1\n",
    "\n",
    "print(\"the sum is\",s)"
   ]
  },
  {
   "cell_type": "code",
   "execution_count": null,
   "id": "066e8819-b243-45cf-9ef3-11d2500e6b8b",
   "metadata": {},
   "outputs": [],
   "source": [
    "# print only even numbers from 1--100"
   ]
  },
  {
   "cell_type": "code",
   "execution_count": null,
   "id": "a1434db5-961f-4bfc-9041-8610d15c5fef",
   "metadata": {},
   "outputs": [],
   "source": [
    "i=1\n",
    "while i<=100:\n",
    "    if i%2==0:\n",
    "        print(i,end=\" \")\n",
    "    i=i+1"
   ]
  },
  {
   "cell_type": "code",
   "execution_count": null,
   "id": "bc62c07b-2cff-4911-bdd0-a05f8351b5c8",
   "metadata": {},
   "outputs": [],
   "source": [
    "i=1\n",
    "while i<=100:\n",
    "    if i%2==1:\n",
    "        print(i,end=\" \")\n",
    "    i=i+1"
   ]
  },
  {
   "cell_type": "code",
   "execution_count": null,
   "id": "ca8685a2-ba08-45b9-ba56-10a6b8f9fcf9",
   "metadata": {},
   "outputs": [],
   "source": [
    "i=1\n",
    "while i<=100:\n",
    "    if i%0==0:\n",
    "        print(i,end=\" \")\n",
    "    i=i+1"
   ]
  },
  {
   "cell_type": "code",
   "execution_count": null,
   "id": "0e2d77a2-6ce7-41fb-83c7-b0292945f7ff",
   "metadata": {},
   "outputs": [],
   "source": [
    "# print the sum of even number and odd number separately from 1--100"
   ]
  },
  {
   "cell_type": "code",
   "execution_count": null,
   "id": "0bfa3e20-6ab2-481c-8c4e-13a57e34591e",
   "metadata": {},
   "outputs": [],
   "source": [
    "i=1\n",
    "se=0\n",
    "so=0\n",
    "while i<=100:\n",
    "    if i%2==0:\n",
    "        se=se+i\n",
    "    else:\n",
    "        so=so+i\n",
    "    i=i+1\n",
    "\n",
    "print(\"the sum of even numbers\",se)\n",
    "print(\"the sum of odd numbers\",so)"
   ]
  },
  {
   "cell_type": "code",
   "execution_count": null,
   "id": "dafe3eb5-b195-4d05-b4e0-bafee3687c77",
   "metadata": {},
   "outputs": [],
   "source": [
    "# table of given number"
   ]
  },
  {
   "cell_type": "code",
   "execution_count": null,
   "id": "0a054514-cebc-4363-be5c-2950e1a1c282",
   "metadata": {},
   "outputs": [],
   "source": [
    "n=int(input(\"enter the number\"))\n",
    "i=1\n",
    "while i<=10:\n",
    "    print(n*i)\n",
    "    i=i+1\n"
   ]
  },
  {
   "cell_type": "code",
   "execution_count": null,
   "id": "bab4d4ec-b166-4446-adc7-b14d1de4d90e",
   "metadata": {},
   "outputs": [],
   "source": [
    "n=int(input(\"enter the number\"))\n",
    "i=1\n",
    "while i<=10:\n",
    "    print(n,\"*\",i,\"=\",n*i)\n",
    "    i=i+1"
   ]
  },
  {
   "cell_type": "code",
   "execution_count": null,
   "id": "6aaa7296-214f-47ff-8196-ef4f8c32df19",
   "metadata": {},
   "outputs": [],
   "source": [
    "n=int(input(\"enter the number\"))\n",
    "i=1\n",
    "while i<=n:\n",
    "    if n%i==0:\n",
    "        print(i,end=\" \")\n",
    "    i=i+1"
   ]
  },
  {
   "cell_type": "code",
   "execution_count": null,
   "id": "81243128-aead-4a66-8c45-be488a73a88d",
   "metadata": {},
   "outputs": [],
   "source": [
    "# factorial of a given number "
   ]
  },
  {
   "cell_type": "code",
   "execution_count": null,
   "id": "cd1b3e7a-c60c-401c-a8a8-00b1928f052a",
   "metadata": {},
   "outputs": [],
   "source": [
    "n=int(input(\"enter the number\"))\n",
    "f=1\n",
    "while n>0:\n",
    "    f=f*n\n",
    "    n=n-1\n",
    "\n",
    "print(\"the fectorial is\",f)\n",
    "    "
   ]
  },
  {
   "cell_type": "code",
   "execution_count": null,
   "id": "b2707897-309a-41aa-8700-a2a847102592",
   "metadata": {},
   "outputs": [],
   "source": [
    "n=int(input(\"enter the number\"))\n",
    "f=1\n",
    "while n>0:\n",
    "    f=f*n\n",
    "    n=n-1\n",
    "\n",
    "print(\"the fectorial is\",f)"
   ]
  },
  {
   "cell_type": "code",
   "execution_count": null,
   "id": "c00dabbe-2e2e-4129-acc5-aeecef47ae27",
   "metadata": {},
   "outputs": [],
   "source": [
    "n=int(input(\"enter the number\"))\n",
    "i=1\n",
    "co=0\n",
    "while i<=n:\n",
    "    if n%i==0:\n",
    "        co=co+1\n",
    "    i=i+1\n",
    "\n",
    "if co==2:\n",
    "    print(\"prime number\")\n",
    "else:\n",
    "    print(\"non prime number\")"
   ]
  },
  {
   "cell_type": "code",
   "execution_count": null,
   "id": "1e8419b1-37e4-4b48-9f01-0f91ee38714b",
   "metadata": {},
   "outputs": [],
   "source": [
    "# some of digits of a number \n",
    "\n",
    "# 4534---4+5+3+4=16"
   ]
  },
  {
   "cell_type": "code",
   "execution_count": null,
   "id": "57469957-f6c5-4036-96de-fee41307d94a",
   "metadata": {},
   "outputs": [],
   "source": [
    "n=int(input(\"enter the number\"))\n",
    "s=0\n",
    "while n>0:\n",
    "    rem=n%10\n",
    "    s=s+rem\n",
    "    n=n//10\n",
    "\n",
    "print(\"the sum is\",s)"
   ]
  },
  {
   "cell_type": "code",
   "execution_count": null,
   "id": "4611f917-0d45-4fcf-9a8b-670cbfdfd572",
   "metadata": {},
   "outputs": [],
   "source": [
    "n=4534\n",
    "\n",
    "rem=n%10\n",
    "s=s+rem\n",
    "n=n//10\n",
    "\n",
    "\n",
    "\n",
    "rem=4534%10-----4\n",
    "s=0+4=4\n",
    "n=4534//10---453\n",
    "\n",
    "\n",
    "\n",
    "rem=453%10---3\n",
    "s=4+3=7\n",
    "n=453//10----45\n",
    "\n",
    "\n",
    "rem=45%10----5\n",
    "s=7+5=12\n",
    "n=45//10----4\n",
    "\n",
    "\n",
    "rem=4%10----4\n",
    "s=12+4=16\n",
    "n=4//10--0\n"
   ]
  },
  {
   "cell_type": "code",
   "execution_count": null,
   "id": "e45e0bea-85b9-4e04-8997-f8ce9f828988",
   "metadata": {},
   "outputs": [],
   "source": [
    "# reverse of a number"
   ]
  },
  {
   "cell_type": "code",
   "execution_count": null,
   "id": "6ccd0b2e-b58d-449c-b70f-5640b99865a5",
   "metadata": {},
   "outputs": [],
   "source": [
    "4534--4354"
   ]
  },
  {
   "cell_type": "code",
   "execution_count": null,
   "id": "1767f3c3-565d-432c-b22d-448352830fc1",
   "metadata": {},
   "outputs": [],
   "source": [
    "n=int(input(\"enter the number\"))\n",
    "rev=0\n",
    "while n>0:\n",
    "    rem=n%10\n",
    "    rev=rev*10+rem\n",
    "    n=n//10\n",
    "\n",
    "print(\"the reverse is\",rev)"
   ]
  },
  {
   "cell_type": "code",
   "execution_count": null,
   "id": "3087c0a1-1e90-4e58-9f5a-e8d0b038e3ba",
   "metadata": {},
   "outputs": [],
   "source": [
    "rem=4534%10-----4\n",
    "rev=rev*10+rem\n",
    "n=n//10\n",
    "\n",
    "\n",
    "\n",
    "rem=453%10---3\n",
    "rev=0*10+4=4\n",
    "n=4534//10----45\n",
    "\n",
    "\n",
    "rem=45%10----5\n",
    "rev=4*10+3=43\n",
    "n=45//10----4\n",
    "\n",
    "\n",
    "rem=4%10----4\n",
    "rev=43*10+=4354\n",
    "n=4//10--0"
   ]
  },
  {
   "cell_type": "code",
   "execution_count": null,
   "id": "127ce228-61a9-4cb4-99e9-d104feb3a776",
   "metadata": {},
   "outputs": [],
   "source": [
    "# palindrome number "
   ]
  },
  {
   "cell_type": "code",
   "execution_count": null,
   "id": "12ce26cb-fb80-478c-912e-21fe73411ef0",
   "metadata": {},
   "outputs": [],
   "source": [
    "n=int(input(\"enter the number\"))\n",
    "rev=0\n",
    "n1=n\n",
    "while n>0:\n",
    "    rem=n%10\n",
    "    rev=rev*10+rem\n",
    "    n=n//10\n",
    "\n",
    "if n1==rev:\n",
    "    print(\"palindrome number\")\n",
    "else:\n",
    "    print(\"not palindrome number\")"
   ]
  },
  {
   "cell_type": "code",
   "execution_count": null,
   "id": "28d60645-3770-4987-b238-cbc27bd078b5",
   "metadata": {},
   "outputs": [],
   "source": [
    "# 153----1**3+5**3+3**3---153\n",
    "# 1634---1**$+^**4+3**4+4**4---1634---- (Armstrong number)"
   ]
  },
  {
   "cell_type": "code",
   "execution_count": null,
   "id": "444a9e79-7493-49dc-b29d-d79e914daf51",
   "metadata": {},
   "outputs": [],
   "source": [
    "n=int(input(\"enter the number\"))\n",
    "s=0\n",
    "n1=n\n",
    "\n",
    "while n>0:\n",
    "    rem=n%10\n",
    "    s=s+rem**3\n",
    "    n=n//10\n",
    "\n",
    "if s==n1:\n",
    "    print(\"armstrong number\")\n",
    "else:\n",
    "    print(\"not armstrong\")"
   ]
  },
  {
   "cell_type": "code",
   "execution_count": null,
   "id": "8051188a-9d38-44b9-8632-30ed3fa5be1f",
   "metadata": {},
   "outputs": [],
   "source": [
    "153,370,371,407"
   ]
  },
  {
   "cell_type": "code",
   "execution_count": null,
   "id": "230f6351-a132-4933-96d4-3ebc01f11dfa",
   "metadata": {},
   "outputs": [],
   "source": [
    "# any"
   ]
  },
  {
   "cell_type": "code",
   "execution_count": null,
   "id": "7398438a-d567-4357-b346-4e52aaeafd0b",
   "metadata": {},
   "outputs": [],
   "source": [
    "n=int(input(\"enter the number\"))\n",
    "s=0\n",
    "co=0\n",
    "n1=n\n",
    "n2=n\n",
    "while n>0:\n",
    "    rem=n%10\n",
    "    co=co+1\n",
    "    n=n//10\n",
    "\n",
    "while n1>0:\n",
    "     rem=n1%10\n",
    "     s=s+rem**co\n",
    "     n1=n1//10\n",
    "if s==n2:\n",
    "    print(\"armstrong number\")\n",
    "else:\n",
    "    print(\"not armstrong number\")"
   ]
  },
  {
   "cell_type": "code",
   "execution_count": null,
   "id": "9fc94e9a-a151-4882-8b8e-4edf36e1cec1",
   "metadata": {},
   "outputs": [],
   "source": [
    "for loop"
   ]
  },
  {
   "cell_type": "code",
   "execution_count": null,
   "id": "d9ab8e3c-f807-4e5d-b7e2-35ac26b3a9a9",
   "metadata": {},
   "outputs": [],
   "source": [
    "for i in \"Datascince\":\n",
    "    print(i)\n",
    "for i in [12,23,34,45,56,67]:\n",
    "    print(i)\n",
    "for i in (12,23,34,45,56):\n",
    "    print(i)\n",
    "for i in {12,23,34,45}:\n",
    "    print(i)\n",
    "for i in {\"name\":\"Dev\",\"age\":30}:\n",
    "    print(i)\n",
    "    "
   ]
  },
  {
   "cell_type": "code",
   "execution_count": null,
   "id": "4ee633d5-e5bf-4828-96d6-16d8d24dd154",
   "metadata": {},
   "outputs": [],
   "source": [
    "{\" \":\" \",\" \":12}:---- Dictnory\n",
    "{ }----- Set\n",
    "( )---- Touple"
   ]
  },
  {
   "cell_type": "code",
   "execution_count": null,
   "id": "5ff0602a-6a05-429d-ba13-576deba555d6",
   "metadata": {},
   "outputs": [],
   "source": [
    "# range\n",
    "\n",
    "range(10)---0---9\n",
    "range(1,10)---1----9\n",
    "range(1,100,4)--- 1+5+9+13---"
   ]
  },
  {
   "cell_type": "code",
   "execution_count": null,
   "id": "16991b7b-1cdf-420f-8466-c37ba229c62c",
   "metadata": {},
   "outputs": [],
   "source": [
    "for i in range (10):\n",
    "    print(i,end=\" \")\n"
   ]
  },
  {
   "cell_type": "code",
   "execution_count": null,
   "id": "6664e7b1-e906-46bd-885d-54eff2e5fc08",
   "metadata": {},
   "outputs": [],
   "source": [
    "for i in range (1,10):\n",
    "    print(i,end=\" \")"
   ]
  },
  {
   "cell_type": "code",
   "execution_count": null,
   "id": "bea6bee2-1121-4444-adfe-43380484ac2f",
   "metadata": {},
   "outputs": [],
   "source": [
    "for i in range (1,100,4):\n",
    "    print(i,end=\" \")"
   ]
  },
  {
   "cell_type": "code",
   "execution_count": null,
   "id": "0289f4b4-e32b-46d9-9020-63352d2bb523",
   "metadata": {},
   "outputs": [],
   "source": [
    "for i in range (100,1,-4):\n",
    "    print(i,end=\" \")"
   ]
  },
  {
   "cell_type": "code",
   "execution_count": null,
   "id": "a4627bc2-62da-48e8-81fe-0336520c97be",
   "metadata": {},
   "outputs": [],
   "source": [
    "# print your name 10 times "
   ]
  },
  {
   "cell_type": "code",
   "execution_count": null,
   "id": "d6cc49e7-f476-446e-bd2e-6302891045aa",
   "metadata": {},
   "outputs": [],
   "source": [
    "for i in range (10):\n",
    "    print(\"satyam\")"
   ]
  },
  {
   "cell_type": "code",
   "execution_count": null,
   "id": "9c9bd2e0-dd90-4f62-b536-f0b302e0f162",
   "metadata": {},
   "outputs": [],
   "source": [
    "# print first 10 natural number"
   ]
  },
  {
   "cell_type": "code",
   "execution_count": null,
   "id": "ef03fab8-7174-4c13-9c88-ccd2f8380d22",
   "metadata": {},
   "outputs": [],
   "source": [
    "for i in range(1,11):\n",
    "    print(i,end=\" \")"
   ]
  },
  {
   "cell_type": "code",
   "execution_count": null,
   "id": "55d0a47d-f062-4984-8e4b-a61ab062bc63",
   "metadata": {},
   "outputs": [],
   "source": [
    "for i in range(2,102,2):\n",
    "    print(i,end=\" \")\n"
   ]
  },
  {
   "cell_type": "code",
   "execution_count": null,
   "id": "8d58dc4f-0447-4fa7-9f78-e249066437a0",
   "metadata": {},
   "outputs": [],
   "source": [
    "for i in range(6,106,6):\n",
    "    print(i,end=\" \")"
   ]
  },
  {
   "cell_type": "markdown",
   "id": "6fab435d-bc5b-472f-a870-a5c35b0f7cb1",
   "metadata": {},
   "source": [
    "se=0\n",
    "so=0\n",
    "for i in range(1,101):\n",
    "     if i%2==0:\n",
    "     se=se+i\n",
    "    else:\n",
    "    sp=so+1\n",
    "print(\"sum of the odd number\",odd)\n",
    "print(\"sum of the even numer\",even)\n",
    "\n",
    "\n",
    "\n"
   ]
  },
  {
   "cell_type": "code",
   "execution_count": null,
   "id": "290084f7-f4d6-40bf-ba0c-c4265adee7ab",
   "metadata": {},
   "outputs": [],
   "source": [
    "n=int(input(\"enter the  number\"))\n",
    "for i in range(1,n+1):\n",
    "    if n%i==0:\n",
    "        print(i,end=\" \")\n"
   ]
  },
  {
   "cell_type": "code",
   "execution_count": null,
   "id": "dbd8005a-c17a-4254-97c0-d92f32e187f6",
   "metadata": {},
   "outputs": [],
   "source": [
    "n=int(input(\"enter the number\"))\n",
    "for i in range(1,10):\n",
    "    print(i,\"*\",i,\"=\",n*i)"
   ]
  },
  {
   "cell_type": "code",
   "execution_count": null,
   "id": "00808a11-4ffa-42f4-97c6-f103200d4103",
   "metadata": {},
   "outputs": [],
   "source": [
    "n=int(input(\"enter the number\"))\n",
    "for i in range(1,n+1):\n",
    "    if n%i==0:\n",
    "        co=co+1\n",
    "if co==2:\n",
    "    print(n,\"is prime numnber\")\n",
    "else:\n",
    "    print(n,\"is not a prime number\")"
   ]
  },
  {
   "cell_type": "code",
   "execution_count": null,
   "id": "560bb6e1-0d51-47af-8537-8a0d1f9d0976",
   "metadata": {},
   "outputs": [],
   "source": [
    "a=(1,2,3,4,5,6,7)"
   ]
  },
  {
   "cell_type": "code",
   "execution_count": null,
   "id": "c67a366e-3b0c-4e30-b30e-8a7a074f0740",
   "metadata": {},
   "outputs": [],
   "source": [
    "for i in a:\n",
    "    if i%2==0:\n",
    "        print(i)\n",
    "    else:\n",
    "        print(\"bye\")"
   ]
  },
  {
   "cell_type": "code",
   "execution_count": null,
   "id": "2316a355-99e8-494b-822c-78d4b964ccf2",
   "metadata": {},
   "outputs": [],
   "source": [
    "a=\"hello everyone how are you\"\n",
    "vowel=[\"a\",\"i\",\"e\",\"o\",\"u\"]\n",
    "for i in a:\n",
    "    if i not in vowel:\n",
    "        print(i)"
   ]
  },
  {
   "cell_type": "code",
   "execution_count": null,
   "id": "1aba89d4-5ef7-408c-aa06-4f7ec36996e7",
   "metadata": {},
   "outputs": [],
   "source": [
    "word=\"hello1\"\n",
    "for w in word:\n",
    "    if w==\"l\":\n",
    "        print(\"good one\")\n",
    "\n",
    "else:\n",
    "    print(\"data scince\")"
   ]
  },
  {
   "cell_type": "code",
   "execution_count": null,
   "id": "ca18c9f3-08f4-4b37-b1d6-ade4772da8a5",
   "metadata": {},
   "outputs": [],
   "source": [
    "name=\"satyam\"\n",
    "for i in name:\n",
    "    if i==\"t\":\n",
    "        print(\"that's great\")\n",
    "    print(i)\n",
    "    print(\"hello\")\n",
    "\n",
    "print(i)"
   ]
  },
  {
   "cell_type": "code",
   "execution_count": null,
   "id": "fa0578e9-0d39-40e4-9903-f10505b61ca2",
   "metadata": {},
   "outputs": [],
   "source": [
    "name=\"satyam\"\n",
    "\n",
    "for i in name:\n",
    "    if i==\"y\":\n",
    "        print(\"hii\")\n",
    "    print(i)"
   ]
  },
  {
   "cell_type": "code",
   "execution_count": null,
   "id": "c6322429-a488-42c3-b415-d444d3db0f81",
   "metadata": {},
   "outputs": [],
   "source": [
    "for i in range(11,1000):\n",
    "   n=i\n",
    "   rev=0\n",
    "   while n>0:\n",
    "       rem=n%10\n",
    "       rev=rev*10+rem\n",
    "       n=n//10\n",
    "   if rev==i:\n",
    "        print(i,end=\" \")"
   ]
  },
  {
   "cell_type": "code",
   "execution_count": null,
   "id": "869ba092-a513-4f8a-b6b7-35c436ad68de",
   "metadata": {},
   "outputs": [],
   "source": [
    "for i in range(101,1000):\n",
    "   n=i\n",
    "   s=0\n",
    "   while n>0:\n",
    "       rem=n%10\n",
    "       s=s+rem**3\n",
    "       n=n//10\n",
    "   if s==i:\n",
    "        print(i,end=\" \")"
   ]
  },
  {
   "cell_type": "code",
   "execution_count": null,
   "id": "e17108c9-e68f-4bb2-8f02-ad0b4fce2185",
   "metadata": {},
   "outputs": [],
   "source": [
    "n=int(input(\"enter the number\"))\n",
    "rev=0\n",
    "while n>0:\n",
    "    rem=n%10\n",
    "    rev=rev*10+rem\n",
    "    n=n//10\n",
    "\n",
    "print(\"the reverse is\",rev)\n",
    "    \n"
   ]
  },
  {
   "cell_type": "code",
   "execution_count": null,
   "id": "8d90fe66-df20-42bb-aa07-cdaa1e2a6612",
   "metadata": {},
   "outputs": [],
   "source": [
    "# list "
   ]
  },
  {
   "cell_type": "code",
   "execution_count": null,
   "id": "8b52a8bb-280c-4d5d-9fe7-b169d67831ff",
   "metadata": {},
   "outputs": [],
   "source": [
    "array--- collection of similar data items homogenous\n",
    "\n",
    "sequence data structure--inserting 1,2,3,4,5,etc.\n",
    "hectregenous---- Data ara availabe for more than 1,2 types\n",
    "ordered or indexed--- we can access throung index\n",
    ",\"Mutable\"----we can change after completing \n",
    "identification \n",
    "enclosed in [](\"square bracket)"
   ]
  },
  {
   "cell_type": "code",
   "execution_count": null,
   "id": "4d0ae936-96ba-4115-8e83-2e5816d53c2b",
   "metadata": {},
   "outputs": [],
   "source": [
    "ls=[]\n",
    "print[ls]\n",
    "\n",
    "ls=[12,23,34,45,56]#list of integers\n",
    "print[ls]\n",
    "ls=['a','e','i','o','u']#list of chars or string\n",
    "print[ls]\n",
    "ls=[12,23,56,76] # list of float\n",
    "print[ls]\n",
    "ls=[12,23,34,65,56.\"hello\"] # mixed type\n",
    "print[ls]\n",
    "\n",
    " #by using list constructor"
   ]
  },
  {
   "cell_type": "code",
   "execution_count": null,
   "id": "7533d8e6-0fdd-4062-bdc5-c6af0fd87df5",
   "metadata": {},
   "outputs": [],
   "source": [
    "ls=list(\"HELLO\")\n",
    "print(ls)"
   ]
  },
  {
   "cell_type": "code",
   "execution_count": null,
   "id": "2aae492d-a839-4ba5-a0bb-819e8ee7d80f",
   "metadata": {},
   "outputs": [],
   "source": [
    "ls=list((12,23,3,4))\n",
    "print(ls)"
   ]
  },
  {
   "cell_type": "code",
   "execution_count": null,
   "id": "c632e612-ed05-4fc9-ac05-4bc479921252",
   "metadata": {},
   "outputs": [],
   "source": [
    "Accessing of list Elements  \n",
    "print(ls[0])\n",
    "print(ls[3])\n",
    "\n",
    "when we move left to right index are 0--- onwards \n",
    "but if we move from right to left then index will start from -1\n",
    "\n",
    "print(ls[-3]) #77 "
   ]
  },
  {
   "cell_type": "code",
   "execution_count": null,
   "id": "6622ea50-3179-4922-83b2-abb1b7f65800",
   "metadata": {},
   "outputs": [],
   "source": [
    "ls=[11,22,33,44,55,66,77,88,99]\n",
    "print(ls[0])\n",
    "print(ls[3])\n",
    "print(ls[-3])"
   ]
  },
  {
   "cell_type": "code",
   "execution_count": null,
   "id": "b5ba1450-676d-4e5a-9c43-6321f54e9914",
   "metadata": {},
   "outputs": [],
   "source": [
    "# Accessing in nested list"
   ]
  },
  {
   "cell_type": "code",
   "execution_count": null,
   "id": "44f9cd28-c606-41dc-aeb9-c357df789f17",
   "metadata": {},
   "outputs": [],
   "source": [
    "ls=[12,23,34,45,[67,78,89,98,[98,867,76]],56,[87]]\n",
    "print(ls[3])\n",
    "print(ls[4])\n",
    "print(ls[4][3])\n",
    "print(ls[4][4])\n",
    "print(ls[4][4][1])"
   ]
  },
  {
   "cell_type": "code",
   "execution_count": null,
   "id": "836decf3-376b-4540-aa4a-b5a438ede0d8",
   "metadata": {},
   "outputs": [],
   "source": [
    "ls=[12,34,78,43,[56,54,56,78,[90,87,34]],65,478,[6]]\n",
    "print(ls[3])\n",
    "print(ls[4])\n",
    "print(ls[4][3])\n",
    "print(ls[4][2])\n",
    "print(ls[4][4][1])"
   ]
  },
  {
   "cell_type": "code",
   "execution_count": null,
   "id": "088bd8dd-1079-42a3-9005-0b0f612550ca",
   "metadata": {},
   "outputs": [],
   "source": [
    "ls=[23,23,4,45,65,78,[45,34,32,12,[34,56,43,67]],56,78,90,[56]]\n",
    "print(ls[6])"
   ]
  },
  {
   "cell_type": "code",
   "execution_count": null,
   "id": "370fbefd-d403-43b6-906d-07b8fe9f02cd",
   "metadata": {},
   "outputs": [],
   "source": [
    "ls=[23,23,4,45,65,78,[45,34,32,12,[34,56,43,67]],56,78,90,[56]]\n",
    "print(ls[6][4])"
   ]
  },
  {
   "cell_type": "code",
   "execution_count": null,
   "id": "bbf6ad5b-2ade-434e-8bd6-c5b1f1ffd954",
   "metadata": {},
   "outputs": [],
   "source": [
    "ls=[23,23,4,45,65,78,[45,34,32,12,[34,56,43,67]],56,78,90,[56]]\n",
    "print(ls[6][4])"
   ]
  },
  {
   "cell_type": "code",
   "execution_count": null,
   "id": "8457c7ac-5de8-4085-a3a6-2feb73af91a5",
   "metadata": {},
   "outputs": [],
   "source": [
    "ls=[23,23,4,45,65,78,[45,34,32,12,[34,56,43,67]],56,78,90,[56]]\n",
    "print(ls[6][4][1])"
   ]
  },
  {
   "cell_type": "code",
   "execution_count": null,
   "id": "9b996e9d-29dc-46aa-b62c-f4c69ae86025",
   "metadata": {},
   "outputs": [],
   "source": []
  },
  {
   "cell_type": "code",
   "execution_count": null,
   "id": "ffaaf13e-8e69-4cfd-abf6-f9b550407c1f",
   "metadata": {},
   "outputs": [],
   "source": [
    "ls=[23,23,4,45,65,78,[45,34,32,12,[34,56,43,67]],56,78,90,[56]]\n",
    "print(ls[6][4][3])"
   ]
  },
  {
   "cell_type": "code",
   "execution_count": null,
   "id": "6670d9d7-1093-41e2-9a11-7db783b0cd4f",
   "metadata": {},
   "outputs": [],
   "source": [
    "ls=[12,23,34,45,56,67]\n",
    "print(ls)"
   ]
  },
  {
   "cell_type": "code",
   "execution_count": null,
   "id": "5c2e63b5-2359-4bf0-8b4e-78ac75a97454",
   "metadata": {},
   "outputs": [],
   "source": [
    "# updation-- Replace the value with a numberor word."
   ]
  },
  {
   "cell_type": "code",
   "execution_count": null,
   "id": "7c731f79-81bb-4d19-8989-859e497f65e3",
   "metadata": {},
   "outputs": [],
   "source": [
    "ls[2]=\"Hello\"\n",
    "print(ls)"
   ]
  },
  {
   "cell_type": "code",
   "execution_count": null,
   "id": "21fa2e28-7b8f-4476-a04b-36267ad1ae5b",
   "metadata": {},
   "outputs": [],
   "source": [
    "ls=[12,45,67,89,65,78,90]\n",
    "print(ls)\n",
    "ls[4]=\"SAM\"\n",
    "print(ls)"
   ]
  },
  {
   "cell_type": "code",
   "execution_count": null,
   "id": "9f4f1192-dc16-40c5-831b-29992b7ea4c3",
   "metadata": {},
   "outputs": [],
   "source": [
    "# Slice operation\n",
    "   \":\"\n",
    "ls[3:8] # 3 4 5 6 7--index\n",
    "ls[:8]  # from the begining---7\n",
    "ls[3:]  # start from 3 end to the last\n",
    "ls[:]   # from the begining to last\n",
    "ls[start:end:step]"
   ]
  },
  {
   "cell_type": "code",
   "execution_count": null,
   "id": "1824e41a-c5b6-4043-adc7-dec35e273901",
   "metadata": {},
   "outputs": [],
   "source": [
    " ls=[12,23,34,45,56,67,78,89,98,87]\n",
    "print(ls[3:8])\n",
    "print(ls[:8])\n",
    "print(ls[3:])\n",
    "print(ls[:])\n"
   ]
  },
  {
   "cell_type": "code",
   "execution_count": null,
   "id": "dcff6c3e-ed33-44c7-9ea5-0936cafcb455",
   "metadata": {},
   "outputs": [],
   "source": [
    "ls=[11,34,45,67,78,98,39,87,76,56]\n",
    "print(ls[3:])"
   ]
  },
  {
   "cell_type": "code",
   "execution_count": null,
   "id": "446b8ce6-ea69-4f1b-ac22-5c8f2a9e59a9",
   "metadata": {},
   "outputs": [],
   "source": [
    "ls=[11,34,45,67,78,98,39,87,76,56]\n",
    "print(ls[2:9])"
   ]
  },
  {
   "cell_type": "code",
   "execution_count": null,
   "id": "d886923a-6d8d-4fc5-9b58-b47882fe63d4",
   "metadata": {},
   "outputs": [],
   "source": [
    "ls=[11,34,45,67,78,98,39,87,76,56]\n",
    "print(ls[:9])"
   ]
  },
  {
   "cell_type": "code",
   "execution_count": null,
   "id": "ccc84cc9-284f-4c04-8d03-763581d5b5a9",
   "metadata": {},
   "outputs": [],
   "source": [
    "ls=[11,34,45,67,78,98,39,87,76,56]\n",
    "print(ls[:])"
   ]
  },
  {
   "cell_type": "code",
   "execution_count": null,
   "id": "a3710475-0af9-4a65-a2f5-c3c7ed95a71c",
   "metadata": {},
   "outputs": [],
   "source": [
    "ls=[11,34,45,67,78,98,39,87,76,56]\n",
    "ls[3:7]=[\"i\",\"hate\",\"you\",\"bro\"]\n",
    "print(ls)"
   ]
  },
  {
   "cell_type": "code",
   "execution_count": null,
   "id": "b9d22f7e-9c34-4b4c-b415-79d3e76ad08d",
   "metadata": {},
   "outputs": [],
   "source": [
    "#Delete an Element from the list \n",
    "--------------------------------\n",
    "\n",
    "del\n",
    "\n",
    "pop\n",
    "\n",
    "reomve"
   ]
  },
  {
   "cell_type": "code",
   "execution_count": null,
   "id": "769a30ff-6d71-4598-b69f-a82216d93f5e",
   "metadata": {},
   "outputs": [],
   "source": [
    "\n",
    "\n",
    "print(ls)\n",
    "del ls[4]\n",
    "print(ls)"
   ]
  },
  {
   "cell_type": "code",
   "execution_count": null,
   "id": "4c195f91-8893-41c9-9566-901606ce1fa3",
   "metadata": {},
   "outputs": [],
   "source": [
    "ls=[12,23,34,45,56,67,78,89,98,87]\n",
    "print(ls)\n",
    "del ls[3:8]\n",
    "print(ls)"
   ]
  },
  {
   "cell_type": "code",
   "execution_count": null,
   "id": "dad727ff-2d8c-4f1c-b394-a5d552a33d75",
   "metadata": {},
   "outputs": [],
   "source": [
    "# Pop\n",
    "ls.pop() # Always delete last value \n",
    "print(ls)----#Always delete last value \n"
   ]
  },
  {
   "cell_type": "code",
   "execution_count": null,
   "id": "3a0a389f-e66a-4d0a-a8b5-c8e42b66c412",
   "metadata": {},
   "outputs": [],
   "source": [
    "ls=[12,23,34,45,56,67,78,89,98,87]\n",
    "print(ls)\n",
    "ls.pop(4)\n",
    "print(ls)"
   ]
  },
  {
   "cell_type": "code",
   "execution_count": null,
   "id": "1e3b8f61-f920-4c80-8c4f-511551bc269e",
   "metadata": {},
   "outputs": [],
   "source": [
    "ls=[12,23,34,45,56,67,78,89,98,87]\n",
    "print(ls)\n",
    "ls.pop()"
   ]
  },
  {
   "cell_type": "code",
   "execution_count": null,
   "id": "4e0e1e0b-4bf6-40f2-8419-c8e1e6f3550c",
   "metadata": {},
   "outputs": [],
   "source": [
    "ls=[12,23,34,45,56,67,78,89,98,87]\n",
    "ls.pop()\n",
    "print(ls)"
   ]
  },
  {
   "cell_type": "code",
   "execution_count": null,
   "id": "e24a667f-80bd-4d5c-afcd-f1e940a5f0fe",
   "metadata": {},
   "outputs": [],
   "source": [
    "ls=[12,23,34,45,56,67,78,89,98,87]\n",
    "print(ls)\n",
    "del ls[-1:-4:-1]\n",
    "print(ls)"
   ]
  },
  {
   "cell_type": "code",
   "execution_count": null,
   "id": "840306d7-153a-4bf3-9a0c-c70be7447f22",
   "metadata": {},
   "outputs": [],
   "source": [
    "ls=[12,23,34,45,56,67,78,89,98,87]\n",
    "print(ls)\n",
    "ls.pop()\n",
    "print(ls)"
   ]
  },
  {
   "cell_type": "code",
   "execution_count": null,
   "id": "a2908010-60bf-44d2-9f4c-4878b2bed051",
   "metadata": {},
   "outputs": [],
   "source": [
    "remove()\n",
    "--------\n",
    "by this method we can delete the element by providing value to the method."
   ]
  },
  {
   "cell_type": "code",
   "execution_count": null,
   "id": "5e25f03d-a319-4ed4-99eb-c6737a472894",
   "metadata": {},
   "outputs": [],
   "source": [
    "ls=[12,23,34,45,56,67,78,89,98,87]\n",
    "print(ls)\n",
    "ls.remove(45)\n",
    "print(ls)"
   ]
  },
  {
   "cell_type": "code",
   "execution_count": null,
   "id": "de274b6b-b007-4f54-9aa2-0bfc6f842640",
   "metadata": {},
   "outputs": [],
   "source": [
    "#List methods\n",
    "-------------\n",
    "\n",
    "append()----- it is used to insert an element in the list the element is always inserted at the end of the list"
   ]
  },
  {
   "cell_type": "code",
   "execution_count": null,
   "id": "75bf9fd2-f446-4e97-ad0f-9a42dc317e81",
   "metadata": {},
   "outputs": [],
   "source": [
    "ls=[12,23,34,45,56,67]\n",
    "print(ls)\n",
    "ls.append(\"hello\")\n",
    "print(ls)"
   ]
  },
  {
   "cell_type": "code",
   "execution_count": null,
   "id": "e1759249-0bf5-4a2e-aa4b-9d1268f7b2c2",
   "metadata": {},
   "outputs": [],
   "source": [
    "ls=[12,23,34,45,56,67,78]\n",
    "print(ls)\n"
   ]
  },
  {
   "cell_type": "code",
   "execution_count": null,
   "id": "7becfe7e-8ef9-4b3c-90a1-c6228261303f",
   "metadata": {},
   "outputs": [],
   "source": [
    "# Make list of 10 integers of your choice"
   ]
  },
  {
   "cell_type": "code",
   "execution_count": null,
   "id": "33e9d138-8ebc-4156-a7bf-2ef1918adf26",
   "metadata": {},
   "outputs": [],
   "source": [
    "ls=[]\n",
    "for i in range (10):\n",
    "    n=int(input(\"enter the number\"))\n",
    "    ls.append(n)\n",
    "\n",
    "print(ls)"
   ]
  },
  {
   "cell_type": "code",
   "execution_count": null,
   "id": "e3b36084-d2c5-431c-b816-1077032433ba",
   "metadata": {},
   "outputs": [],
   "source": [
    "ls=[12,23,34,45,56,67,78,89,98,87]\n",
    "for i in range(10):\n",
    "    n=int(input(\"enter the number\"))\n",
    "    ls.append(n)\n",
    "\n",
    "print(ls)"
   ]
  },
  {
   "cell_type": "code",
   "execution_count": null,
   "id": "71579b2d-481e-4b20-b6ad-527ef736aae9",
   "metadata": {},
   "outputs": [],
   "source": [
    "ls_e=[]\n",
    "ls_o=[]\n",
    "for i in ls:\n",
    "    if i%2==0:\n",
    "        ls_e.append(i)\n",
    "    else:\n",
    "        ls_o.append(i)\n",
    "\n",
    "print(\"original list\",ls)\n",
    "print(\"even list\",ls_e)\n",
    "print(\"odd list\",ls_o)\n"
   ]
  },
  {
   "cell_type": "code",
   "execution_count": null,
   "id": "6a0ddafe-f308-44fd-b4c5-fbb500605ae8",
   "metadata": {},
   "outputs": [],
   "source": [
    "ls_e=[]\n",
    "ls_o=[]\n",
    "for i in ls:\n",
    "    if i%2==0:\n",
    "        ls_e.append(i)\n",
    "    else:\n",
    "        ls_o.append(i)\n",
    "\n",
    "print(\"original lis\",ls)\n",
    "print(\"even list\",ls_e)\n",
    "print(\"odd list\",ls_o)"
   ]
  },
  {
   "cell_type": "code",
   "execution_count": null,
   "id": "93c24a61-6bb5-4d60-9a5a-33bd4b4521a2",
   "metadata": {},
   "outputs": [],
   "source": [
    "# Max element in the list"
   ]
  },
  {
   "cell_type": "code",
   "execution_count": null,
   "id": "16f3bc31-3c04-4e35-9172-c580f5d393a9",
   "metadata": {},
   "outputs": [],
   "source": [
    "ls=[]\n",
    "for i in range(5):\n",
    "    n=int(input(\"enter the number\"))\n",
    "    ls.append(n)\n",
    "\n",
    "print(\"the max element is\",max(ls))"
   ]
  },
  {
   "cell_type": "code",
   "execution_count": null,
   "id": "a71aa213-0481-41ad-b3b8-8395c179da25",
   "metadata": {},
   "outputs": [],
   "source": [
    "ls=[]\n",
    "for i in range (6):\n",
    "    n=int(input(\"enter the number\"))\n",
    "    ls.append(n)\n",
    "\n",
    "print(\"the max element is\",max(ls))"
   ]
  },
  {
   "cell_type": "code",
   "execution_count": null,
   "id": "2e0ab384-135c-476e-84bd-1bc6b01cf83c",
   "metadata": {},
   "outputs": [],
   "source": [
    "ls=[]\n",
    "for i in range(3):\n",
    "    n=int(input(\"enter the number\"))\n",
    "    ls.append(n)\n",
    "\n",
    "print(\"the max element is\",max(ls))"
   ]
  },
  {
   "cell_type": "code",
   "execution_count": null,
   "id": "8f96bfec-da67-476d-b1f8-8fa0c8e81476",
   "metadata": {},
   "outputs": [],
   "source": [
    "ls=[]\n",
    "for i in range(2):\n",
    "    n=int(input(\"enter the number\"))\n",
    "    ls.append(n)\n",
    "\n",
    "print(\"the max element is\",max(ls))"
   ]
  },
  {
   "cell_type": "code",
   "execution_count": null,
   "id": "a7e010bb-3153-47db-915f-5e74fdc7c125",
   "metadata": {},
   "outputs": [],
   "source": [
    "ls=[]\n",
    "for i in range(2):\n",
    "    n=int(input(\"enter the number\"))\n",
    "    ls.append(n)\n",
    "\n",
    "print(\"the max element is\",max(ls))"
   ]
  },
  {
   "cell_type": "code",
   "execution_count": null,
   "id": "01c7aba4-cb35-4cd9-bc02-7e7a2acf00b3",
   "metadata": {},
   "outputs": [],
   "source": [
    "big=ls[0]\n",
    "for i in ls:\n",
    "    if i>big:\n",
    "        big=i\n",
    "print(ls)\n",
    "print(big)"
   ]
  },
  {
   "cell_type": "code",
   "execution_count": null,
   "id": "3ca003bf-40d8-4f46-91dc-e71c84acb849",
   "metadata": {},
   "outputs": [],
   "source": [
    "# Extend\n",
    "--------\n",
    "\n",
    "It is used to insert more than one element in the list at a time.\n",
    "Element are always inserted at the end of the list,\n"
   ]
  },
  {
   "cell_type": "code",
   "execution_count": null,
   "id": "58658615-9f65-40a6-a799-398b077c781d",
   "metadata": {},
   "outputs": [],
   "source": [
    "ls=[12,23,34,45,56]\n",
    "print(ls)\n",
    "ls.extend([67,78,87])\n",
    "print(ls)"
   ]
  },
  {
   "cell_type": "code",
   "execution_count": null,
   "id": "321d7f44-6427-42a2-941b-df1da6bfe2dd",
   "metadata": {},
   "outputs": [],
   "source": [
    "a=[1,2,3,4]\n",
    "b=[2,5,7,8]\n",
    "print(a+b)"
   ]
  },
  {
   "cell_type": "code",
   "execution_count": null,
   "id": "d859aa50-38c3-4b21-b960-6ae0628facca",
   "metadata": {},
   "outputs": [],
   "source": [
    "a=[1,2,3,4]\n",
    "b=[2,5,7,8]\n",
    "print(a+b)\n",
    "\n",
    "a.extend(b)\n",
    "print(a)"
   ]
  },
  {
   "cell_type": "code",
   "execution_count": null,
   "id": "05d2deb9-77e4-4917-857b-ac435ecd93ba",
   "metadata": {},
   "outputs": [],
   "source": [
    "inset() "
   ]
  },
  {
   "cell_type": "code",
   "execution_count": null,
   "id": "2aca8e12-521d-421d-9894-26e9917dbb8e",
   "metadata": {},
   "outputs": [],
   "source": [
    "insert is element in the list at desired index \n",
    "\n",
    "ls.insert (index,element)"
   ]
  },
  {
   "cell_type": "code",
   "execution_count": null,
   "id": "af254f60-f6ab-44ef-9f52-29d3ff2ce0b2",
   "metadata": {},
   "outputs": [],
   "source": [
    "ls=[12,23,34,45,56]\n",
    "print(ls)\n",
    "ls.insert(3,\"Hello\")\n",
    "print(ls)"
   ]
  },
  {
   "cell_type": "code",
   "execution_count": null,
   "id": "e79b20ec-e90e-4f7c-bb76-9061b1b148c0",
   "metadata": {},
   "outputs": [],
   "source": [
    "copy()"
   ]
  },
  {
   "cell_type": "code",
   "execution_count": null,
   "id": "459b5d84-b62e-4561-b0da-9afc82cf27fb",
   "metadata": {},
   "outputs": [],
   "source": [
    "x=[12,23,34,45]\n",
    "y=x\n",
    "print(x)\n",
    "print(y)\n",
    "y[2]=\"satyam\"\n",
    "print(x)\n",
    "print(y)"
   ]
  },
  {
   "cell_type": "code",
   "execution_count": null,
   "id": "4361e630-b672-43e5-adad-8303219767b0",
   "metadata": {},
   "outputs": [],
   "source": [
    "x=[12,23,34,45]\n",
    "y=x\n",
    "print(id(x))\n",
    "print(id(y))\n",
    "y[2]=\"satyam\"\n",
    "print(x)\n",
    "print(y)"
   ]
  },
  {
   "cell_type": "code",
   "execution_count": null,
   "id": "b708d600-2d77-4ecc-aa4e-d30bfdad0f4f",
   "metadata": {},
   "outputs": [],
   "source": [
    "x=[12,23,34,45]\n",
    "y=x.copy()\n",
    "print(id(x))\n",
    "print(id(y))"
   ]
  },
  {
   "cell_type": "code",
   "execution_count": null,
   "id": "bef5e636-d2ca-4056-972c-fb288c1facc9",
   "metadata": {},
   "outputs": [],
   "source": [
    "x=[12,23,34,45]\n",
    "y=x.copy()\n",
    "print(id(x))\n",
    "print(id(y))\n",
    "x[3]=\"SAM\"\n",
    "print(x)\n",
    "print(y)"
   ]
  },
  {
   "cell_type": "code",
   "execution_count": null,
   "id": "34cb121a-ae51-42eb-8bae-2a723135a864",
   "metadata": {},
   "outputs": [],
   "source": [
    "the list can alsom copied using=operator, which points to the same onject as the original. so if any changes is made in the copied list will also reflect in the original dictonary."
   ]
  },
  {
   "cell_type": "code",
   "execution_count": null,
   "id": "b10fcf7e-8e94-4aea-9c64-3b41ae561b9d",
   "metadata": {},
   "outputs": [],
   "source": [
    "#clear ()\n",
    "\n",
    "return empty list "
   ]
  },
  {
   "cell_type": "code",
   "execution_count": null,
   "id": "1780f134-7209-465a-afc6-5e637fc3a9f0",
   "metadata": {},
   "outputs": [],
   "source": [
    "ls=[12,23,34,45]\n",
    "print(ls)\n",
    "ls.clear()\n",
    "print(ls)"
   ]
  },
  {
   "cell_type": "code",
   "execution_count": null,
   "id": "fabcd400-78e7-4911-bb71-405dccb7d1d6",
   "metadata": {},
   "outputs": [],
   "source": [
    "count()\n",
    "\n",
    "it returns the frequency of the elemnet in the list"
   ]
  },
  {
   "cell_type": "code",
   "execution_count": null,
   "id": "f4fcdaf4-4f80-49dc-90e4-d15fcf48b116",
   "metadata": {},
   "outputs": [],
   "source": [
    "ls=[12,23,34,45,56,67,23,34,45]\n",
    "print(ls)\n",
    "x=ls.count(23)\n",
    "print(x)"
   ]
  },
  {
   "cell_type": "code",
   "execution_count": null,
   "id": "5cd31fa2-aa9d-4165-816f-fb9cd1fa849b",
   "metadata": {},
   "outputs": [],
   "source": [
    "ls=[12,23,34,45,56,67,23,34,45]\n",
    "print(ls)\n",
    "ls1=[]\n",
    "for i in ls:  (i=insert)\n",
    "    if i not in ls1:\n",
    "        ls1.append(i)\n",
    "\n",
    "print(ls)\n",
    "print(ls1)"
   ]
  },
  {
   "cell_type": "code",
   "execution_count": null,
   "id": "c1b66217-5c9a-4c0d-952a-6eba9f197740",
   "metadata": {},
   "outputs": [],
   "source": [
    "ls=[12,23,34,45,56,67,23,34,45]\n",
    "print(ls)\n",
    "ls1=[]  \n",
    "for i in ls:    \n",
    "    if i not in ls1:\n",
    "        ls1.append(i)\n",
    "\n",
    "print(ls)\n",
    "print(ls1)\n",
    "\n",
    "for i in ls1:\n",
    "    print(i,\"is repeated for\",ls.count(i),\"times\")"
   ]
  },
  {
   "cell_type": "code",
   "execution_count": null,
   "id": "eb4af3c9-c7d8-4729-9be0-ef1d86bb7d08",
   "metadata": {},
   "outputs": [],
   "source": [
    "ls=[12,23,34,45,56,67,23,34,45]\n",
    "print(ls)\n",
    "ls1=list(set(ls))\n",
    "print(ls1)\n"
   ]
  },
  {
   "cell_type": "code",
   "execution_count": null,
   "id": "4621595d-9a0c-486a-a28d-6c23a45c0df7",
   "metadata": {},
   "outputs": [],
   "source": [
    "index ()\n",
    "\n",
    "- it returns the index of first occurrence of the element in the list.\n"
   ]
  },
  {
   "cell_type": "code",
   "execution_count": null,
   "id": "a0101c4c-a4d7-46a3-bf22-6e75b048edf2",
   "metadata": {},
   "outputs": [],
   "source": [
    "ls=[12,23,34,45,34]\n",
    "print(ls)\n",
    "x=ls.index(23)\n",
    "print(x)"
   ]
  },
  {
   "cell_type": "code",
   "execution_count": null,
   "id": "582a29a5-5896-4a98-bf19-24099beea6a4",
   "metadata": {},
   "outputs": [],
   "source": [
    "ls=[12,23,34,45,34]\n",
    "for i in ls:\n",
    "    x=ls.count(i)\n",
    "    if x>0:\n",
    "        print(ls.index(i))"
   ]
  },
  {
   "cell_type": "code",
   "execution_count": null,
   "id": "7f1305a8-78d2-4ee7-bca1-a1609895645f",
   "metadata": {},
   "outputs": [],
   "source": [
    "# sort\n",
    "\n",
    "arrange the element of ascending or descending order "
   ]
  },
  {
   "cell_type": "code",
   "execution_count": null,
   "id": "7985464c-0c9e-4b3c-bc39-a57d694e63d1",
   "metadata": {},
   "outputs": [],
   "source": [
    "ls=[12,23,21,34,23,56,45,67,65]\n",
    "print(ls)\n",
    "ls.sort()\n",
    "print(ls)"
   ]
  },
  {
   "cell_type": "code",
   "execution_count": null,
   "id": "71ac96a4-8c03-42f3-b9b0-5e411daa3c2c",
   "metadata": {},
   "outputs": [],
   "source": [
    "ls=[12,23,21,34,23,56,45,67,65]\n",
    "print(ls)\n",
    "ls.sort(reverse=True)\n",
    "print(ls)"
   ]
  },
  {
   "cell_type": "code",
   "execution_count": null,
   "id": "d5349b37-6b75-44f1-9454-6a5c55d381b6",
   "metadata": {},
   "outputs": [],
   "source": [
    "# reverse \n",
    "\n",
    "it prints the list in reverse order "
   ]
  },
  {
   "cell_type": "code",
   "execution_count": null,
   "id": "483e944d-0430-4305-9261-d08b4e6465e1",
   "metadata": {},
   "outputs": [],
   "source": [
    "ls=[12,23,21,34,23,56,45,67,65]\n",
    "print(ls)\n",
    "ls.reverse()\n",
    "print(ls)"
   ]
  },
  {
   "cell_type": "code",
   "execution_count": null,
   "id": "3ecbc3db-fb7d-435f-b4bc-46e0a1e011bb",
   "metadata": {},
   "outputs": [],
   "source": [
    "ls=[12,23,21,34,23,56,45,67,65]\n",
    "print(ls)\n",
    "ls.reverse()\n",
    "print(ls[: :-1])"
   ]
  },
  {
   "cell_type": "code",
   "execution_count": null,
   "id": "c584b1b2-d3bc-45f4-8bcd-a53732e0ad81",
   "metadata": {},
   "outputs": [],
   "source": [
    "L=[\"Amit\",\"supriya\",\"satyam\",\"golu\"]\n",
    "print(L*2)"
   ]
  },
  {
   "cell_type": "code",
   "execution_count": null,
   "id": "48fac1af-c36a-4320-a8b6-fddfa2d1f77e",
   "metadata": {},
   "outputs": [],
   "source": [
    "L=[0.5*x for x in range (4)]\n",
    "print(L)"
   ]
  },
  {
   "cell_type": "code",
   "execution_count": null,
   "id": "3e031b47-b910-40fe-b9b0-4031a9022c62",
   "metadata": {},
   "outputs": [],
   "source": [
    "L=['a'*x for x in range(4)]\n",
    "print(L)"
   ]
  },
  {
   "cell_type": "code",
   "execution_count": null,
   "id": "d8e24ad5-3763-4a5e-9222-6b43378685a4",
   "metadata": {},
   "outputs": [],
   "source": [
    "L=[1*x for x in range(10,1,-4)]\n",
    "print(L)"
   ]
  },
  {
   "cell_type": "code",
   "execution_count": null,
   "id": "1c2bce69-ac3e-4402-9a3f-2a2f4cd14fb5",
   "metadata": {},
   "outputs": [],
   "source": [
    "T=[1,2,3,4]\n",
    "T1=[5,6,7]\n",
    "L=T.append(T1)\n",
    "print(L)"
   ]
  },
  {
   "cell_type": "code",
   "execution_count": null,
   "id": "a140e433-935c-4663-bf7f-19718583ba45",
   "metadata": {},
   "outputs": [],
   "source": [
    "L=[1,5,9]\n",
    "print(sum(L)+max(L)-min(L))"
   ]
  },
  {
   "cell_type": "code",
   "execution_count": null,
   "id": "d5306eba-2a73-4996-a67c-40ad598aceb7",
   "metadata": {},
   "outputs": [],
   "source": [
    " ls=[12,23,34,45,56,[56,54,43,56],43,32,11,[45]]\n",
    "print(ls[2])"
   ]
  },
  {
   "cell_type": "code",
   "execution_count": null,
   "id": "231ecff8-1085-4bff-9e39-74b7f62eb493",
   "metadata": {},
   "outputs": [],
   "source": [
    " ls=[12,23,34,45,56,[56,54,43,56],43,32,11,[45]]\n",
    "print(ls[3])\n",
    "ls.insert(4,\"Hello\")\n",
    "print(ls)"
   ]
  },
  {
   "cell_type": "code",
   "execution_count": null,
   "id": "c88231cb-7ddc-492d-b3b7-321056302587",
   "metadata": {},
   "outputs": [],
   "source": [
    " ls=[12,23,34,45,56,[56,54,43,56],43,32,11,[45]]\n",
    "print(ls[5])\n",
    "print(ls[5][3])\n",
    "print(ls[5][2])"
   ]
  },
  {
   "cell_type": "code",
   "execution_count": null,
   "id": "e3e2903c-48d3-456d-b373-9192bae14c9f",
   "metadata": {},
   "outputs": [],
   "source": [
    "i=1\n",
    "se=0\n",
    "so=0\n",
    "while i<=100:\n",
    "    if i%2==0:\n",
    "        se=se+i\n",
    "    else:\n",
    "        so=so+i\n",
    "    i=i+1\n",
    "\n",
    "print(\"the sum of even numbers\",se)\n",
    "print(\"the sum of odd numbers\",so)"
   ]
  },
  {
   "cell_type": "markdown",
   "id": "0c58aef2-a710-4314-a5de-14897b2b142e",
   "metadata": {},
   "source": [
    "Python - String\n",
    "In Python, string is an immutable sequence data type. It is the sequence of Unicode characters wrapped inside single, double, or triple quotes."
   ]
  },
  {
   "cell_type": "markdown",
   "id": "6be315d7-a55e-42f5-b33a-54a170966488",
   "metadata": {},
   "source": [
    "'This is a string in Python' # string in single quotes\n",
    "\"This is a string in Python\" # string in double quotes\n",
    "'''This is a string in Python''' # string in triple quotes\n",
    "\"\"\"This is a string in Python\"\"\" # string in triple double-quotes"
   ]
  },
  {
   "cell_type": "markdown",
   "id": "2a16d321-b67c-4996-a951-3c52552d897b",
   "metadata": {},
   "source": [
    "The string is an immutable object. Hence, it is not possible to modify it. The attempt to assign different characters at a certain index results in errors."
   ]
  },
  {
   "cell_type": "markdown",
   "id": "ab77579b-ca3f-458e-9b88-1fd567dc2be7",
   "metadata": {},
   "source": [
    "immutable - we cannot change in string a particular word.(Alpha numerical code)"
   ]
  },
  {
   "cell_type": "code",
   "execution_count": null,
   "id": "bb87e810-5569-49f7-8987-23fc7223f7c3",
   "metadata": {},
   "outputs": [],
   "source": [
    "str1='This is the string python'\n",
    "print(str1)"
   ]
  },
  {
   "cell_type": "code",
   "execution_count": null,
   "id": "418b7f4d-bed5-42a1-88dc-36b6f589d4c6",
   "metadata": {},
   "outputs": [],
   "source": [
    "str2=\"This is the string python\"\n",
    "print(str2)"
   ]
  },
  {
   "cell_type": "code",
   "execution_count": null,
   "id": "bd623295-b2ea-4947-8e72-284615341751",
   "metadata": {},
   "outputs": [],
   "source": [
    "str3='''this is \n",
    "the first \n",
    "multi-line string'''\n",
    "print(str3)"
   ]
  },
  {
   "cell_type": "code",
   "execution_count": null,
   "id": "b697097f-82e1-4440-8fb5-ae1bee218448",
   "metadata": {},
   "outputs": [],
   "source": [
    "str2=\"\"\"this is \n",
    "the first \n",
    "multi-line string\"\"\"\n",
    "print(str2)"
   ]
  },
  {
   "cell_type": "markdown",
   "id": "b0a14ea7-7181-40a3-a93c-8e02af637032",
   "metadata": {},
   "source": [
    "A sequence is defined as an ordered collection of items. Hence, a string is an ordered collection of characters. The sequence uses an index, starting with zero to fetch a certain item (a character in case of a string) from it."
   ]
  },
  {
   "cell_type": "code",
   "execution_count": null,
   "id": "5e9ba3ba-6ca8-45cd-a76c-bd54d75e37a7",
   "metadata": {},
   "outputs": [],
   "source": [
    "greet='hello'\n",
    "print(greet[0])\n",
    "print(greet[1])\n",
    "print(greet[2])\n",
    "print(greet[3])\n",
    "print(greet[4])\n",
    "print(greet[5])\n"
   ]
  },
  {
   "cell_type": "code",
   "execution_count": null,
   "id": "17dae199-2a0d-476a-aadb-787bf6861beb",
   "metadata": {},
   "outputs": [],
   "source": [
    "greet='hello'\n",
    "print(greet[-5])\n",
    "print(greet[-4])\n",
    "print(greet[-3])\n",
    "print(greet[-2])\n",
    "print(greet[-1])\n",
    "print(greet[-0])\n"
   ]
  },
  {
   "cell_type": "markdown",
   "id": "55d0ef9e-47c2-4b1f-836f-b0753440ab1e",
   "metadata": {},
   "source": [
    "The string is an immutable object. Hence, it is not possible to modify it. The attempt to assign different characters at a certain index results in errors."
   ]
  },
  {
   "cell_type": "code",
   "execution_count": null,
   "id": "66d039a7-a249-42e5-95b3-9c8ce9a889b5",
   "metadata": {},
   "outputs": [],
   "source": [
    "This program is for \"error\" the below"
   ]
  },
  {
   "cell_type": "code",
   "execution_count": null,
   "id": "68b2456f-7652-4a6d-a7da-afe4087a623e",
   "metadata": {},
   "outputs": [],
   "source": [
    "greet='hello'\n",
    "print(greet)"
   ]
  },
  {
   "cell_type": "code",
   "execution_count": null,
   "id": "c1b03b9a-e6f3-4723-8628-49e4cb4f8a15",
   "metadata": {},
   "outputs": [],
   "source": [
    "greet=\"hallo\"\n",
    "greet=\"a\"\n",
    "print(greet)"
   ]
  },
  {
   "cell_type": "code",
   "execution_count": null,
   "id": "5d7be457-13be-424e-b96a-e0cd65e1b10a",
   "metadata": {},
   "outputs": [],
   "source": [
    "greet='hello'\n",
    "greet[0]='A'\n",
    "print(greet)"
   ]
  },
  {
   "cell_type": "code",
   "execution_count": null,
   "id": "09932e01-d5dc-4b16-997e-105c5fb77ee0",
   "metadata": {},
   "outputs": [],
   "source": [
    "str()\n",
    "s=str(100)\n",
    "print(type(s))"
   ]
  },
  {
   "cell_type": "code",
   "execution_count": null,
   "id": "71f8835b-9b44-4737-abba-55c62f64915b",
   "metadata": {},
   "outputs": [],
   "source": [
    "s=str(-10)\n",
    "print(s)"
   ]
  },
  {
   "cell_type": "code",
   "execution_count": null,
   "id": "5aa2e63f-cd70-4cbf-984c-97511ca3d45f",
   "metadata": {},
   "outputs": [],
   "source": [
    "s=str(True)\n",
    "print(s)"
   ]
  },
  {
   "cell_type": "markdown",
   "id": "067fc03e-eb06-42ca-a6e3-b4a0787f3ac2",
   "metadata": {},
   "source": [
    "Python capitalize() Method\n",
    "The capitalize() method returns the copy of the string with its first character capitalized and the rest of the letters lowercased.\n",
    "\n",
    "\n",
    "Syntax:\n",
    "string.capitalize()\n",
    "\n",
    "\n",
    "it won't change orignal it just only modify the frist letter of sentence rest of the letters is lowercased"
   ]
  },
  {
   "cell_type": "code",
   "execution_count": null,
   "id": "11b53eee-e0fd-42c8-b1ce-0e9158eb86d8",
   "metadata": {},
   "outputs": [],
   "source": [
    "b='by delhi'\n",
    "print('New string:',b.capitalize())"
   ]
  },
  {
   "cell_type": "code",
   "execution_count": null,
   "id": "0af367f6-f200-48f6-a571-3c0d972b110c",
   "metadata": {},
   "outputs": [],
   "source": [
    "c='love you bhai'\n",
    "print('New string:',c.capitalize())"
   ]
  },
  {
   "cell_type": "code",
   "execution_count": null,
   "id": "0062d2d3-14bc-4e74-81e6-0d29f0d91ec8",
   "metadata": {},
   "outputs": [],
   "source": [
    "a='hello world'\n",
    "print('New string:',a.capitalize())"
   ]
  },
  {
   "cell_type": "code",
   "execution_count": null,
   "id": "c7295913-a7c0-4353-8f56-cdb44ee0225d",
   "metadata": {},
   "outputs": [],
   "source": [
    "a='hello world'\n",
    "print('New string:',a.capitalize())"
   ]
  },
  {
   "cell_type": "markdown",
   "id": "50cfab15-4cba-4f48-b7ef-bcdb0cbfb567",
   "metadata": {},
   "source": [
    "Python String count() Method\n",
    "The count() method searches (case-sensitive) the specified substring in the given string and returns an integer indicating occurrences of the substring. By default, the counting begins from 0 index till the end of the string.\n",
    "\n",
    "\n",
    "it's a case-sensitive means if we search small so it will only run small \n",
    "same as if we run capital letter \n",
    "\n",
    "\n",
    "Syntax = mystr=('')\n",
    "        \n",
    "        \n",
    "        total=mystr.count(''0\n"
   ]
  },
  {
   "cell_type": "code",
   "execution_count": null,
   "id": "25d39115-0abe-4a8d-b92b-1de4c9291a7c",
   "metadata": {},
   "outputs": [],
   "source": [
    "mystr='My brother is the best broter in the world'\n",
    "total=mystr.count('brother')\n",
    "print('Number of occurance of\"brother\":',total)"
   ]
  },
  {
   "cell_type": "code",
   "execution_count": null,
   "id": "7b899a9f-6c89-4281-b4b1-68c4a3b88c00",
   "metadata": {},
   "outputs": [],
   "source": [
    "mystr='i love my family'\n",
    "total=mystr.count('family')\n",
    "print('Number of occurance of\"family\":',total)"
   ]
  },
  {
   "cell_type": "code",
   "execution_count": null,
   "id": "baff1a08-a46f-4df3-a7c0-b690f1ce3220",
   "metadata": {},
   "outputs": [],
   "source": [
    "mystr='Madrid is the best software for data scince and learning'\n",
    "total=mystr.count('Madrid')\n",
    "print('Number of occurrences of \"Madrid\":',total)"
   ]
  },
  {
   "cell_type": "code",
   "execution_count": null,
   "id": "b35b352b-41a9-43da-a7fa-af2de4b67b7d",
   "metadata": {},
   "outputs": [],
   "source": [
    "mystr='Madrid is the best software for data scince and learning'\n",
    "total=mystr.count('Madrid')\n",
    "print('Number of occurrences of \"madrid\":',total)"
   ]
  },
  {
   "cell_type": "markdown",
   "id": "5d47557d-e125-4ad8-a594-8fe23af749c1",
   "metadata": {},
   "source": [
    "Python String endswith() Method\n",
    "The endswith() function returns True if a string ends with the specified suffix (case-sensitive), otherwise returns False."
   ]
  },
  {
   "cell_type": "code",
   "execution_count": null,
   "id": "a14bf028-55af-49ee-973f-08cd4872a597",
   "metadata": {},
   "outputs": [],
   "source": [
    "True = voliane   (Value)\n",
    "False = voliane"
   ]
  },
  {
   "cell_type": "code",
   "execution_count": null,
   "id": "e2d239d6-3f8d-48d5-992b-043481307682",
   "metadata": {},
   "outputs": [],
   "source": [
    "mystr='i hate you'\n",
    "print(mystr.endswith('you'))\n",
    "print(mystr.endswith('i'))"
   ]
  },
  {
   "cell_type": "code",
   "execution_count": null,
   "id": "b8c61a44-9446-4808-8ce2-a4c1c234ccba",
   "metadata": {},
   "outputs": [],
   "source": [
    "mystr='Pythone is programming language'\n",
    "print(mystr.endswith('.'))\n",
    "print(mystr.endswith('age.'))\n",
    "print(mystr.endswith('language.'))\n",
    "print(mystr.endswith('programming language.'))\n",
    "print(mystr.endswith('age'))\n",
    "                "
   ]
  },
  {
   "cell_type": "markdown",
   "id": "f19988c9-124b-4605-a1e0-8a650b4c7b1c",
   "metadata": {},
   "source": [
    "Python String find() Method\n",
    "The find() method returns the index of the first occurence of a substring in the given string (case-sensitive). If the substring is not found it returns -1."
   ]
  },
  {
   "cell_type": "code",
   "execution_count": null,
   "id": "d4c59ee6-4daf-42bc-8a23-cb2539c95cb8",
   "metadata": {},
   "outputs": [],
   "source": [
    "greet='Satya Singh'\n",
    "print(\"Index of 'S':\",greet.find('S'))\n",
    "print(\"Index of 'A':\",greet.find('A'))"
   ]
  },
  {
   "cell_type": "code",
   "execution_count": null,
   "id": "04ea2625-2a4b-4293-99e5-5360c4f115ef",
   "metadata": {},
   "outputs": [],
   "source": [
    "greet='Hello world'\n",
    "print(\"Index of 'H':\",greet.find('H'))\n",
    "print(\"Index of 'h':\",greet.find('h'))\n",
    "print(\"Index of 'e:\",greet.find('e'))\n",
    "print(\"Index of 'World':\",greet.find('World'))"
   ]
  },
  {
   "cell_type": "markdown",
   "id": "33757102-d77d-4e95-8502-d9220eb37b9c",
   "metadata": {},
   "source": [
    "Python String index() Method\n",
    "The index() method returns the index of the first occurence of a substring in the given string. It is same as the find() method except that if a substring is not found, then it raises an exception."
   ]
  },
  {
   "cell_type": "code",
   "execution_count": null,
   "id": "167058db-b3bd-49cd-9697-151645f56061",
   "metadata": {},
   "outputs": [],
   "source": [
    "there is differnce b/w Index & Find \n",
    "find means -1\n",
    "Index means nothing"
   ]
  },
  {
   "cell_type": "code",
   "execution_count": null,
   "id": "dd7f2fb1-ffea-41ba-8611-2c4b52dcf1a2",
   "metadata": {},
   "outputs": [],
   "source": [
    "greet='Hello world'\n",
    "print('Index of 'H':',greet.index('H'))\n",
    "print('Index of 'e':',greet.index('e'))\n",
    "print('Index of 'l:',greet.index('l'))\n",
    "print('Index of 'World':',greet.index('World'))"
   ]
  },
  {
   "cell_type": "markdown",
   "id": "19ce77af-abe0-477b-991e-0dd1f1b67198",
   "metadata": {},
   "source": [
    "Python String isalnum() Method\n",
    "The isalnum() method returns True if all characters in the string are alphanumeric (either alphabets or numbers). If not, it returns False.\n",
    "\n",
    "Syntax:\n",
    "str.isalnum()\n",
    "\n",
    "space & special symbols are not allowed in this program"
   ]
  },
  {
   "cell_type": "code",
   "execution_count": null,
   "id": "0907d720-80c2-4fd2-b6d9-76a78a3bab90",
   "metadata": {},
   "outputs": [],
   "source": [
    "mystr='Hello123'\n",
    "print(mystr.isalnum())"
   ]
  },
  {
   "cell_type": "code",
   "execution_count": null,
   "id": "167ea203-f391-4741-891e-e57edbd13660",
   "metadata": {},
   "outputs": [],
   "source": [
    "mystr='12345'\n",
    "print(mystr.isalnum())"
   ]
  },
  {
   "cell_type": "code",
   "execution_count": null,
   "id": "59e2d959-3f9f-439e-9e4c-ef412aab7227",
   "metadata": {},
   "outputs": [],
   "source": [
    "mystr='Madrid'\n",
    "print(mystr.isalnum())"
   ]
  },
  {
   "cell_type": "code",
   "execution_count": null,
   "id": "d3a29532-ba08-43a6-9aa0-69dd1bc18af8",
   "metadata": {},
   "outputs": [],
   "source": [
    "mystr='Python is a programming language.'\n",
    "print(mystr.isalnum())"
   ]
  },
  {
   "cell_type": "code",
   "execution_count": null,
   "id": "c9b7b27f-6e1e-4ce3-934b-1bf1dccac122",
   "metadata": {},
   "outputs": [],
   "source": [
    "mystr='#1'\n",
    "print(mystr.isalnum())"
   ]
  },
  {
   "cell_type": "markdown",
   "id": "2d11ced6-90bf-4b9e-9a18-44469a31bc9d",
   "metadata": {},
   "source": [
    "Python String isdigit() Method\n",
    "The isdigit() method returns True if all characters in a string are digits or Unicode char of a digit. If not, it returns False.\n",
    "\n",
    "\n",
    "str.isdigit()"
   ]
  },
  {
   "cell_type": "code",
   "execution_count": null,
   "id": "3936d5da-6f6a-49d8-bb5e-058b746793eb",
   "metadata": {},
   "outputs": [],
   "source": [
    "mystr='#1'\n",
    "print(mystr.isdigit())"
   ]
  },
  {
   "cell_type": "code",
   "execution_count": null,
   "id": "36122205-e9a5-44cd-87de-83b1893e5a90",
   "metadata": {},
   "outputs": [],
   "source": [
    "mystr='12345'\n",
    "print(mystr.isalnum())"
   ]
  },
  {
   "cell_type": "code",
   "execution_count": null,
   "id": "ed92d430-e6f8-44c2-9553-92e569f48db5",
   "metadata": {},
   "outputs": [],
   "source": [
    "mystr='Sam'\n",
    "print(mystr.isalnum())"
   ]
  },
  {
   "cell_type": "code",
   "execution_count": null,
   "id": "9e3ad651-b8f8-4b5a-aa73-b928efd8d5f9",
   "metadata": {},
   "outputs": [],
   "source": [
    "mystr='10.5'\n",
    "print(mystr.isalnum())"
   ]
  },
  {
   "cell_type": "markdown",
   "id": "266ff51a-e865-46ad-98f6-8a4ffbc352de",
   "metadata": {},
   "source": [
    "Python String islower() Method\n",
    "-------------------------------\n",
    "The islower() method checks whether all the characters of a given string are lowercased or not. It returns True if all characters are lowercased and False even if one character is uppercase.\n",
    "\n",
    "It returns False if a string contains only symbols and numbers, but returns True if symbols or numbers are with lower case string.\n",
    "\n",
    "Syntax:\n",
    "str.islower()"
   ]
  },
  {
   "cell_type": "code",
   "execution_count": null,
   "id": "2149cf14-b0e0-4121-a3af-e684e0b1ec8b",
   "metadata": {},
   "outputs": [],
   "source": [
    "mystr='hello world'\n",
    "mystr.islower()"
   ]
  },
  {
   "cell_type": "code",
   "execution_count": null,
   "id": "82d70f94-8e8d-4f0f-b07b-a2b8e4711e0b",
   "metadata": {},
   "outputs": [],
   "source": [
    "mystr='Hello.world'\n",
    "mystr.islower()"
   ]
  },
  {
   "cell_type": "markdown",
   "id": "def2cbc0-fccf-4d46-9fa2-43bdcff16f96",
   "metadata": {},
   "source": [
    "Python String istitle() Method\n",
    "The istitle() method checks whether each word's first character is upper case and the rest are in lower case or not. It returns True if a string is titlecased; otherwise, it returns False. The symbols and numbers are ignored.\n",
    "\n",
    "str.istitle()\n",
    "\n",
    "every first word in your sentence will be capitale"
   ]
  },
  {
   "cell_type": "code",
   "execution_count": null,
   "id": "dd9851ec-af01-4dab-b697-6a3a33c80328",
   "metadata": {},
   "outputs": [],
   "source": [
    "greet='Hello World'\n",
    "greet.istitle()"
   ]
  },
  {
   "cell_type": "markdown",
   "id": "e7615e39-c155-4b2c-88bb-27cb7588cca4",
   "metadata": {},
   "source": [
    " Python String isupper() Method\n",
    "The isupper() method checks whether all the characters of a given string are uppercase or not. It returns True if all characters are uppercase and False even if one character is not in uppercase.\n",
    "\n",
    "Symblos and numbers are not affected by this function\n",
    "\n",
    "Syntax:\n",
    "str.isupper()\n",
    "\n"
   ]
  },
  {
   "cell_type": "code",
   "execution_count": null,
   "id": "f37c6441-9781-44ca-b55e-8566b00320c0",
   "metadata": {},
   "outputs": [],
   "source": [
    "mystr='HELLO WORLD'\n",
    "mystr.isupper()"
   ]
  },
  {
   "cell_type": "code",
   "execution_count": null,
   "id": "e307ea3d-c133-4521-92ad-6c898520482e",
   "metadata": {},
   "outputs": [],
   "source": [
    "mystr='hello world'\n",
    "mystr.isupper()"
   ]
  },
  {
   "cell_type": "markdown",
   "id": "4442d103-5950-4656-ae72-40a5b1715a01",
   "metadata": {},
   "source": [
    "Python String lower() Method\n",
    "The lower() method returns the copy of the original string wherein all the characters are converted to lowercase. If no uppercase characters present, it returns the original string. Symbols and numbers remain unaffected by this function.\n",
    "\n",
    "Syntax:\n",
    "str.lower()"
   ]
  },
  {
   "cell_type": "code",
   "execution_count": null,
   "id": "0bb18b8f-e461-46cf-a8df-996ea3568cc3",
   "metadata": {},
   "outputs": [],
   "source": [
    "mystr = 'HELLO WORLD'\n",
    "print(mystr.lower())"
   ]
  },
  {
   "cell_type": "code",
   "execution_count": null,
   "id": "7d771009-0f59-4f08-8db2-aedaaf733359",
   "metadata": {},
   "outputs": [],
   "source": [
    "mystr = 'ABC123'\n",
    "print(mystr.lower())"
   ]
  },
  {
   "cell_type": "markdown",
   "id": "242bb519-885b-49fc-9440-075bf8123ff8",
   "metadata": {},
   "source": [
    "Python String lstrip() Method\n",
    "The lstrip() method returns a copy of the string by removing leading characters specified as an argument. By default, it removes leading whitespaces if no argument passed.\n",
    "\n",
    "Leading characters occur at the start of the string (leftmost part of the string).\n",
    "\n",
    "Syntax:\n",
    "str.lstrip(characters)"
   ]
  },
  {
   "cell_type": "code",
   "execution_count": null,
   "id": "953a2b12-0745-4652-86e7-ed2f31780f41",
   "metadata": {},
   "outputs": [],
   "source": [
    "mystr='     Hello World    '\n",
    "print(mystr)\n",
    "print(mystr.lstrip())"
   ]
  },
  {
   "cell_type": "markdown",
   "id": "e5ae88b6-60d1-44d5-b571-702136180235",
   "metadata": {},
   "source": [
    "Python string.rstrip()\n",
    "The rstrip() method returns a copy of the string by removing the trailing characters specified as argument. If the characters argument is not provided, all trailing whitespaces are removed from the string.\n",
    "\n",
    "Trailing characters are those characters which occur at the end of the string (rightmost part of the string).\n",
    "\n",
    "Syntax:\n",
    "str.rstrip(characters)"
   ]
  },
  {
   "cell_type": "code",
   "execution_count": null,
   "id": "5ba4fc62-7078-443f-ad48-d5cec51197b4",
   "metadata": {},
   "outputs": [],
   "source": [
    "sl=\"150gm\"\n",
    "sl.strip(\"gm\")"
   ]
  },
  {
   "cell_type": "markdown",
   "id": "639cf611-5b20-4f6e-a2d4-8530e2812639",
   "metadata": {},
   "source": [
    "Python String partition() Method\n",
    "The partition() method splits the string at the first occurrence of the specified string separator sep argument and returns a tuple containing three elements, the part before the separator, the separator itself, and the part after the separator.\n",
    "\n",
    "If the matching separator is not found in the string then returns a tuple containing three elements, the string itself as a first element and two empty string elements.\n",
    "\n",
    "Syntax:\n",
    "str.partition(sep)\n",
    "\n",
    "#it returs Tupple "
   ]
  },
  {
   "cell_type": "code",
   "execution_count": null,
   "id": "867ded1b-8718-4e57-ae69-18f9807ad104",
   "metadata": {},
   "outputs": [],
   "source": [
    "mystr=  'Hello World'\n",
    "print(mystr.partition(' '))"
   ]
  },
  {
   "cell_type": "code",
   "execution_count": null,
   "id": "7f80060c-6afb-451d-88ff-f6113b2def6e",
   "metadata": {},
   "outputs": [],
   "source": [
    "mystr=  'How are you'\n",
    "print(mystr.partition('are'))\n"
   ]
  },
  {
   "cell_type": "code",
   "execution_count": null,
   "id": "74b84400-534b-4ebc-a9c9-73cf0c148cef",
   "metadata": {},
   "outputs": [],
   "source": [
    "mystr=  'tutorials is the best tutorials website'\n",
    "print(mystr.partition('tutorials'))\n",
    "print(mystr.partition('Tutorials'))"
   ]
  },
  {
   "cell_type": "markdown",
   "id": "645f48af-9b9b-4bd4-b23f-3b5b173d3f60",
   "metadata": {},
   "source": [
    "Python String split() Method\n",
    "The split() method splits the string from the specified separator and returns a list object with string elements. The default separator is any whitespace character such as space, \\t, \\n, etc.\n",
    "\n",
    "Syntax:\n",
    "str.split(separator)\n",
    "\n",
    "#it breaks and returs list"
   ]
  },
  {
   "cell_type": "code",
   "execution_count": null,
   "id": "2eb88e92-d5d9-4334-9831-5851f3f4ef61",
   "metadata": {},
   "outputs": [],
   "source": [
    "langs='C,Python,R,Java,SQL,Hadoop'\n",
    "print(langs.split(','))"
   ]
  },
  {
   "cell_type": "code",
   "execution_count": null,
   "id": "83875df1-2afa-4fbd-8717-1f071b6e2730",
   "metadata": {},
   "outputs": [],
   "source": [
    "langs='C,Pythone,R,Java,SQL,Hadoop'\n",
    "print(langs.split(',',3))"
   ]
  },
  {
   "cell_type": "markdown",
   "id": "b9c62804-3fb3-435e-a82e-f8a0c8f5d4a0",
   "metadata": {},
   "source": [
    "Python String upper() Method\n",
    "The upper() method returns a string in the upper case. Symbols and numbers remain unaffected.\n",
    "\n",
    "The main difference between the capitalize() and the upper() method is that the capitalize() method will capitalize only the first character of the string, whereas the upper() will convert all characters in the upper case."
   ]
  },
  {
   "cell_type": "code",
   "execution_count": null,
   "id": "5e260efa-e3d5-4ee8-89a5-7ad619be5a23",
   "metadata": {},
   "outputs": [],
   "source": [
    "mystr=\"\"\"Hello\n",
    "        World\"\"\"\n",
    "print(mystr)"
   ]
  },
  {
   "cell_type": "code",
   "execution_count": null,
   "id": "a6b3b57f-881d-46d8-8520-560edbd9620d",
   "metadata": {},
   "outputs": [],
   "source": [
    "mystr=('Happy'\n",
    "       'Monday'\n",
    "       'Everyone')\n",
    "print(mystr)"
   ]
  },
  {
   "cell_type": "markdown",
   "id": "53536dae-0759-4d0b-a77e-b8ed8f4a1921",
   "metadata": {},
   "source": [
    "#String concatenation"
   ]
  },
  {
   "cell_type": "code",
   "execution_count": null,
   "id": "8468f658-6466-42ce-bb10-8c9fad1e4777",
   "metadata": {},
   "outputs": [],
   "source": [
    "s1=\"Hey\"\n",
    "s2=\"Sam\"\n",
    "s3=s1+s2\n",
    "print(s3)"
   ]
  },
  {
   "cell_type": "code",
   "execution_count": null,
   "id": "075fba32-e428-4609-8f49-88b59c17a14a",
   "metadata": {},
   "outputs": [],
   "source": [
    "s1=\"By\"\n",
    "s2=\"Sam\"\n",
    "s3=s1 + \" \" + s2\n",
    "print(s3)"
   ]
  },
  {
   "cell_type": "markdown",
   "id": "c6ef9c02-2de1-4c45-b939-9c303b522360",
   "metadata": {},
   "source": [
    "Iterating throungh a String"
   ]
  },
  {
   "cell_type": "code",
   "execution_count": null,
   "id": "6dc35d63-05e4-47b7-8d81-3228618d62b2",
   "metadata": {},
   "outputs": [],
   "source": [
    "# Iterating \n",
    "for i in mystr:\n",
    "    print(i)\n",
    "    "
   ]
  },
  {
   "cell_type": "markdown",
   "id": "15f9077d-6010-4c6d-bc3c-3afae2b5eb76",
   "metadata": {},
   "source": [
    "String Membership"
   ]
  },
  {
   "cell_type": "code",
   "execution_count": null,
   "id": "0f84eecc-7f40-47be-9335-51eeb7eb28b8",
   "metadata": {},
   "outputs": [],
   "source": [
    "mystr1= \"Hello Everyone\"\n",
    "print('Hello' in mystr1)\n",
    "print('Everyone' in mystr1)\n",
    "print('Hi' in mystr1)"
   ]
  },
  {
   "cell_type": "markdown",
   "id": "f1b8efde-32fd-4150-a7f7-debb69dfe286",
   "metadata": {},
   "source": [
    "Rpartition = is divided from a certain point and make a new sentence."
   ]
  },
  {
   "cell_type": "code",
   "execution_count": null,
   "id": "e5a8a032-4823-4741-8199-f1cb839d1f49",
   "metadata": {},
   "outputs": [],
   "source": [
    "str3= \"Hello everyone i am doing great How about you\"\n",
    "L= str3.rpartition(\"How\")\n",
    "print(L)"
   ]
  },
  {
   "cell_type": "markdown",
   "id": "ca840f8e-0e04-423b-a78f-be5b46cd69c6",
   "metadata": {},
   "source": [
    "String Functions"
   ]
  },
  {
   "cell_type": "code",
   "execution_count": null,
   "id": "0ee80d42-faa3-40d0-b711-9abcf135d4cd",
   "metadata": {},
   "outputs": [],
   "source": [
    "mystr2= \"   Hello Everyone   \"\n",
    "mystr2"
   ]
  },
  {
   "cell_type": "code",
   "execution_count": null,
   "id": "d9a2e6a7-5798-414f-92a9-0973e3c6ab35",
   "metadata": {},
   "outputs": [],
   "source": [
    "mystr2=\"********Hello Everyone********Best of luck*******\"\n",
    "mystr2"
   ]
  },
  {
   "cell_type": "code",
   "execution_count": null,
   "id": "c14989fa-237b-41a2-a2dc-b4720643d47e",
   "metadata": {},
   "outputs": [],
   "source": [
    "mystr2.strip('*')-----It removes all characters from begining & end of the string"
   ]
  },
  {
   "cell_type": "code",
   "execution_count": null,
   "id": "b2352eaa-4746-47ac-9711-28a8802a690c",
   "metadata": {},
   "outputs": [],
   "source": [
    "mystr2.rstrip('*')------Removes all '*' characters at the end of the string"
   ]
  },
  {
   "cell_type": "code",
   "execution_count": null,
   "id": "ca756e71-a179-4eac-8091-35d3c35afbd2",
   "metadata": {},
   "outputs": [],
   "source": [
    "mystr2.lstrip('*')-----Removes all ('*') characters at the beginging of the string"
   ]
  },
  {
   "cell_type": "code",
   "execution_count": null,
   "id": "9fc883be-91bf-4e54-bc9c-e009acbc3b14",
   "metadata": {},
   "outputs": [],
   "source": [
    "mystr2=\"@@@@@***Hello Everyone@@@@@By Everyone****\"\n",
    "mystr2"
   ]
  },
  {
   "cell_type": "code",
   "execution_count": null,
   "id": "5f021bc9-b821-4e75-abcb-42e36e5b6f44",
   "metadata": {},
   "outputs": [],
   "source": [
    "mystr2.rstrip('*')"
   ]
  },
  {
   "cell_type": "code",
   "execution_count": null,
   "id": "eefa6386-9968-4a55-9c5f-a1fd2ed3c4ee",
   "metadata": {},
   "outputs": [],
   "source": [
    "mystr2.lstrip('*')"
   ]
  },
  {
   "cell_type": "code",
   "execution_count": null,
   "id": "9804f555-7182-4437-bfa4-a6d410c61c98",
   "metadata": {},
   "outputs": [],
   "source": [
    "mystr2.lower()"
   ]
  },
  {
   "cell_type": "code",
   "execution_count": null,
   "id": "ab2bbe16-922e-4f08-b87d-a3e2591ee013",
   "metadata": {},
   "outputs": [],
   "source": [
    "mystr2 = \"\"\"Hello Everyone  \"\"\"\n",
    "\n",
    "mystr2.lower()-----Return whole string in lower case"
   ]
  },
  {
   "cell_type": "code",
   "execution_count": null,
   "id": "4fd5f74d-686c-4348-8823-89873503291e",
   "metadata": {},
   "outputs": [],
   "source": [
    "mystr2.upper()----Return whole string in uppercase"
   ]
  },
  {
   "cell_type": "code",
   "execution_count": null,
   "id": "3e1513cc-0ead-4833-87f7-5682f89e8c27",
   "metadata": {},
   "outputs": [],
   "source": [
    "mystr2.replace(\"He\",\"Ho\")----Replace substring \"He\" with \"Ho\""
   ]
  },
  {
   "cell_type": "code",
   "execution_count": null,
   "id": "b7124cac-35dd-43ed-a671-4e0e90b515c2",
   "metadata": {},
   "outputs": [],
   "source": [
    "mystr2.replace(\" \",\"\")-----Remove all whitspaces using replace function"
   ]
  },
  {
   "cell_type": "code",
   "execution_count": null,
   "id": "c17e52a4-c82e-4954-938f-53b20cc0db92",
   "metadata": {},
   "outputs": [],
   "source": [
    "mystr5=\"one two Three one two three\""
   ]
  },
  {
   "cell_type": "code",
   "execution_count": null,
   "id": "8b2445bc-ddaf-4b1a-a450-42c2a51bb94f",
   "metadata": {},
   "outputs": [],
   "source": [
    "mystr5.count(\"one\")-----Number of times substring\"one\" occured in string."
   ]
  },
  {
   "cell_type": "code",
   "execution_count": null,
   "id": "e7279f59-bb78-42a6-9cbf-d98628f9c23e",
   "metadata": {},
   "outputs": [],
   "source": [
    "mystr5.startswith(\"one\")-----Return boolean value True if string starts with \"one\""
   ]
  },
  {
   "cell_type": "code",
   "execution_count": null,
   "id": "2440826c-d164-4b47-ad8e-e4f6a38fe189",
   "metadata": {},
   "outputs": [],
   "source": [
    "mystr5.endswith(\"three\")----Return boolean value False if string ends with \"three\""
   ]
  },
  {
   "cell_type": "markdown",
   "id": "b1b59c94-d0e5-41dc-881c-f73b0baed04b",
   "metadata": {},
   "source": [
    "Split--- Returns list"
   ]
  },
  {
   "cell_type": "code",
   "execution_count": null,
   "id": "56a2634a-2c7c-444a-8017-f1c5aa7fe7a9",
   "metadata": {},
   "outputs": [],
   "source": [
    "# Combining string & numbers using format method \n",
    "item1=40\n",
    "item2=60\n",
    "item3=70\n",
    "\"cost of item1,item 2 and item3 are{},{} and {}\"\n",
    "print(\"cost of item1,item 2 and item3 are{},{} and {}\")"
   ]
  },
  {
   "cell_type": "code",
   "execution_count": null,
   "id": "bcdeadf2-9343-4ac3-80ea-332c0c272ab6",
   "metadata": {},
   "outputs": [],
   "source": [
    "# Combining string & numbers using format method \n",
    "item1=30\n",
    "item2=34\n",
    "item3=45\n",
    "\n",
    "res=\"cost of item3,item2 and item1 are {2},{1} and{0}\"\n",
    "print(res.format(item1,item2,item3))"
   ]
  },
  {
   "cell_type": "code",
   "execution_count": null,
   "id": "49014097-dd7a-4a2a-8e05-350fe30c2e2e",
   "metadata": {},
   "outputs": [],
   "source": [
    "item1=34\n",
    "item2=34\n",
    "item3=78\n",
    "print(\"cost of item1,item 2 and item3 are{},{} and {}\".format(item1,item2,item3))"
   ]
  },
  {
   "cell_type": "code",
   "execution_count": null,
   "id": "d7de94e6-e84f-40ea-8360-b6bab77a2ba1",
   "metadata": {},
   "outputs": [],
   "source": [
    "str2= \" WELCOME EVERYONE \"\n",
    "str2=str2.center(100)\n",
    "print(str2)"
   ]
  },
  {
   "cell_type": "code",
   "execution_count": null,
   "id": "9c950398-cc42-4fd5-a82c-4cb7e8a9ae75",
   "metadata": {},
   "outputs": [],
   "source": [
    "str2= \" WELCOME EVERYONE \"\n",
    "str2=str2.center(100,'*')----# Center align the string using a specific character\n",
    "print(str2)"
   ]
  },
  {
   "cell_type": "code",
   "execution_count": null,
   "id": "d4076a7e-fbd1-4d68-9996-1d571d1d4974",
   "metadata": {},
   "outputs": [],
   "source": [
    "str2= \" WELCOME EVERYONE \"\n",
    "str2=str2.rjust(50)-----# Right align the string using a specific character as the \n",
    "print(str2)"
   ]
  },
  {
   "cell_type": "code",
   "execution_count": null,
   "id": "8269baa4-a466-466a-a435-14a5b997d910",
   "metadata": {},
   "outputs": [],
   "source": [
    "str2= \"one two three four five six\"\n",
    "loc=str2.find(\"four\")---# Find the location of word 'four' in the string\"str2\"\n",
    "print(loc)"
   ]
  },
  {
   "cell_type": "code",
   "execution_count": null,
   "id": "adf5dcae-1c72-4c47-a31d-b3b3961e032a",
   "metadata": {},
   "outputs": [],
   "source": [
    "mystr6='123456789'\n",
    "print(mystr6.isalnum())--Rturns true if a string contains only letters or numbers\n",
    "print(mystr6.isdecimal())--Returns true if all the characters are decimals(0-9)\n",
    "print(mystr6.isnumeric())---Returns true if all the characters are numeric(0-9)\n",
    "print(mystr6.isalpha())---Returns true if all the characters in the text are letters"
   ]
  },
  {
   "cell_type": "code",
   "execution_count": null,
   "id": "a4a9c819-0cc5-4b4c-8610-a1330b4c87d4",
   "metadata": {},
   "outputs": [],
   "source": [
    "New chapter--Tuple\n",
    "\n",
    "sequence data structure\n",
    "enclosed in()\n",
    "indexed,orderd\n",
    "\"immutable\"-----can not be change once created \n"
   ]
  },
  {
   "cell_type": "code",
   "execution_count": null,
   "id": "afa165ec-bbb8-4f70-b2e2-ebdee523d46c",
   "metadata": {},
   "outputs": [],
   "source": [
    "qns:- What is the differnce between list and tuple\n",
    "ans:- list is mutable and tuple is immutable\n",
    "\n",
    "Immutable---can not be change once created.\n",
    "\n",
    "syntax---t1=(1,2)"
   ]
  },
  {
   "cell_type": "code",
   "execution_count": null,
   "id": "cbb28af3-87ac-4d70-871c-e4cdbdb29d70",
   "metadata": {},
   "outputs": [],
   "source": [
    "t1=(12,23,34,45,56)--Tuple of integers\n",
    "t1=(\"How\",\"are\",\"you\")\n",
    "t1=((1,2),(2,3))"
   ]
  },
  {
   "cell_type": "code",
   "execution_count": null,
   "id": "0b9b75b0-d593-4992-8ac0-4f91227433aa",
   "metadata": {},
   "outputs": [],
   "source": [
    "Tuple constructor\n",
    "-----------------\n",
    "t1=tuple(\"sam\")\n",
    "te"
   ]
  },
  {
   "cell_type": "code",
   "execution_count": null,
   "id": "8a784d0a-08ba-4282-a491-c226e29948aa",
   "metadata": {},
   "outputs": [],
   "source": [
    "t1=12,23,34,45,56---Tuple packing\n",
    "\n",
    "a,b,c,d,e=t1----Tuple unpacking\n",
    "print(a)\n",
    "print(b)\n",
    "print(c)\n",
    "print(d)\n",
    "print(e)"
   ]
  },
  {
   "cell_type": "code",
   "execution_count": null,
   "id": "0b6c05a6-e5ce-41e8-8ada-67eaa3267a29",
   "metadata": {},
   "outputs": [],
   "source": [
    "t1=12,23,34,45,56\n",
    "\n",
    "a,b,c,d,e=t1\n",
    "print(a)\n",
    "print(b)\n",
    "print(c)\n",
    "print(d)\n",
    "print(e)\n",
    "\n",
    "t1=(12)----We cannot code with sigle value if we cannot use (,) for proving it's tuple--perhaps the value will come in integers\n",
    "print(type(t1))"
   ]
  },
  {
   "cell_type": "code",
   "execution_count": null,
   "id": "8fa4ea99-34b1-4389-a98b-134d6a8ce568",
   "metadata": {},
   "outputs": [],
   "source": [
    "Accessing"
   ]
  },
  {
   "cell_type": "code",
   "execution_count": null,
   "id": "4ce09cdb-d76c-41ed-8dcf-9b166dd87687",
   "metadata": {},
   "outputs": [],
   "source": [
    "t1=(12,23,34,45,56,67)\n",
    "print(t1[0])\n",
    "print(t1[3])\n",
    "print(t1[-1])\n",
    "print(t1[-2])"
   ]
  },
  {
   "cell_type": "code",
   "execution_count": null,
   "id": "d173bf75-df01-4c3a-a4b3-0fbd1518b9fe",
   "metadata": {},
   "outputs": [],
   "source": [
    "Updating"
   ]
  },
  {
   "cell_type": "code",
   "execution_count": null,
   "id": "32a603df-4f89-44b6-89db-b8d3aff76c6b",
   "metadata": {},
   "outputs": [],
   "source": [
    "t1=(12,34,34,44)\n",
    "t2=(\"how\",\"are\",\"you\")\n",
    "print(t1+t2)"
   ]
  },
  {
   "cell_type": "code",
   "execution_count": null,
   "id": "c4db82f8-f0f7-4781-bd99-c656338578c8",
   "metadata": {},
   "outputs": [],
   "source": [
    "Index() method"
   ]
  },
  {
   "cell_type": "code",
   "execution_count": null,
   "id": "6aff632b-c60b-49de-a3de-52232142b10d",
   "metadata": {},
   "outputs": [],
   "source": [
    "t1=(12,23,34,45,56,67)\n",
    "print(t1)\n",
    "x=t1.index(45)\n",
    "print(x)"
   ]
  },
  {
   "cell_type": "code",
   "execution_count": null,
   "id": "de61a055-1262-4aa5-878c-153ca34facc8",
   "metadata": {},
   "outputs": [],
   "source": [
    "t1=(12,23,34,45,56)\n",
    "print(t1)\n",
    "x=t1.index(56)\n",
    "print(x)"
   ]
  },
  {
   "cell_type": "code",
   "execution_count": null,
   "id": "f99e6637-6ff4-4b29-bef2-ae072c547d7c",
   "metadata": {},
   "outputs": [],
   "source": [
    "Updating an element in tuple "
   ]
  },
  {
   "cell_type": "code",
   "execution_count": null,
   "id": "53df6c4d-4f13-4c09-b24d-97458f959d3b",
   "metadata": {},
   "outputs": [],
   "source": [
    "t1=(1,23,34,56,6,7)\n",
    "ls=list(t1)\n",
    "ls.append(89)----Is use for adding elements in Tuple,Integers<list\n",
    "t1=tuple(ls)\n",
    "print(t1)"
   ]
  },
  {
   "cell_type": "code",
   "execution_count": null,
   "id": "07e34d76-4509-4a78-8f01-914e2294a563",
   "metadata": {},
   "outputs": [],
   "source": [
    "t1=(1,23,4,5,67,88)\n",
    "ls=list(t1)\n",
    "ls.append(78)\n",
    "t1=tuple(ls)\n",
    "print(t1)"
   ]
  },
  {
   "cell_type": "code",
   "execution_count": null,
   "id": "93a81db8-c548-4a11-95f5-9810b157377f",
   "metadata": {},
   "outputs": [],
   "source": [
    "Update an element in the tuple"
   ]
  },
  {
   "cell_type": "code",
   "execution_count": null,
   "id": "6b54973a-f904-439c-9c26-e46d0614527a",
   "metadata": {},
   "outputs": [],
   "source": [
    "t1=(1,2,34,5,6,7,8)\n",
    "ls=list(t1)\n",
    "ls[3]=\"hello\"\n",
    "t1=tuple(ls)\n",
    "print(t1)"
   ]
  },
  {
   "cell_type": "code",
   "execution_count": null,
   "id": "a540723f-2472-4f39-94ef-eeabc538a8ef",
   "metadata": {},
   "outputs": [],
   "source": [
    "t1=(1,2,3,4,6,7,78)\n",
    "ls=list(t1)\n",
    "ls[3]=\"sam\"\n",
    "t1=tuple(ls)\n",
    "print(t1)"
   ]
  },
  {
   "cell_type": "code",
   "execution_count": null,
   "id": "08fcd17a-747a-4603-b7f5-8f2ff5654bec",
   "metadata": {},
   "outputs": [],
   "source": [
    "Tuple \n",
    "1.Tuple is similar to List expect that the object in tuple are the immutable which means we cannot change the elements of tuple once assigned.\n",
    "2.When we do want to change data over time. tuple is preferred data type\n",
    "3.Iterating over the elements of tuple is faster compared to iterating over the list"
   ]
  },
  {
   "cell_type": "code",
   "execution_count": null,
   "id": "3f10b1eb-ee60-4bd9-9ee7-a014989bec06",
   "metadata": {},
   "outputs": [],
   "source": [
    "tup1=()--Empty tuple\n",
    "tup2=(10,20,30)---tuple of integers number\n",
    "tup3=(10.77,30.66,60.89)---tuple of float numbers\n",
    "tup4=('one','two',\"three\")----tuple of strings\n",
    "tup5=('Asif'.25,(50,100),(150,90))---Nested tuple\n",
    "tup6=(100,'Asif',17.765)---tuple of mixed data types\n"
   ]
  },
  {
   "cell_type": "code",
   "execution_count": null,
   "id": "2cf61627-4fd7-4649-8c5d-1327dfeb123c",
   "metadata": {},
   "outputs": [],
   "source": [
    "Sorting"
   ]
  },
  {
   "cell_type": "code",
   "execution_count": null,
   "id": "fc6bfcd9-8d7d-4edd-85ef-4e33a18c52c9",
   "metadata": {},
   "outputs": [],
   "source": [
    "mytuple2=(23,7,15,56,67,89)\n",
    "sorted(mytuple2)---Returns a new sorted list and doesn't change orignal tuple"
   ]
  },
  {
   "cell_type": "code",
   "execution_count": null,
   "id": "dba378de-105c-4c54-9739-551adc75ee7c",
   "metadata": {},
   "outputs": [],
   "source": [
    "mytuple2=(23,7,15,56,67,89)\n",
    "sorted(mytuple2,reverse=True)---Sort in descending order \n"
   ]
  },
  {
   "cell_type": "markdown",
   "id": "7587bc7d-bfa7-45cb-b2d8-3d70d8cc5c6e",
   "metadata": {},
   "source": [
    "DICTIONARY-----NEW CHAPTER"
   ]
  },
  {
   "cell_type": "markdown",
   "id": "69b5b2ed-0e7b-43f7-ac76-95b99d38e248",
   "metadata": {},
   "source": [
    "python-Dictionary\n",
    "The dictionary is an unorderd collection that contains key:value pairs separated by commas inside curly brackets.Dictionary are optimuzed to retrieve value when the key is known."
   ]
  },
  {
   "cell_type": "code",
   "execution_count": null,
   "id": "068896e8-b877-4b29-8d29-0026f70fc2d7",
   "metadata": {},
   "outputs": [],
   "source": [
    "The following declars a dictionary object.\n",
    "\n",
    "capitals={\"USA\":\"Washington D.C\",\"France\":\"Paris\",\"India\":\"New Delhi\"}\n",
    "print(type(capitals))"
   ]
  },
  {
   "cell_type": "code",
   "execution_count": null,
   "id": "ff8f2cde-e215-4619-8aaf-70f18f93402c",
   "metadata": {},
   "outputs": [],
   "source": [
    "capitals={\"USA\":\"Washington D.C\",\"France\":\"Paris\",\"India\":\"New Delhi\"}\n",
    "print(type(capitals))"
   ]
  },
  {
   "cell_type": "markdown",
   "id": "4f76b05c-8be0-4c75-95a3-9e09ca40dce2",
   "metadata": {},
   "source": [
    "d={} # empty dictionary\n",
    "\n",
    "numNames={1:\"One\",2:\"Two\",3:\"Three\",4:\"Four\"}---int key, string value\n",
    "\n",
    "decNames={1.5:\"One and Half\",2.5:\"Two and Half\",3.5:\"Three and Half\")---float key,string value\n",
    "\n",
    "item={(\"Parker\",\"Reynolds\",\"Calmin\"):\"pen\",(\"LG\",\"Whirlpool\",\"Samsung\"):\"Refrigerator\"}---tuple key, string value\n",
    "\n",
    "romanNums={'I':1,"
   ]
  },
  {
   "cell_type": "markdown",
   "id": "6299ef14-dd15-4393-ae71-bd45760b4870",
   "metadata": {},
   "source": [
    "The same key cannot appear more than once in a collection.If the key appears more than once,only the latest will be retained. The value can be of any data type. One value can be assigned to more than aone key."
   ]
  },
  {
   "cell_type": "code",
   "execution_count": null,
   "id": "9da764ea-26e8-4dba-987e-8bbe0804032b",
   "metadata": {},
   "outputs": [],
   "source": [
    "numNames={1:\"One\",2:\"Two\",3:\"Three\",2:\"two\",1:\"one\"}\n",
    "print(numNames)"
   ]
  },
  {
   "cell_type": "code",
   "execution_count": null,
   "id": "ccc10a87-ba68-4ccb-9554-12c2f2d81c5c",
   "metadata": {},
   "outputs": [],
   "source": [
    "A dictionary can also be created using the dict() constructor methor"
   ]
  },
  {
   "cell_type": "code",
   "execution_count": null,
   "id": "2fe35ff3-ae52-4dcd-80f8-cbf072bdb528",
   "metadata": {},
   "outputs": [],
   "source": [
    "emptydict=dict()\n",
    "print(emptydict)"
   ]
  },
  {
   "cell_type": "code",
   "execution_count": null,
   "id": "be5ae8b1-b624-4b1c-9f83-d2f25cb2942c",
   "metadata": {},
   "outputs": [],
   "source": [
    "numdict=dict(I=\"one\",II=\"Two\",III=\"Three\")\n",
    "print(numdict)"
   ]
  },
  {
   "cell_type": "code",
   "execution_count": null,
   "id": "ae63bbe8-053a-4298-83d5-731c59794b2f",
   "metadata": {},
   "outputs": [],
   "source": [
    "numdict=dict([('I','one'),('II','two'),('III','Three')])\n",
    "print(numdict)"
   ]
  },
  {
   "cell_type": "code",
   "execution_count": null,
   "id": "f4a58444-70f2-4709-801d-4203dd86d03e",
   "metadata": {},
   "outputs": [],
   "source": [
    "d1={\"Name\":\"Nimrit\",\"Age\":45,\"City\":\"Delhi\"}\n",
    "print(d1)\n",
    "\n",
    "print(d1[\"City\"])"
   ]
  },
  {
   "cell_type": "code",
   "execution_count": null,
   "id": "943abbbe-f609-4ce4-9523-682c245a5211",
   "metadata": {},
   "outputs": [],
   "source": [
    "d1={\"Name\":\"Nimrit\",\"Age\":45,\"City\":\"Delhi\"}\n",
    "print(d1)\n",
    "print(d1[\"City\"])\n",
    "print(d1.get(\"Sam\"))"
   ]
  },
  {
   "cell_type": "code",
   "execution_count": null,
   "id": "28d0dc41-9659-4bee-8344-5988d09fb4e2",
   "metadata": {},
   "outputs": [],
   "source": [
    "capitals={\"USA\":\"Washington D.C\",\"France\":\"Paris\",\"India\":\"New Delhi\"}\n",
    "print(capitals[\"USA\"],capitals[\"France\"],)\n",
    "\n"
   ]
  },
  {
   "cell_type": "code",
   "execution_count": null,
   "id": "d9de1e9f-fded-421d-b9a2-7a29533f38b2",
   "metadata": {},
   "outputs": [],
   "source": [
    "capitals={\"USA\":\"Washington D.C\",\"France\":\"Paris\",\"India\":\"New Delhi\"}\n",
    "print(capitals[\"USA\"],capitals[\"France\"],)\n",
    "print(capitals[\"usa\"])"
   ]
  },
  {
   "cell_type": "markdown",
   "id": "8f172dbf-9d1d-496c-9ac2-315027a36d73",
   "metadata": {},
   "source": [
    "Use the get() method to retrieve the key's value even if keys are not known. It returns None if the key does not exist instead of raising an error."
   ]
  },
  {
   "cell_type": "code",
   "execution_count": null,
   "id": "3c3af6a3-ef88-4246-87a3-b4434ad65572",
   "metadata": {},
   "outputs": [],
   "source": [
    "numNames={1:\"One\",2:\"Two\",3:\"Three\"}\n",
    "print(numNames.get(1),numNames.get(2),numNames.get(5))"
   ]
  },
  {
   "cell_type": "code",
   "execution_count": null,
   "id": "1c52b022-0804-4d39-9481-84dc317cbeec",
   "metadata": {},
   "outputs": [],
   "source": [
    "d1={'a':1,'b':2,'c':3,'d':4,'e':5}\n",
    "for i in d1:\n",
    "    print(i)"
   ]
  },
  {
   "cell_type": "code",
   "execution_count": null,
   "id": "3ece9d55-8e93-43b2-ae9f-bf35a6d7ceb4",
   "metadata": {},
   "outputs": [],
   "source": [
    "d1={'a':1,'b':2,'c':3,'d':4,'e':5}\n",
    "for i in d1.values():\n",
    "    print(i)"
   ]
  },
  {
   "cell_type": "code",
   "execution_count": null,
   "id": "d59c24ee-b2fd-43ea-8a8d-99d51f393210",
   "metadata": {},
   "outputs": [],
   "source": [
    "d1={'a':1,'b':2,'c':3,'d':4,'e':5}\n",
    "for i in d1:\n",
    "    print(\"key=\",i,\"value=\",d1[i])"
   ]
  },
  {
   "cell_type": "code",
   "execution_count": null,
   "id": "a5ca8d3c-8089-4acf-a298-446bce69e176",
   "metadata": {},
   "outputs": [],
   "source": [
    "d1={'a':1,'b':2,'c':3,'d':4,'e':5}\n",
    "for i,j in d1.items():\n",
    "    print(i,j)"
   ]
  },
  {
   "cell_type": "code",
   "execution_count": null,
   "id": "aaa624ad-91e1-4fb5-a8f5-66bf3df765b0",
   "metadata": {},
   "outputs": [],
   "source": [
    "d1={'a':1,'b':2,'c':3,'d':4,'e':5}\n",
    "d1.items()"
   ]
  },
  {
   "cell_type": "code",
   "execution_count": null,
   "id": "e00399eb-2f76-4006-ad44-b078eba1ddf2",
   "metadata": {},
   "outputs": [],
   "source": [
    "Access Dictionary using loop\n",
    "use for thr loop to iterate a dictionary in python script.\n"
   ]
  },
  {
   "cell_type": "code",
   "execution_count": null,
   "id": "20a74f35-6772-4933-898b-c6fbc98b8638",
   "metadata": {},
   "outputs": [],
   "source": [
    "capitals={\"USA\":\"Washington D.C\",\"France\":\"Paris\",\"India\":\"New Delhi\"}\n",
    "for key in capitals:\n",
    "    print(\" key = \" + key +  \" value = \" +capitals[key])"
   ]
  },
  {
   "cell_type": "markdown",
   "id": "dc13ad1c-4f81-456b-8bf7-158a7e062fba",
   "metadata": {},
   "source": [
    "Update Dictionary\n",
    "As mentioned earlier, the key cannot appear more than once. Use the same key and assign a new value to it to update the dictionary object."
   ]
  },
  {
   "cell_type": "code",
   "execution_count": null,
   "id": "53d80339-ff50-4bd1-af11-8793219a1e2f",
   "metadata": {},
   "outputs": [],
   "source": [
    "captains={\"England\":\"Root\",\"Australia\":\"Smith\",\"India\":\"Dhoni\"}\n",
    "print(captains)"
   ]
  },
  {
   "cell_type": "markdown",
   "id": "ae85acee-62bf-426a-a59c-230589f20d97",
   "metadata": {},
   "source": [
    "Deleting Values from a Dictionary\n",
    "Use the del keyword, pop(), or popitem() methods to delete a pair from a dictionary or the dictionary object itself. To delete a pair, use its key as a parameter. To delete a dictionary object itself, use del dictionary_name."
   ]
  },
  {
   "cell_type": "code",
   "execution_count": null,
   "id": "48907dea-4c99-472a-b0fc-1cf635c77fc1",
   "metadata": {},
   "outputs": [],
   "source": [
    "captains={'Australia':'Paine','India':'Virat','Srilanka':'Jayasurya'}\n",
    "print(captains)"
   ]
  },
  {
   "cell_type": "code",
   "execution_count": null,
   "id": "9c2b3c9d-3aae-4af6-b37d-2b5454d5a523",
   "metadata": {},
   "outputs": [],
   "source": [
    "captains={'Australia':'Paine','India':'Virat','Srilanka':'Jayasurya'}\n",
    "print(captains)\n",
    "del captains['Australia']---delete a key-value pair \n",
    "print(captains)"
   ]
  },
  {
   "cell_type": "code",
   "execution_count": null,
   "id": "c08fa215-1234-4385-9043-04a0181f953b",
   "metadata": {},
   "outputs": [],
   "source": [
    "captains={'Australia':'Paine','India':'Virat','Srilanka':'Jayasurya'}\n",
    "print(captains)\n",
    "del captains-----delete dict object\n",
    "print(captains)"
   ]
  },
  {
   "cell_type": "code",
   "execution_count": null,
   "id": "fd5d8406-951a-4e62-943a-f0440172eabf",
   "metadata": {},
   "outputs": [],
   "source": [
    "d1={'a':1,'b':2,'c':3,'d':4,'e':5}\n",
    "del d1['b']\n",
    "print(d1)\n",
    "print(d1.pop('c'))\n",
    "print(d1)\n",
    "print(d1.popitem())\n",
    "print(d1)\n"
   ]
  },
  {
   "cell_type": "code",
   "execution_count": null,
   "id": "a418f51d-cb52-474b-b7c9-f505d4619df3",
   "metadata": {},
   "outputs": [],
   "source": [
    "d1={'a':1,'b':2,'c':3,'d':4,'e':5}\n",
    "del d1['b']\n",
    "print(d1)"
   ]
  },
  {
   "cell_type": "code",
   "execution_count": null,
   "id": "dd11e88c-2ec3-426a-9d3b-a41d7677b840",
   "metadata": {},
   "outputs": [],
   "source": [
    "d1={'a':1,'b':2,'c':3,'d':4,'e':5}\n",
    "print(d1.pop('c'))\n",
    "print(d1)"
   ]
  },
  {
   "cell_type": "code",
   "execution_count": null,
   "id": "eac9238e-22d6-4e2f-b4bb-7d97e3bc306a",
   "metadata": {},
   "outputs": [],
   "source": [
    "d1={'a':1,'b':2,'c':3,'d':4,'e':5}\n",
    "print(d1.popitem())\n",
    "print(d1)"
   ]
  },
  {
   "cell_type": "code",
   "execution_count": null,
   "id": "491d3778-0fd2-4d88-b4ff-36cfb1757838",
   "metadata": {},
   "outputs": [],
   "source": [
    "Multi-dimension Dictionary\n",
    "Let's assume there are three dictionary objects, as below:"
   ]
  },
  {
   "cell_type": "code",
   "execution_count": null,
   "id": "1ff86da3-d92e-4bde-a11b-fe71a254b893",
   "metadata": {},
   "outputs": [],
   "source": [
    "d1={\"Name\":\"Satyam\",\"Age\":23,\"Marks\":60}\n",
    "d2={\"Name\":\"Sat\",\"Age\":22,\"Marks\":78}\n",
    "d3={\"Name\":\"ruh\",\"Age\":21,\"Marks\":23}\n",
    "students={1:d1,2:d2,3:d3}\n",
    "print(students)\n",
    "print(students[1])\n",
    "print(students[2])\n",
    "print(students[3])"
   ]
  },
  {
   "cell_type": "markdown",
   "id": "b689b7e2-d444-4b27-8fd5-51632da53932",
   "metadata": {},
   "source": [
    "Python Dictionary clear()\n",
    "The dict.clear() methor removes all the key-value pairs from the dictionary."
   ]
  },
  {
   "cell_type": "code",
   "execution_count": null,
   "id": "af399b6d-3dd2-421f-b674-6180610cf52c",
   "metadata": {},
   "outputs": [],
   "source": [
    "romanNums={'I':1,'II':2,'III':3,'IV':4,'V':5}\n",
    "print(\"Dictionary:\",romanNums)"
   ]
  },
  {
   "cell_type": "code",
   "execution_count": null,
   "id": "3925531e-a982-4b37-aa2c-5e061777789a",
   "metadata": {},
   "outputs": [],
   "source": [
    "d1={'a':1,'b':2,'c':3,'d':4,'e':5}\n",
    "d2=d1\n",
    "print(d1)\n",
    "print(d2)\n",
    "d1.clear()\n",
    "print(d1)\n",
    "print(d2)"
   ]
  },
  {
   "cell_type": "code",
   "execution_count": null,
   "id": "32bd6760-9fdc-4ddf-9c77-c3cfb3d718c6",
   "metadata": {},
   "outputs": [],
   "source": [
    "d1={'a':1,'b':2,'c':3,'d':4,'e':5}\n",
    "d2=d1.copy()\n",
    "print(d1)\n",
    "print(d2)\n",
    "d1.clear()\n",
    "print(d1)\n",
    "print(d2)"
   ]
  },
  {
   "cell_type": "markdown",
   "id": "513c995f-5d4b-4e10-b845-3d3d5f7e8e0c",
   "metadata": {},
   "source": [
    "Python Dictionary copy()\n",
    "The dict.copy() method returns a shallow copy of the dictionary.\n",
    "\n",
    "The dictionary can also be copied using the = operator, which points to the same object as the original. So if any change is made in the copied dictionary will also reflect in the original dictionary.\n",
    "\n",
    "Syntax:\n",
    "dict.copy()"
   ]
  },
  {
   "cell_type": "code",
   "execution_count": null,
   "id": "457d6e7b-0fee-4a63-97d0-51fac4bfdd1c",
   "metadata": {},
   "outputs": [],
   "source": [
    "romanNums={'I':1,'II':2,'III':3,'IV':4,'V':5}\n",
    "newRomanNums=romanNums.copy()\n",
    "print(\"original dictionary:\",romanNums)\n",
    "print(\"Copied dictionary:\",newRomanNums)"
   ]
  },
  {
   "cell_type": "markdown",
   "id": "660f1fe5-f339-4a0d-ac91-3da47f9e5d44",
   "metadata": {},
   "source": [
    "Python Dictionary fromkeys()\n",
    "The dict.fromkeys() method creates a new dictionary from the given iterable (string, list, set, tuple) as keys and with the specified value.\n",
    "\n",
    "Syntax:\n",
    "dictionary.fromkeys(sequence, value)"
   ]
  },
  {
   "cell_type": "code",
   "execution_count": null,
   "id": "57915cc7-cdf5-4fc4-b2f0-0d852dd9b762",
   "metadata": {},
   "outputs": [],
   "source": [
    "keys={'Mumbai','Bangalore','Chicago','New York'}\n",
    "value='city'\n",
    "dictionary=dict.fromkeys(keys,value)\n",
    "print(dictionary)"
   ]
  },
  {
   "cell_type": "code",
   "execution_count": null,
   "id": "dfa2ddeb-d1ff-465c-b21b-98d004daf705",
   "metadata": {},
   "outputs": [],
   "source": [
    "keys={'Mumbai','Bangalore','Chicago','New York'}\n",
    "dictionary=dict.fromkeys(keys,)\n",
    "print(dictionary)"
   ]
  },
  {
   "cell_type": "markdown",
   "id": "a80a7d58-2a20-43e4-bf0d-a0afd9ef26f6",
   "metadata": {},
   "source": [
    "Python Dictionary items()\n",
    "The dict.items() returns a dictionary view object that provides a dynamic view of dictionary elements as a list of key-value pairs. This view object changes when the dictionary changes.\n",
    "\n",
    "Syntax:\n",
    "dict.items()"
   ]
  },
  {
   "cell_type": "code",
   "execution_count": null,
   "id": "b90467a7-24d4-4f9f-bb0c-227d15b2cd66",
   "metadata": {},
   "outputs": [],
   "source": [
    "romanNums={'I':1,'II':2,'III':3,'IV':4,'V':5}\n",
    "dictview=romanNums.items()\n",
    "print(dictview)"
   ]
  },
  {
   "cell_type": "code",
   "execution_count": null,
   "id": "69053f83-0204-4b93-9143-a46c41c5cd3f",
   "metadata": {},
   "outputs": [],
   "source": []
  },
  {
   "cell_type": "markdown",
   "id": "1d0c0503-16d4-4ebc-9230-d88e770cd8e4",
   "metadata": {},
   "source": [
    "romanNums={'I':1,'II':2,'III':3,'IV':4,'V':5}\n",
    "keysPython Dictionary popitem() Method\n",
    "The dict.popitem() method removes and returns a tuple of (key, value) pair from the dictionary. Pairs are returned in Last In First Out (LIFO) order.\n",
    "\n",
    "Syntax:\n",
    "dict.popitem()=romanNums.keys()\n",
    "print(keys)Python Dictionary popitem() Method\n",
    "The dict.popitem() method removes and returns a tuple of (key, value) pair from the dictionary. Pairs are returned in Last In First Out (LIFO) order.\n",
    "\n",
    "Syntax:\n",
    "dict.popitem()"
   ]
  },
  {
   "cell_type": "markdown",
   "id": "f59bc6a5-51b3-4922-8179-95c21f953c59",
   "metadata": {},
   "source": [
    "Python Dictionary pop()\n",
    "The dict.pop() method removes the key and returns its value. If a key does not exist in the dictionary, then returns the default value if specified, else throws a KeyError.\n",
    "\n",
    "Syntax:\n",
    "dict.pop(key, default)"
   ]
  },
  {
   "cell_type": "code",
   "execution_count": null,
   "id": "9b46475d-ce33-48ff-8daa-d7185aed7944",
   "metadata": {},
   "outputs": [],
   "source": [
    "x={'I':1,'II':2,'III':3,'IV':4,'V':5}\n",
    "print(\"Dictionary:\",x)\n",
    "\n",
    "y={'I':1,'II':2,'III':3,'IV':4,'V':5}\n",
    "x.update(y)\n",
    "print(\"Update  Dictionary:\",x)"
   ]
  },
  {
   "cell_type": "markdown",
   "id": "8be10f4f-5665-4908-bcbc-fb042475782b",
   "metadata": {},
   "source": [
    "#### "
   ]
  },
  {
   "cell_type": "markdown",
   "id": "c04e8b93-8ce2-4f3c-912c-ec2aaa842df9",
   "metadata": {},
   "source": [
    "Python Dictionary values()\n",
    "The dict.values() method returns the dictionary view object that provides a dynamic view of all the values in the dictionary. This view object changes when the dictionary changes.\n",
    "\n",
    "Syntax:\n",
    "dict.values()"
   ]
  },
  {
   "cell_type": "code",
   "execution_count": 67,
   "id": "87fa24db-1574-42d3-a590-677ae65dc43a",
   "metadata": {},
   "outputs": [
    {
     "name": "stdout",
     "output_type": "stream",
     "text": [
      "dict_values([1, 2, 3, 4, 5])\n"
     ]
    }
   ],
   "source": [
    "romanNums={'I':1,'II':2,'III':3,'IV':4,'V':5}\n",
    "values=romanNums.values()\n",
    "print(values)"
   ]
  },
  {
   "cell_type": "code",
   "execution_count": null,
   "id": "ed1003ff-1cb9-4470-8590-6a2986f7eb0e",
   "metadata": {},
   "outputs": [],
   "source": [
    "romanNums={'I':1,'II':2,'III':3,'IV':4,'V':5}\n",
    "kesy=romanNums.keys()\n",
    "print(keys)"
   ]
  },
  {
   "cell_type": "code",
   "execution_count": null,
   "id": "9ec619aa-4d58-4bcc-8dcc-6921078e6862",
   "metadata": {},
   "outputs": [],
   "source": [
    "mydict1=('DOB':2001)\n",
    "mydict1"
   ]
  },
  {
   "cell_type": "code",
   "execution_count": null,
   "id": "d7ac5897-e2bc-4666-9ebc-3973909a3367",
   "metadata": {},
   "outputs": [],
   "source": [
    "mydict1={'Name':'Asif','ID':'1234','DOB':'2001','Job':'Analyst'}\n",
    "mydict1\n",
    "'Name' is in mydict1-----(True)---Test if a key is in a dictionary or not\n",
    "'Asif' is in mydict1----(False)----Membership test can be only done for keys."
   ]
  },
  {
   "cell_type": "code",
   "execution_count": null,
   "id": "f8609557-1dcf-4a4e-a636-3348ce4c1834",
   "metadata": {},
   "outputs": [],
   "source": [
    "mydict1={'Name':'Asif','ID':'1234','DOB':'2001','Job':'Analyst'}\n",
    "mydict1\n",
    "('Name','ID') is in mydict1\n"
   ]
  },
  {
   "cell_type": "code",
   "execution_count": null,
   "id": "bfa3954d-dd9b-40b1-9f8c-dc7baceaed56",
   "metadata": {},
   "outputs": [],
   "source": [
    "mydict1={'Name':'Asif','ID':'1234','DOB':'2001','Job':'Analyst'}\n",
    "mydict1\n",
    "all(mydict1)------Will Return false as the value is false (value 0)"
   ]
  },
  {
   "cell_type": "code",
   "execution_count": null,
   "id": "0b4143a1-0850-486e-a7ed-d3a64f2e5164",
   "metadata": {},
   "outputs": [],
   "source": [
    "mydict1[1]='test1'\n",
    "mydict1\n",
    "all(mydict1)"
   ]
  },
  {
   "cell_type": "code",
   "execution_count": null,
   "id": "f8ce6136-31ff-4694-b5d7-a920cb0f5cd6",
   "metadata": {},
   "outputs": [],
   "source": [
    "mydict1[1]='test1'\n",
    "mydict1\n"
   ]
  },
  {
   "cell_type": "code",
   "execution_count": null,
   "id": "d2236026-63f1-4f74-8cb8-5b1ca9347378",
   "metadata": {},
   "outputs": [],
   "source": [
    "double={i:i*2 for i in range(10)}\n",
    "double"
   ]
  },
  {
   "cell_type": "code",
   "execution_count": null,
   "id": "a4451ffc-e379-4eee-bab7-27906fc382e8",
   "metadata": {},
   "outputs": [],
   "source": [
    "square={i:i*5 for i in range(20)}\n",
    "square"
   ]
  },
  {
   "cell_type": "code",
   "execution_count": null,
   "id": "a4bbe0a3-799d-45e9-b8a7-c1752b715a23",
   "metadata": {},
   "outputs": [],
   "source": [
    "key=['one','two','three','four','five']\n",
    "value=[1,2,3,4,5]\n",
    "\n",
    "mydict={k:v for (k,v) in zip(key,value)}\n",
    "mydict\n"
   ]
  },
  {
   "cell_type": "code",
   "execution_count": 9,
   "id": "2d6b9f1b-5bf5-478f-8155-6966b1b898e9",
   "metadata": {},
   "outputs": [
    {
     "data": {
      "text/plain": [
       "{'a': 1.0, 'b': 2.0, 'c': 3.0, 'd': 4.0, 'e': 5.0}"
      ]
     },
     "execution_count": 9,
     "metadata": {},
     "output_type": "execute_result"
    }
   ],
   "source": [
    "mydict1={'a':10,'b':20,'c':30,'d':40,'e':50}\n",
    "mydict1={k:v/10 for (k,v) in mydict1.items()}----Divide all values in dictionary\n",
    "mydict1"
   ]
  },
  {
   "cell_type": "code",
   "execution_count": null,
   "id": "02fde6bb-4ff1-41e8-a48d-94ea3b874149",
   "metadata": {},
   "outputs": [],
   "source": [
    "str1=\"abcdefghijklmnopqrstuvwxyz\"\n",
    "mydict3={i:i.upper() for i in str1}---- Lower to upper case\n",
    "mydict3"
   ]
  },
  {
   "cell_type": "code",
   "execution_count": null,
   "id": "77c663cd-05ec-4f84-a39c-39a40b50d6b3",
   "metadata": {},
   "outputs": [],
   "source": [
    "Fumctions\n",
    ". A function is a block of organized code written to carry out"
   ]
  },
  {
   "cell_type": "code",
   "execution_count": null,
   "id": "1a4a317c-b58f-4b3b-a72f-cf1694a7896d",
   "metadata": {},
   "outputs": [],
   "source": [
    "Parameter VS Argument \n",
    "- A parameter is the variable listed inside the parentheses in the function definition.---(a,b)\n",
    "- An argument is the value that is sent to the function when it is called.---s(10,20)"
   ]
  },
  {
   "cell_type": "code",
   "execution_count": null,
   "id": "f168feca-c003-4041-97a0-827bf95b0aab",
   "metadata": {},
   "outputs": [],
   "source": [
    "Three types of functions in python\n",
    "1. Built-in funtion:- Python predefined functions that are readily availabe for use like min(),max(),sum(),print()etc.\n",
    "2. User-Defined functions:- Function that we define ourselves to perform "
   ]
  },
  {
   "cell_type": "markdown",
   "id": "a0f79158-7448-4675-8e15-ba6d23d57d6c",
   "metadata": {},
   "source": [
    "Default Function\n",
    "Argument \n",
    "Return Type\n",
    "Placeholder\n",
    "Args,kwargs\n",
    "\n",
    "syntax---def function_name():\n"
   ]
  },
  {
   "cell_type": "code",
   "execution_count": 1,
   "id": "096945a9-2d49-4cb5-84cf-c9296b4d6832",
   "metadata": {},
   "outputs": [],
   "source": [
    "def function_name():-----Function_defination\n",
    "    logic"
   ]
  },
  {
   "cell_type": "code",
   "execution_count": null,
   "id": "821ecdab-e784-486f-85dc-d2915e6ad847",
   "metadata": {},
   "outputs": [],
   "source": [
    "function_name()-----Calling"
   ]
  },
  {
   "cell_type": "code",
   "execution_count": 63,
   "id": "6d606e35-a61f-4aee-8628-24fca5943e61",
   "metadata": {},
   "outputs": [
    {
     "name": "stdin",
     "output_type": "stream",
     "text": [
      "enter the number 67\n",
      "enter the number 54\n"
     ]
    },
    {
     "name": "stdout",
     "output_type": "stream",
     "text": [
      "the sume is 121\n"
     ]
    },
    {
     "name": "stdin",
     "output_type": "stream",
     "text": [
      "enter the number 56\n",
      "enter the number 43\n"
     ]
    },
    {
     "name": "stdout",
     "output_type": "stream",
     "text": [
      "the sume is 99\n"
     ]
    }
   ],
   "source": [
    "def addition():\n",
    "    a=int(input(\"enter the number\"))\n",
    "    b=int(input(\"enter the number\"))\n",
    "    c=a+b\n",
    "    print(\"the sume is\",c)\n",
    "\n",
    "addition()\n",
    "addition()\n",
    "\n"
   ]
  },
  {
   "cell_type": "code",
   "execution_count": 65,
   "id": "bb293905-51f3-4e1b-a3c5-6b0e3dde91b1",
   "metadata": {},
   "outputs": [
    {
     "name": "stdin",
     "output_type": "stream",
     "text": [
      "enter the number 56\n",
      "enter the number 54\n",
      "enter the number 43\n"
     ]
    },
    {
     "name": "stdout",
     "output_type": "stream",
     "text": [
      "the intrerest is 1300.32\n"
     ]
    },
    {
     "name": "stdin",
     "output_type": "stream",
     "text": [
      "enter the number 56\n",
      "enter the number 54\n",
      "enter the number 56\n"
     ]
    },
    {
     "name": "stdout",
     "output_type": "stream",
     "text": [
      "the intrerest is 1693.44\n"
     ]
    }
   ],
   "source": [
    "def interest():\n",
    "    p=int(input(\"enter the number\"))\n",
    "    r=int(input(\"enter the number\"))\n",
    "    t=int(input(\"enter the number\"))\n",
    "    si=p*r*t/100\n",
    "    print(\"the intrerest is\",si)\n",
    "\n",
    "interest()\n",
    "interest()"
   ]
  },
  {
   "cell_type": "code",
   "execution_count": null,
   "id": "d4bbf4e7-9668-46e9-8c13-2e324f9d4f4c",
   "metadata": {},
   "outputs": [],
   "source": [
    "def check():\n",
    "    n=int(input(\"enter the number\"))\n",
    "    if n%2==0:\n",
    "        print(\"Even number\")\n",
    "    else:\n",
    "        print(\"Odd number\")\n",
    "\n",
    "check()"
   ]
  },
  {
   "cell_type": "code",
   "execution_count": null,
   "id": "505ad1d2-8fe7-4c7b-800d-b674da64827e",
   "metadata": {},
   "outputs": [],
   "source": [
    "def year():\n",
    "    n=int(input(\"enter the number\" ))  \n",
    "    if year%4==0:\n",
    "    print(\"leap year\")\n",
    "else:\n",
    "    print(\"non leap year\")\n",
    "\n",
    "year()"
   ]
  },
  {
   "cell_type": "code",
   "execution_count": null,
   "id": "47139e75-9a8d-405d-931d-a83de14bfa6d",
   "metadata": {},
   "outputs": [],
   "source": [
    "def fectorial():\n",
    "    n=int(input(\"enter the number\"))\n",
    "    f=1\n",
    "    for i in range(1,n+1):\n",
    "        f=f*i\n",
    "        print(\"the fectorial is\",f)\n",
    "\n",
    "factorial()"
   ]
  },
  {
   "cell_type": "code",
   "execution_count": null,
   "id": "bdbc31fc-a3ba-4fc7-a772-213cdbbac753",
   "metadata": {},
   "outputs": [],
   "source": [
    "def reverse():\n",
    "    n=int(input(\"enter the number\"))\n",
    "    rev=0\n",
    "    while n>0:\n",
    "        rev=rev*10+n%10\n",
    "        n=n//10\n",
    "    print(\"the reverse is\",rev)\n",
    "\n",
    "\n",
    "\n",
    "reverse()\n",
    "    "
   ]
  },
  {
   "cell_type": "markdown",
   "id": "f9073a3f-8adc-4360-ad55-1f1e24f91924",
   "metadata": {},
   "source": [
    "Argument function\n",
    "-----------------\n",
    "\n",
    "def function_name(arg1,arg2....):\n",
    "    logic\n",
    "\n",
    "function_name(arg1.arg2...)"
   ]
  },
  {
   "cell_type": "code",
   "execution_count": 178,
   "id": "eb45f261-79f6-4486-a492-a3fd691a4598",
   "metadata": {},
   "outputs": [
    {
     "name": "stdout",
     "output_type": "stream",
     "text": [
      "the sum is 121\n"
     ]
    }
   ],
   "source": [
    "def addition(a,b):\n",
    "    c=a+b\n",
    "    print(\"the sum is\",c)\n",
    "\n",
    "addition(56,65)\n",
    "         "
   ]
  },
  {
   "cell_type": "code",
   "execution_count": 1,
   "id": "b1cfed3a-05ea-4ad8-bab3-22449fd87fd9",
   "metadata": {},
   "outputs": [
    {
     "name": "stdin",
     "output_type": "stream",
     "text": [
      "enter the year 6765\n"
     ]
    },
    {
     "name": "stdout",
     "output_type": "stream",
     "text": [
      "non leap year\n"
     ]
    }
   ],
   "source": [
    "def year():\n",
    "    year=int(input(\"enter the year\"))\n",
    "    if year%4==0:\n",
    "        print(\"leap year\")\n",
    "    else:\n",
    "        print(\"non leap year\")\n",
    "\n",
    "year()\n"
   ]
  },
  {
   "cell_type": "code",
   "execution_count": 17,
   "id": "9809f909-63d5-424c-a41a-11e7fd1ed1ef",
   "metadata": {},
   "outputs": [
    {
     "name": "stdin",
     "output_type": "stream",
     "text": [
      "enter the number 3\n"
     ]
    },
    {
     "name": "stdout",
     "output_type": "stream",
     "text": [
      "the fectorial is 1\n",
      "the fectorial is 2\n",
      "the fectorial is 6\n"
     ]
    }
   ],
   "source": [
    "def fectorial():\n",
    "    n=int(input(\"enter the number\"))\n",
    "    f=1\n",
    "    for i in range(1,n+1):\n",
    "        f=f*i\n",
    "        print(\"the fectorial is\",f)\n",
    "\n",
    "fectorial()"
   ]
  },
  {
   "cell_type": "code",
   "execution_count": 21,
   "id": "3a6c29a5-7050-4f49-bff0-9c9930d7a033",
   "metadata": {},
   "outputs": [
    {
     "name": "stdin",
     "output_type": "stream",
     "text": [
      "enter the number 67\n"
     ]
    },
    {
     "name": "stdout",
     "output_type": "stream",
     "text": [
      "the reverse is 7\n",
      "the reverse is 76\n"
     ]
    }
   ],
   "source": [
    "def reverse():\n",
    "    n=int(input(\"enter the number\"))\n",
    "    rev=0\n",
    "    while n>0:\n",
    "        rev=rev*10+n%10\n",
    "        n=n//10\n",
    "        print(\"the reverse is\",rev)\n",
    "\n",
    "reverse()"
   ]
  },
  {
   "cell_type": "code",
   "execution_count": 27,
   "id": "c5582f33-94be-4a9d-8b26-bae731b855b2",
   "metadata": {},
   "outputs": [
    {
     "name": "stdin",
     "output_type": "stream",
     "text": [
      "enter the number 5\n"
     ]
    },
    {
     "name": "stdout",
     "output_type": "stream",
     "text": [
      "the fectorial is 1\n",
      "the fectorial is 2\n",
      "the fectorial is 6\n",
      "the fectorial is 24\n",
      "the fectorial is 120\n"
     ]
    }
   ],
   "source": [
    "def fectorial():\n",
    "    n=int(input(\"enter the number\"))\n",
    "    f=1\n",
    "    for i in range(1,n+1):\n",
    "        f=f*i\n",
    "        print(\"the fectorial is\",f)\n",
    "\n",
    "fectorial()"
   ]
  },
  {
   "cell_type": "code",
   "execution_count": 59,
   "id": "19ddf92b-f0e6-40f5-b1fc-62e856cbeb2d",
   "metadata": {},
   "outputs": [
    {
     "name": "stdin",
     "output_type": "stream",
     "text": [
      "enter the number 6\n"
     ]
    },
    {
     "name": "stdout",
     "output_type": "stream",
     "text": [
      "the reverse is 6\n"
     ]
    }
   ],
   "source": [
    "def reverse():\n",
    "    n=int(input(\"enter the number\"))\n",
    "    rev=0\n",
    "    while n>0:\n",
    "        rev=rev*10+n%10\n",
    "        n=n//10\n",
    "        print(\"the reverse is\",rev)\n",
    "\n",
    "reverse()"
   ]
  },
  {
   "cell_type": "code",
   "execution_count": 37,
   "id": "3b98915b-2cf7-4a58-9707-e67a5879871d",
   "metadata": {},
   "outputs": [
    {
     "name": "stdin",
     "output_type": "stream",
     "text": [
      "enter the number 56\n"
     ]
    },
    {
     "name": "stdout",
     "output_type": "stream",
     "text": [
      "even number\n"
     ]
    }
   ],
   "source": [
    "def check():\n",
    "    n=int(input(\"enter the number\"))\n",
    "    if n%2==0:\n",
    "        print(\"even number\")\n",
    "    else:\n",
    "        print(\"odd number\")\n",
    "\n",
    "check()\n",
    "    "
   ]
  },
  {
   "cell_type": "code",
   "execution_count": 41,
   "id": "af439526-6abc-44c7-a439-e9705b20c642",
   "metadata": {},
   "outputs": [
    {
     "name": "stdin",
     "output_type": "stream",
     "text": [
      "enter the number 33\n"
     ]
    },
    {
     "name": "stdout",
     "output_type": "stream",
     "text": [
      "odd number\n"
     ]
    }
   ],
   "source": [
    "def check():\n",
    "    n=int(input(\"enter the number\"))\n",
    "    if n%2==0:\n",
    "        print(\"even number\")\n",
    "    else:\n",
    "        print(\"odd number\")\n",
    "\n",
    "check()"
   ]
  },
  {
   "cell_type": "code",
   "execution_count": 43,
   "id": "c3833d60-76f0-488d-a3d7-9303d347b088",
   "metadata": {},
   "outputs": [
    {
     "name": "stdin",
     "output_type": "stream",
     "text": [
      "enter the number 32\n",
      "enter the number 32\n",
      "enter the number 21\n"
     ]
    },
    {
     "name": "stdout",
     "output_type": "stream",
     "text": [
      "the interest is 215.04\n"
     ]
    }
   ],
   "source": [
    "def interest():\n",
    "    p=int(input(\"enter the number\"))\n",
    "    r=int(input(\"enter the number\"))\n",
    "    t=int(input(\"enter the number\"))\n",
    "    s=p*r*t/100\n",
    "    print(\"the interest is\",s)\n",
    "\n",
    "interest()"
   ]
  },
  {
   "cell_type": "code",
   "execution_count": 57,
   "id": "f26afffa-1159-47fb-a434-97b7d515132d",
   "metadata": {},
   "outputs": [
    {
     "name": "stdin",
     "output_type": "stream",
     "text": [
      "enter the number 6\n"
     ]
    },
    {
     "name": "stdout",
     "output_type": "stream",
     "text": [
      "the revers is 6\n"
     ]
    }
   ],
   "source": [
    "def revers():\n",
    "    n=int(input(\"enter the number\"))\n",
    "    rev=0\n",
    "    while n>0:\n",
    "        rev=rev*10+n%10\n",
    "        n=n//10\n",
    "        print(\"the revers is\",rev)\n",
    "\n",
    "revers()"
   ]
  },
  {
   "cell_type": "code",
   "execution_count": 61,
   "id": "212db1f7-350d-4274-bc58-b22b10f4d128",
   "metadata": {},
   "outputs": [
    {
     "name": "stdin",
     "output_type": "stream",
     "text": [
      "enter the number 32\n"
     ]
    },
    {
     "name": "stdout",
     "output_type": "stream",
     "text": [
      "the fectorial is 1\n",
      "the fectorial is 2\n",
      "the fectorial is 6\n",
      "the fectorial is 24\n",
      "the fectorial is 120\n",
      "the fectorial is 720\n",
      "the fectorial is 5040\n",
      "the fectorial is 40320\n",
      "the fectorial is 362880\n",
      "the fectorial is 3628800\n",
      "the fectorial is 39916800\n",
      "the fectorial is 479001600\n",
      "the fectorial is 6227020800\n",
      "the fectorial is 87178291200\n",
      "the fectorial is 1307674368000\n",
      "the fectorial is 20922789888000\n",
      "the fectorial is 355687428096000\n",
      "the fectorial is 6402373705728000\n",
      "the fectorial is 121645100408832000\n",
      "the fectorial is 2432902008176640000\n",
      "the fectorial is 51090942171709440000\n",
      "the fectorial is 1124000727777607680000\n",
      "the fectorial is 25852016738884976640000\n",
      "the fectorial is 620448401733239439360000\n",
      "the fectorial is 15511210043330985984000000\n",
      "the fectorial is 403291461126605635584000000\n",
      "the fectorial is 10888869450418352160768000000\n",
      "the fectorial is 304888344611713860501504000000\n",
      "the fectorial is 8841761993739701954543616000000\n",
      "the fectorial is 265252859812191058636308480000000\n",
      "the fectorial is 8222838654177922817725562880000000\n",
      "the fectorial is 263130836933693530167218012160000000\n"
     ]
    }
   ],
   "source": [
    "def fectorial():\n",
    "    n=int(input(\"enter the number\"))\n",
    "    f=1\n",
    "    for i in range(1,n+1):\n",
    "        f=f*i\n",
    "        print(\"the fectorial is\",f)\n",
    "\n",
    "fectorial()"
   ]
  },
  {
   "cell_type": "markdown",
   "id": "3c03cfcc-cc49-4c7c-bf55-d8be8eaa377c",
   "metadata": {},
   "source": [
    "Return type function \n",
    "---------------------\n",
    "\n",
    "def function_name(arg1,arg2)\n",
    "logic/statment\n",
    "return value /value\n",
    "\n",
    "var=function_name(arg1,arg2)\n",
    "print(var)\n",
    "\n",
    "print(function_name(arg1,arg2))"
   ]
  },
  {
   "cell_type": "code",
   "execution_count": 14,
   "id": "8706546e-acc6-4ae0-be29-db2a9b1845b6",
   "metadata": {},
   "outputs": [
    {
     "name": "stdout",
     "output_type": "stream",
     "text": [
      "77\n",
      "77\n"
     ]
    }
   ],
   "source": [
    "def addition(a,b):\n",
    "    return a+b\n",
    "c=addition(32,45)\n",
    "print(c)\n",
    "\n",
    "print(addition(45,32))"
   ]
  },
  {
   "cell_type": "code",
   "execution_count": 18,
   "id": "71a1b325-6fd4-4eba-87ed-1590329db77d",
   "metadata": {},
   "outputs": [
    {
     "name": "stdout",
     "output_type": "stream",
     "text": [
      "(57, -11, 782, 0.6764705882352942)\n"
     ]
    }
   ],
   "source": [
    "x=mathop(23,34)\n",
    "print(x)"
   ]
  },
  {
   "cell_type": "code",
   "execution_count": 20,
   "id": "4164c6d1-8678-433a-9e73-70ac2aaeb20f",
   "metadata": {},
   "outputs": [
    {
     "name": "stdout",
     "output_type": "stream",
     "text": [
      "sum 55\n",
      "sub -13\n",
      "mul 714\n",
      "div 0.6176470588235294\n"
     ]
    }
   ],
   "source": [
    "s,a,m,d=mathop(21,34)\n",
    "print(\"sum\",s)\n",
    "print(\"sub\",a)\n",
    "print(\"mul\",m)\n",
    "print(\"div\",d)"
   ]
  },
  {
   "cell_type": "markdown",
   "id": "cc966735-7d56-47bb-9f40-5b212fbb725b",
   "metadata": {},
   "source": [
    "placeholder argument\n",
    "--------------------\n",
    "def addition(a,b=400,c=300):\n",
    "    return a+b+c\n",
    "\n",
    "print(addition(200))"
   ]
  },
  {
   "cell_type": "code",
   "execution_count": 24,
   "id": "efa3ddfc-f906-45ba-9ee8-52f73a325056",
   "metadata": {},
   "outputs": [
    {
     "name": "stdout",
     "output_type": "stream",
     "text": [
      "800\n"
     ]
    }
   ],
   "source": [
    "def addition(a,b=400,c=300):\n",
    "    return a+b+c\n",
    "\n",
    "print(addition(200,300)) placeholder argument "
   ]
  },
  {
   "cell_type": "code",
   "execution_count": 28,
   "id": "e37b022c-cfa0-433f-b7e0-6e2843bcf06c",
   "metadata": {},
   "outputs": [
    {
     "data": {
      "text/plain": [
       "(3, 2)"
      ]
     },
     "execution_count": 28,
     "metadata": {},
     "output_type": "execute_result"
    }
   ],
   "source": [
    "def datascince(a,b,c,d,e):\n",
    "    return(a+b,a*b)\n",
    "\n",
    "datascince(1,2,3,4,5)"
   ]
  },
  {
   "cell_type": "code",
   "execution_count": 44,
   "id": "033105ec-0b92-4d96-b36a-380e4c762b6f",
   "metadata": {},
   "outputs": [
    {
     "data": {
      "text/plain": [
       "'my name is sam and gender is 23'"
      ]
     },
     "execution_count": 44,
     "metadata": {},
     "output_type": "execute_result"
    }
   ],
   "source": [
    "def hello(a,b):\n",
    "    return(\"my name is {} and gender is {}\".format(a,b))\n",
    "hello(\"sam\",23)"
   ]
  },
  {
   "cell_type": "code",
   "execution_count": 46,
   "id": "855f2826-9cca-4bb4-9717-de30702e795d",
   "metadata": {},
   "outputs": [
    {
     "name": "stdout",
     "output_type": "stream",
     "text": [
      "1600\n",
      "1600\n",
      "600\n"
     ]
    }
   ],
   "source": [
    "def addition(a,b=700,c=600):\n",
    "    return a+b+c\n",
    "\n",
    "print(addition(300))\n",
    "print(addition(a=400,c=500))\n",
    "print(addition(100,200,300))"
   ]
  },
  {
   "cell_type": "code",
   "execution_count": 52,
   "id": "e78ee918-38e8-4489-a50c-b620d3e597e6",
   "metadata": {},
   "outputs": [
    {
     "data": {
      "text/plain": [
       "'my name is sam,and age is 23,and gender id male'"
      ]
     },
     "execution_count": 52,
     "metadata": {},
     "output_type": "execute_result"
    }
   ],
   "source": [
    "def hello(name,age=23,gender=\"male\"):\n",
    "    return(\"my name is {},and age is {},and gender id {}\".format(name,age,gender))\\\n",
    "\n",
    "hello(\"sam\")"
   ]
  },
  {
   "cell_type": "markdown",
   "id": "9145007a-884c-4c08-9417-729c622f5fe5",
   "metadata": {},
   "source": [
    "Format of args,Kwargs,\n",
    "---------------------\n",
    "1. unpacking operators are operators that unpack the values from iterable objects in python.\n",
    "2. The single asterisk operators* can be used on any iterable that python provides.\n",
    "3. While the dounle astrisk operators** can only used on dictionaries."
   ]
  },
  {
   "cell_type": "code",
   "execution_count": 57,
   "id": "6252f259-3c22-4603-8dd3-3d936f06ca35",
   "metadata": {},
   "outputs": [
    {
     "name": "stdout",
     "output_type": "stream",
     "text": [
      "1 2 3\n"
     ]
    }
   ],
   "source": [
    "u=[1,2,3]\n",
    "u\n",
    "print(*u)"
   ]
  },
  {
   "cell_type": "code",
   "execution_count": 59,
   "id": "b4562526-8472-45ee-8814-dbd4c9e209e7",
   "metadata": {},
   "outputs": [
    {
     "data": {
      "text/plain": [
       "[1, 2, 3]"
      ]
     },
     "execution_count": 59,
     "metadata": {},
     "output_type": "execute_result"
    }
   ],
   "source": [
    "u=[1,2,3]\n",
    "u"
   ]
  },
  {
   "cell_type": "code",
   "execution_count": 61,
   "id": "cfae4d54-b855-491a-80bf-429ba62ff5dc",
   "metadata": {},
   "outputs": [
    {
     "data": {
      "text/plain": [
       "1"
      ]
     },
     "execution_count": 61,
     "metadata": {},
     "output_type": "execute_result"
    }
   ],
   "source": [
    "a,*b,c=[1,2,3,4,65,7,8,9]\n",
    "a"
   ]
  },
  {
   "cell_type": "code",
   "execution_count": 63,
   "id": "a22ba7c1-4aef-48c2-a713-df1b94f8af0a",
   "metadata": {},
   "outputs": [
    {
     "data": {
      "text/plain": [
       "[2, 3, 4, 65, 7, 8]"
      ]
     },
     "execution_count": 63,
     "metadata": {},
     "output_type": "execute_result"
    }
   ],
   "source": [
    "a,*b,c=[1,2,3,4,65,7,8,9]\n",
    "b"
   ]
  },
  {
   "cell_type": "code",
   "execution_count": 67,
   "id": "39ca7164-b53f-480b-a593-506f88129b80",
   "metadata": {},
   "outputs": [
    {
     "data": {
      "text/plain": [
       "[1, 2, 3, 4, 65, 7]"
      ]
     },
     "execution_count": 67,
     "metadata": {},
     "output_type": "execute_result"
    }
   ],
   "source": [
    "*a,b,c=[1,2,3,4,65,7,8,9]\n",
    "a"
   ]
  },
  {
   "cell_type": "code",
   "execution_count": 69,
   "id": "e223831a-8973-41cb-94b3-bbf594bac70f",
   "metadata": {},
   "outputs": [
    {
     "data": {
      "text/plain": [
       "[1, 2, 3, 4, 5, 6]"
      ]
     },
     "execution_count": 69,
     "metadata": {},
     "output_type": "execute_result"
    }
   ],
   "source": [
    "a=[1,2,3]\n",
    "b=[4,5,6]\n",
    "c=[*a,*b]---it removes brackets.\n",
    "c"
   ]
  },
  {
   "cell_type": "code",
   "execution_count": 71,
   "id": "b1cb8254-ee13-4a3e-9c94-f94932c8e26a",
   "metadata": {},
   "outputs": [
    {
     "data": {
      "text/plain": [
       "[[1, 2, 3], [4, 5, 6]]"
      ]
     },
     "execution_count": 71,
     "metadata": {},
     "output_type": "execute_result"
    }
   ],
   "source": [
    "a=[1,2,3]\n",
    "b=[4,5,6]\n",
    "c=[a,b]\n",
    "c"
   ]
  },
  {
   "cell_type": "code",
   "execution_count": 73,
   "id": "d9b78e3c-779b-4aa9-904d-614ea2563073",
   "metadata": {},
   "outputs": [
    {
     "data": {
      "text/plain": [
       "['r', 'e', 'a', 'l', 'p', 'y', 't', 'h', 'o', 'n']"
      ]
     },
     "execution_count": 73,
     "metadata": {},
     "output_type": "execute_result"
    }
   ],
   "source": [
    "a=[*\"realpython\"]\n",
    "a\n",
    "#b=list(\"realpython\")\n",
    "#b"
   ]
  },
  {
   "cell_type": "code",
   "execution_count": 89,
   "id": "684d332e-68ae-4059-a2d2-ef87a2851f49",
   "metadata": {},
   "outputs": [
    {
     "data": {
      "text/plain": [
       "{'A': 1, 'B': 2, 'C': 3, 'D': 4}"
      ]
     },
     "execution_count": 89,
     "metadata": {},
     "output_type": "execute_result"
    }
   ],
   "source": [
    "d1={'A':1,'B':2}\n",
    "d2={'C':3,'D':4}\n",
    "d1.update(d2)\n",
    "d1"
   ]
  },
  {
   "cell_type": "code",
   "execution_count": 93,
   "id": "3ed6c58b-8d4e-4c16-abdf-5735d166c427",
   "metadata": {},
   "outputs": [
    {
     "data": {
      "text/plain": [
       "{'A': 1, 'B': 2, 'C': 3, 'D': 4}"
      ]
     },
     "execution_count": 93,
     "metadata": {},
     "output_type": "execute_result"
    }
   ],
   "source": [
    "d1={'A':1,'B':2}\n",
    "d2={'C':3,'D':4}\n",
    "d3={**d1,**d2}\n",
    "d3"
   ]
  },
  {
   "cell_type": "code",
   "execution_count": 109,
   "id": "a1474674-9a6e-486a-9158-e8e41056f174",
   "metadata": {},
   "outputs": [
    {
     "data": {
      "text/plain": [
       "45"
      ]
     },
     "execution_count": 109,
     "metadata": {},
     "output_type": "execute_result"
    }
   ],
   "source": [
    "def my_sum(*a):\n",
    "    result=0\n",
    "    for i in a:\n",
    "        result=result+i\n",
    "    return result\n",
    "\n",
    "list1=[1,2,3]\n",
    "list2=[4,5]\n",
    "list3=[6,7,8,9]\n",
    "my_sum(*list1,*list2,*list3)"
   ]
  },
  {
   "cell_type": "code",
   "execution_count": 111,
   "id": "c76d65e5-e3f5-4c3a-bc8c-fae77efd5e61",
   "metadata": {},
   "outputs": [
    {
     "data": {
      "text/plain": [
       "735"
      ]
     },
     "execution_count": 111,
     "metadata": {},
     "output_type": "execute_result"
    }
   ],
   "source": [
    "def my_sum(*a):\n",
    "    result=0\n",
    "    for i in a:\n",
    "        result=result+i\n",
    "    return result\n",
    "\n",
    "my_sum(34,45,656)"
   ]
  },
  {
   "cell_type": "markdown",
   "id": "60ef166f-ce7d-4129-80ba-d6674a8a4fb8",
   "metadata": {},
   "source": [
    "___________ZIP FUNCTION__________\n",
    "1. Zip() function returns a zip object, which is an iterator of tuples where the first item in each passed iterator is paired together, and then the secound item each passed iterator are paried together etc.\n",
    "2. if the passed iterator have different length, the iterator with the least items decides the length of the new iterator.\n",
    "\n",
    "SYNTAX:- zip(iterator1,iterator2,iterator3.....)"
   ]
  },
  {
   "cell_type": "code",
   "execution_count": 114,
   "id": "39769807-a884-4d09-bc2a-595569931066",
   "metadata": {},
   "outputs": [
    {
     "data": {
      "text/plain": [
       "[('Sam', 'Jenny'), ('singh', 'ashwin')]"
      ]
     },
     "execution_count": 114,
     "metadata": {},
     "output_type": "execute_result"
    }
   ],
   "source": [
    "a=[\"Sam\",\"singh\",\"name\"]\n",
    "b=[\"Jenny\",\"ashwin\"]\n",
    "list(zip(a,b))"
   ]
  },
  {
   "cell_type": "code",
   "execution_count": 116,
   "id": "4bb8ef68-0000-48ca-b3aa-b91aafde3747",
   "metadata": {},
   "outputs": [
    {
     "data": {
      "text/plain": [
       "[('n', 'y'), ('o', 'e')]"
      ]
     },
     "execution_count": 116,
     "metadata": {},
     "output_type": "execute_result"
    }
   ],
   "source": [
    "a=\"no\"\n",
    "b=\"yes\"\n",
    "list(zip(a,b))"
   ]
  },
  {
   "cell_type": "code",
   "execution_count": 118,
   "id": "d1787833-8469-4c2a-8489-aed68ccbc74b",
   "metadata": {},
   "outputs": [
    {
     "name": "stdout",
     "output_type": "stream",
     "text": [
      "[(1, 'one'), (2, 'five'), (3, 'four'), (3, 'three')]\n"
     ]
    }
   ],
   "source": [
    "number_list=[1,2,3,3]\n",
    "str_list=['one','five','four',\"three\"]\n",
    "\n",
    "result=list(zip(number_list,str_list))\n",
    "print(result)"
   ]
  },
  {
   "cell_type": "code",
   "execution_count": 120,
   "id": "5acf727a-69de-4e9f-9bb2-3e306d66667d",
   "metadata": {},
   "outputs": [
    {
     "name": "stdout",
     "output_type": "stream",
     "text": [
      "[(1, 'one'), (2, 'five'), (3, 'four'), (3, 'three')]\n",
      "{(2, 'five'), (3, 'three'), (1, 'one'), (3, 'four')}\n"
     ]
    }
   ],
   "source": [
    "number_list=[1,2,3,3]\n",
    "str_list=['one','five','four',\"three\"]\n",
    "\n",
    "result=list(zip(number_list,str_list))\n",
    "print(result)\n",
    "\n",
    "result_set=set(result)\n",
    "print(result_set)"
   ]
  },
  {
   "cell_type": "code",
   "execution_count": 136,
   "id": "106b43d3-8cb1-4cd8-9b96-a700bc99bd59",
   "metadata": {},
   "outputs": [
    {
     "name": "stdout",
     "output_type": "stream",
     "text": [
      "[(1, 'ONE'), (2, 'TWO'), (3, 'THREE')]\n",
      "[(1, 'one', 'ONE'), (2, 'two', 'TWO')]\n"
     ]
    }
   ],
   "source": [
    "numberlist=[1,2,3]\n",
    "str_list=['one','two']\n",
    "number_tuple=('ONE','TWO','THREE','FOUR')\n",
    "\n",
    "result=zip(numberlist,number_tuple)\n",
    "print(list(result))\n",
    "\n",
    "result1=zip(numberlist,str_list,number_tuple)\n",
    "print(list(result1))"
   ]
  },
  {
   "cell_type": "markdown",
   "id": "98bb9166-7df5-4877-8df5-49ff293de53b",
   "metadata": {},
   "source": [
    "ENUMERATED"
   ]
  },
  {
   "cell_type": "code",
   "execution_count": 124,
   "id": "78b8049b-7c36-40ba-99b6-aa2431ce1771",
   "metadata": {},
   "outputs": [
    {
     "data": {
      "text/plain": [
       "[(0, 'P'), (1, 'Y'), (2, 'T'), (3, 'H'), (4, 'O'), (5, 'N')]"
      ]
     },
     "execution_count": 124,
     "metadata": {},
     "output_type": "execute_result"
    }
   ],
   "source": [
    "s1=\"PYTHON\"\n",
    "list(enumerate(s1))"
   ]
  },
  {
   "cell_type": "code",
   "execution_count": 128,
   "id": "1a168bd2-8dd4-425b-8561-61a2bc8446cf",
   "metadata": {},
   "outputs": [
    {
     "data": {
      "text/plain": [
       "[(0, 'DL'), (1, 'ML'), (2, 'NLP')]"
      ]
     },
     "execution_count": 128,
     "metadata": {},
     "output_type": "execute_result"
    }
   ],
   "source": [
    "l1=[\"DL\",\"ML\",\"NLP\"]\n",
    "ls=list(enumerate(l1))\n",
    "ls"
   ]
  },
  {
   "cell_type": "code",
   "execution_count": 130,
   "id": "f5e2c457-97c3-456b-800e-e44c91b5006a",
   "metadata": {},
   "outputs": [
    {
     "data": {
      "text/plain": [
       "[(100, 'DL'), (101, 'ML'), (102, 'NLP')]"
      ]
     },
     "execution_count": 130,
     "metadata": {},
     "output_type": "execute_result"
    }
   ],
   "source": [
    "b=enumerate(s1)\n",
    "list(a)\n",
    "list(b)\n",
    "list(enumerate(l1,100))"
   ]
  },
  {
   "cell_type": "code",
   "execution_count": 132,
   "id": "29b55c03-0150-47cf-ae4e-5bf0a3de3498",
   "metadata": {},
   "outputs": [
    {
     "name": "stdout",
     "output_type": "stream",
     "text": [
      "DL 0\n",
      "ML 1\n"
     ]
    }
   ],
   "source": [
    "l1=[\"DL\",\"ML\",\"NLP\"]\n",
    "for i,j in enumerate(l1):\n",
    "    if i<2:\n",
    "        print(j,i)"
   ]
  },
  {
   "cell_type": "markdown",
   "id": "96576de0-70a2-42e9-800e-cf7f64e65d45",
   "metadata": {},
   "source": [
    "LAMBDA FUNCTION\n",
    "---------------\n",
    "It's a annonymous function which doesn't have name."
   ]
  },
  {
   "cell_type": "code",
   "execution_count": 139,
   "id": "653367aa-8883-414c-b4a3-0fe4417eda64",
   "metadata": {},
   "outputs": [
    {
     "data": {
      "text/plain": [
       "1010"
      ]
     },
     "execution_count": 139,
     "metadata": {},
     "output_type": "execute_result"
    }
   ],
   "source": [
    "x=lambda a:a+10----lambda var: expression(annoymous)\n",
    "x(1000)"
   ]
  },
  {
   "cell_type": "code",
   "execution_count": 143,
   "id": "a5633e4f-0bb0-427c-930a-354918e5f671",
   "metadata": {},
   "outputs": [
    {
     "data": {
      "text/plain": [
       "20"
      ]
     },
     "execution_count": 143,
     "metadata": {},
     "output_type": "execute_result"
    }
   ],
   "source": [
    "def kelvin( a):\n",
    "    return ( a+10)\n",
    "\n",
    "kelvin(10)"
   ]
  },
  {
   "cell_type": "code",
   "execution_count": 147,
   "id": "fec84ab8-1e19-45e4-86b1-13e54f0c4003",
   "metadata": {},
   "outputs": [
    {
     "data": {
      "text/plain": [
       "60"
      ]
     },
     "execution_count": 147,
     "metadata": {},
     "output_type": "execute_result"
    }
   ],
   "source": [
    "z=lambda a,b,c:a+b+c\n",
    "z(10,20,30)"
   ]
  },
  {
   "cell_type": "code",
   "execution_count": 151,
   "id": "06948472-bdfc-4721-af3a-d6d97d540777",
   "metadata": {},
   "outputs": [
    {
     "data": {
      "text/plain": [
       "<function __main__.<lambda>(x)>"
      ]
     },
     "execution_count": 151,
     "metadata": {},
     "output_type": "execute_result"
    }
   ],
   "source": [
    "a=lambda x: x+2\n",
    "a"
   ]
  },
  {
   "cell_type": "code",
   "execution_count": 155,
   "id": "c4f80628-025c-4305-a748-20108ef3cf8b",
   "metadata": {},
   "outputs": [
    {
     "data": {
      "text/plain": [
       "386953"
      ]
     },
     "execution_count": 155,
     "metadata": {},
     "output_type": "execute_result"
    }
   ],
   "source": [
    "ismail=lambda a,b,c:a+b*c----a+(b+c8d)+f/(a*b)                                          \n",
    "ismail(7339,838,453)"
   ]
  },
  {
   "cell_type": "markdown",
   "id": "6b9fec63-50fc-4a16-9f20-ec77efe34d47",
   "metadata": {},
   "source": [
    "IF & ELSE CONDITION IN LAMBDA\n"
   ]
  },
  {
   "cell_type": "code",
   "execution_count": 12,
   "id": "de4faac8-b13b-4cfd-9ea7-083817216461",
   "metadata": {},
   "outputs": [
    {
     "data": {
      "text/plain": [
       "64"
      ]
     },
     "execution_count": 12,
     "metadata": {},
     "output_type": "execute_result"
    }
   ],
   "source": [
    "a=lambda x: x*2 if x%2==0 else x\n",
    "a(32)"
   ]
  },
  {
   "cell_type": "markdown",
   "id": "97737c7e-7465-4532-8716-e32b0daea467",
   "metadata": {},
   "source": [
    "MAP FUNCTION \n",
    "-------------\n",
    "SYNTAX\n",
    "map(fun,iter)"
   ]
  },
  {
   "cell_type": "markdown",
   "id": "4f7db364-5327-4e2f-abd0-27129bd78247",
   "metadata": {},
   "source": [
    "PARAMETERS:-\n",
    "fun: it is a function to which map passes each element of given iterable.\n",
    "\n",
    "iter: it is a iterable which is to be mapped."
   ]
  },
  {
   "cell_type": "markdown",
   "id": "ec3d63d8-0586-4926-882e-e19374e037a0",
   "metadata": {},
   "source": [
    "There is 2 types of function in LAMBDA\n",
    "--------------------------------------\n",
    "1. map it is use for changes is existing list\n",
    "1. filter is use for extract in list"
   ]
  },
  {
   "cell_type": "code",
   "execution_count": 32,
   "id": "1142f8f2-51a9-4b20-9323-8d0716d775e1",
   "metadata": {},
   "outputs": [
    {
     "data": {
      "text/plain": [
       "[2, 4, 6, 12]"
      ]
     },
     "execution_count": 32,
     "metadata": {},
     "output_type": "execute_result"
    }
   ],
   "source": [
    "number=[1,2,3,4]\n",
    "list(map(lambda x: x+x,[1,2,3,6]))"
   ]
  },
  {
   "cell_type": "code",
   "execution_count": 36,
   "id": "eea87059-b7da-4daa-b9e5-d3d4dd0485c8",
   "metadata": {},
   "outputs": [
    {
     "data": {
      "text/plain": [
       "[24, 46, 88, 112]"
      ]
     },
     "execution_count": 36,
     "metadata": {},
     "output_type": "execute_result"
    }
   ],
   "source": [
    "def addition(n):\n",
    "    return(n*2)\n",
    "\n",
    "number=[12,23,44,56]\n",
    "list(map(addition,number))-------List (map(lambda x:x*2,number))"
   ]
  },
  {
   "cell_type": "code",
   "execution_count": 14,
   "id": "b97a979f-b1dc-45d0-8183-2cf2759e6503",
   "metadata": {},
   "outputs": [
    {
     "data": {
      "text/plain": [
       "[9, 12, 12]"
      ]
     },
     "execution_count": 14,
     "metadata": {},
     "output_type": "execute_result"
    }
   ],
   "source": [
    "numbers1=[1,2,3,4]\n",
    "numbers2=[5,6,7]\n",
    "numbers3=[3,4,2,1]\n",
    "result=(map(lambda x,y,z:x+y+z,numbers1,numbers2,numbers3))\n",
    "list(result)"
   ]
  },
  {
   "cell_type": "code",
   "execution_count": 54,
   "id": "17a6bf19-1812-43eb-bfab-b09c925d325a",
   "metadata": {},
   "outputs": [
    {
     "data": {
      "text/plain": [
       "[6, 10, 13]"
      ]
     },
     "execution_count": 54,
     "metadata": {},
     "output_type": "execute_result"
    }
   ],
   "source": [
    "numbers1=[1,2,3]\n",
    "numbers2=[4,5,6]\n",
    "numbers3=[1,3,4]\n",
    "result=(map(lambda x,y,z:x+y+z,numbers1,numbers2,numbers3))\n",
    "list(result)"
   ]
  },
  {
   "cell_type": "code",
   "execution_count": 58,
   "id": "88ac0e5f-7a4c-428e-947d-40366fcbafa7",
   "metadata": {},
   "outputs": [
    {
     "data": {
      "text/plain": [
       "['BRUU', 'TOMMY', 'JACK']"
      ]
     },
     "execution_count": 58,
     "metadata": {},
     "output_type": "execute_result"
    }
   ],
   "source": [
    "my_pets=['bruu','tommy','jack']\n",
    "list(map(lambda x: x.upper(),my_pets))"
   ]
  },
  {
   "cell_type": "code",
   "execution_count": 62,
   "id": "96d5413f-d6e0-4f4b-863b-036e67357225",
   "metadata": {},
   "outputs": [
    {
     "data": {
      "text/plain": [
       "[(1, 'axx'), (2, 'byy'), (3, 'czz'), (4, 'dww'), (5, 'edd')]"
      ]
     },
     "execution_count": 62,
     "metadata": {},
     "output_type": "execute_result"
    }
   ],
   "source": [
    "my_strings=['a','b','c','d','e']\n",
    "my_numbers=[1,2,3,4,5]\n",
    "my_name=['xx','yy','zz','ww','dd']\n",
    "results=list(map(lambda x,y,z:(y,x+z),my_strings,my_numbers,my_name))\n",
    "list(results)"
   ]
  },
  {
   "cell_type": "markdown",
   "id": "1c4157ad-6f3a-4d2c-8587-7ceb6ef0b858",
   "metadata": {},
   "source": [
    "FILTER\n",
    "------\n",
    "It extracts even and odd number.\n",
    "filter() method returns an iterator that passed the function check for each element in the iterable."
   ]
  },
  {
   "cell_type": "code",
   "execution_count": 72,
   "id": "e930bffc-8100-4002-ab95-1f345a578387",
   "metadata": {},
   "outputs": [
    {
     "data": {
      "text/plain": [
       "[]"
      ]
     },
     "execution_count": 72,
     "metadata": {},
     "output_type": "execute_result"
    }
   ],
   "source": [
    "dromes=(\"demigod\",\"rewire\",\"god\",\"freer\",\"auntgshdjkshd\",\"sasa\")\n",
    "palindromes=list(filter(lambda g:g == g[::-1],dromes))\n",
    "palindromes"
   ]
  },
  {
   "cell_type": "code",
   "execution_count": 74,
   "id": "d1c08f95-b8e6-4485-be6d-6970c08c7f92",
   "metadata": {},
   "outputs": [
    {
     "data": {
      "text/plain": [
       "'hsukna'"
      ]
     },
     "execution_count": 74,
     "metadata": {},
     "output_type": "execute_result"
    }
   ],
   "source": [
    "a=\"ankush\"\n",
    "a[::-1]"
   ]
  },
  {
   "cell_type": "code",
   "execution_count": 78,
   "id": "b2982a7b-e77e-46ab-998e-74510963e26f",
   "metadata": {},
   "outputs": [
    {
     "name": "stdout",
     "output_type": "stream",
     "text": [
      "[2, 6, 4, 8, 12]\n"
     ]
    }
   ],
   "source": [
    "my_list=[1,2,3,5,6,4,8,12]\n",
    "new_list=list(filter(lambda x:(x%2==0),my_list))\n",
    "print(new_list)\n",
    "\n"
   ]
  },
  {
   "cell_type": "code",
   "execution_count": 80,
   "id": "4551e112-17c9-452d-929c-38431d091fb0",
   "metadata": {},
   "outputs": [
    {
     "name": "stdout",
     "output_type": "stream",
     "text": [
      "[5, 3, 33, 67, 89]\n"
     ]
    }
   ],
   "source": [
    "li=[5,3,33,22,54,67,54,89]\n",
    "final_list=list(filter(lambda x:(x%2!=0),li))\n",
    "print(final_list)"
   ]
  },
  {
   "cell_type": "code",
   "execution_count": 88,
   "id": "7dbb2e89-27e0-4b7d-8799-a0fc21f8a754",
   "metadata": {},
   "outputs": [
    {
     "name": "stdout",
     "output_type": "stream",
     "text": [
      "['ONE', 'TWO', 'THREE', 'FOUR']\n",
      "[]\n",
      "-------\n"
     ]
    }
   ],
   "source": [
    "list2=['ONE','TWO','THREE','FOUR']\n",
    "upper=list(filter(lambda x: x.isupper(),list2))----\n",
    "lower=list(filter(lambda x: x.islower(),list2))\n",
    "print(upper)\n",
    "print(lower)\n",
    "print('-------')"
   ]
  },
  {
   "cell_type": "code",
   "execution_count": 106,
   "id": "adf203b7-a208-4eae-9f9c-3e2b14e8fb18",
   "metadata": {},
   "outputs": [
    {
     "name": "stdout",
     "output_type": "stream",
     "text": [
      "['one', 'three']\n",
      "['88', '99', '102']\n",
      "['one', 'two2', 'three', '88', '99', '102']\n",
      "------\n"
     ]
    }
   ],
   "source": [
    "list3=['one','two2','three','88','99','102']\n",
    "numeric=list(filter(lambda x: x.isnumeric(),list3))----filter numeric\n",
    "alpha=list(filter(lambda x: x.isalpha(),list3))----filter character\n",
    "alphanum=list(filter(lambda x: x.isalnum(),list3))----filter number&character\n",
    "print(alpha)\n",
    "print(numeric)\n",
    "print(alphanum)\n",
    "print('------')"
   ]
  },
  {
   "cell_type": "code",
   "execution_count": 110,
   "id": "f66241c2-6d09-4504-b26b-0dab521fee32",
   "metadata": {},
   "outputs": [
    {
     "data": {
      "text/plain": [
       "50"
      ]
     },
     "execution_count": 110,
     "metadata": {},
     "output_type": "execute_result"
    }
   ],
   "source": [
    "doubles=[2,6,10,14,18]\n",
    "doubles\n",
    "from functools import reduce\n",
    "def add(a,b):\n",
    "    return a+b\n",
    "\n",
    "sum_all=reduce(add,doubles)--This reduce function will perform sum of all item\n",
    "sum_all"
   ]
  },
  {
   "cell_type": "code",
   "execution_count": 112,
   "id": "8f5f4759-a915-4248-8dea-0f239ceb4340",
   "metadata": {},
   "outputs": [
    {
     "data": {
      "text/plain": [
       "50"
      ]
     },
     "execution_count": 112,
     "metadata": {},
     "output_type": "execute_result"
    }
   ],
   "source": [
    "The below reduce()dunction will perform sum of all items in the list in the list using lambda\n",
    "sum_all=reduce(lambda a,b:a+b,doubles)\n",
    "sum_all"
   ]
  },
  {
   "cell_type": "code",
   "execution_count": 5,
   "id": "b3f5880e-7a1e-423e-844a-c39e307d0a9c",
   "metadata": {},
   "outputs": [
    {
     "ename": "SyntaxError",
     "evalue": "invalid syntax (1382570017.py, line 1)",
     "output_type": "error",
     "traceback": [
      "\u001b[1;36m  Cell \u001b[1;32mIn[5], line 1\u001b[1;36m\u001b[0m\n\u001b[1;33m    operator reduce\u001b[0m\n\u001b[1;37m             ^\u001b[0m\n\u001b[1;31mSyntaxError\u001b[0m\u001b[1;31m:\u001b[0m invalid syntax\n"
     ]
    }
   ],
   "source": [
    "importoperator reduce\n",
    "from functools import reduce\n",
    "list2=[1,2,3,4]\n",
    "product=reduce(operator.mul,list2)\n",
    "print(product)\n",
    "add=reduce(operator.add,list2)\n",
    "print(add)\n",
    "concat_str=reduce(operator.add,['puthon',' ','Rocks'])\n",
    "print(concat_str)\n",
    "prod=reduce(operator.mul,['Hello',3])\n",
    "print(prod)\n",
    "min_num=reduce(lambda a,b:a if a<b else b, list2)\n",
    "print(min_num)\n",
    "max_num=reduce(lambda a,b:a if a>b else b,list2)\n",
    "print(max_num)\n"
   ]
  },
  {
   "cell_type": "code",
   "execution_count": 136,
   "id": "7088cd92-066a-445f-9c79-96be70c4f8d0",
   "metadata": {},
   "outputs": [
    {
     "name": "stdout",
     "output_type": "stream",
     "text": [
      "----\n",
      "False\n",
      "True\n",
      "False\n",
      "-----\n",
      "----\n",
      "False\n",
      "True\n",
      "True\n",
      "-----\n"
     ]
    }
   ],
   "source": [
    "print('----')\n",
    "print(reduce(lambda a,b:bool(a and b),[0,0,1,0,0]))\n",
    "print(reduce(lambda a,b:bool(a and b),[2,3,1,5,6]))\n",
    "print(reduce(lambda a,b:bool(a and b),[8,9,1,0,9]))\n",
    "print('-----')\n",
    "print('----')\n",
    "print(reduce(lambda a,b:bool(a or b),[0,0,0,0,0]))\n",
    "print(reduce(lambda a,b:bool(a or b),[2,3,1,5,6]))\n",
    "print(reduce(lambda a,b:bool(a or b),[8,9,1,0,9]))\n",
    "print('-----')"
   ]
  },
  {
   "cell_type": "code",
   "execution_count": 148,
   "id": "64605cc1-cf64-4c66-be93-00f043b412e7",
   "metadata": {},
   "outputs": [
    {
     "data": {
      "text/plain": [
       "Timestamp('2024-01-09 00:00:00')"
      ]
     },
     "execution_count": 148,
     "metadata": {},
     "output_type": "execute_result"
    }
   ],
   "source": [
    "import pandas as pd\n",
    "pd.to_datetime(\"01-09-2024\")\n"
   ]
  },
  {
   "cell_type": "code",
   "execution_count": 154,
   "id": "f2c287dc-6ed3-40e7-9d7e-56fa5df6ed2c",
   "metadata": {},
   "outputs": [
    {
     "data": {
      "text/plain": [
       "9"
      ]
     },
     "execution_count": 154,
     "metadata": {},
     "output_type": "execute_result"
    }
   ],
   "source": [
    "pd.to_datetime(\"09-01-2024\").month"
   ]
  },
  {
   "cell_type": "code",
   "execution_count": 156,
   "id": "fad3dcbc-d07e-4c52-9ddb-9412f3f465c1",
   "metadata": {},
   "outputs": [
    {
     "data": {
      "text/plain": [
       "2"
      ]
     },
     "execution_count": 156,
     "metadata": {},
     "output_type": "execute_result"
    }
   ],
   "source": [
    "pd.to_datetime(\"09-02-2024\").day"
   ]
  },
  {
   "cell_type": "code",
   "execution_count": 158,
   "id": "0a1abb9f-7525-4fb1-aa84-df0e01602e2d",
   "metadata": {},
   "outputs": [
    {
     "data": {
      "text/plain": [
       "0"
      ]
     },
     "execution_count": 158,
     "metadata": {},
     "output_type": "execute_result"
    }
   ],
   "source": [
    "pd.to_datetime(\"09-02-2024\").dayofweek"
   ]
  },
  {
   "cell_type": "code",
   "execution_count": 162,
   "id": "14db7c59-cbfc-4d62-90ee-485b4bd908d9",
   "metadata": {},
   "outputs": [
    {
     "data": {
      "text/plain": [
       "'Saturday'"
      ]
     },
     "execution_count": 162,
     "metadata": {},
     "output_type": "execute_result"
    }
   ],
   "source": [
    "pd.to_datetime(\"07-07-2001\").day_name()"
   ]
  },
  {
   "cell_type": "markdown",
   "id": "ac33bc72-be85-45f4-8427-8422dfbc8414",
   "metadata": {},
   "source": [
    "NumPy is the fundamental package for scientific computing in Python. It is a Python library that provides a multidimensional array object, various derived objects (such as masked arrays and matrices), and an assortment of routines for fast operations on arrays, including mathematical, logical, shape manipulation, sorting, selecting, I/O, discrete Fourier transforms, basic linear algebra, basic statistical operations, random simulation and much more.\n",
    "\n",
    "USE for advance math operation"
   ]
  },
  {
   "cell_type": "markdown",
   "id": "85a70154-67ef-411e-891a-35267424b677",
   "metadata": {},
   "source": [
    "NumPy Ndarray\n",
    "Ndarray is the n-dimensional array object defined in the numpy which stores the collection of the similar type of elements. In other words, we can define a ndarray as the collection of the data type (dtype) objects.\n",
    "\n",
    "The ndarray object can be accessed by using the 0 based indexing. Each element of the Array object contains the same size in the memory."
   ]
  },
  {
   "cell_type": "code",
   "execution_count": 4,
   "id": "4c9ef536-ba6d-476f-a270-7efc7a45e300",
   "metadata": {},
   "outputs": [
    {
     "name": "stdout",
     "output_type": "stream",
     "text": [
      "[1 2 3]\n"
     ]
    }
   ],
   "source": [
    "import numpy as np\n",
    "a=np.array([1,2,3])\n",
    "print(a)\n"
   ]
  },
  {
   "cell_type": "code",
   "execution_count": 6,
   "id": "78a3fe03-a053-469f-9128-08561fd65432",
   "metadata": {},
   "outputs": [
    {
     "name": "stdout",
     "output_type": "stream",
     "text": [
      "[1. 2. 3.]\n"
     ]
    }
   ],
   "source": [
    "a=np.array([1,2.0,3])\n",
    "print(a)\n"
   ]
  },
  {
   "cell_type": "code",
   "execution_count": 8,
   "id": "e400d280-c9e6-4aae-9aa6-38b67b43a176",
   "metadata": {},
   "outputs": [
    {
     "name": "stdout",
     "output_type": "stream",
     "text": [
      "['1' 'a' '3']\n"
     ]
    }
   ],
   "source": [
    "a=np.array([1,'a',3])\n",
    "print(a)\n"
   ]
  },
  {
   "cell_type": "code",
   "execution_count": 10,
   "id": "5f740407-c98b-41ce-bf38-c330200e8758",
   "metadata": {},
   "outputs": [
    {
     "name": "stdout",
     "output_type": "stream",
     "text": [
      "[[1 2]\n",
      " [3 4]]\n"
     ]
    }
   ],
   "source": [
    "a=np.array([[1,2],[3,4]])\n",
    "print(a)\n"
   ]
  },
  {
   "cell_type": "code",
   "execution_count": 9,
   "id": "8d4d3ff4-2698-4dba-8ed3-e6a9ece44e81",
   "metadata": {},
   "outputs": [
    {
     "name": "stdout",
     "output_type": "stream",
     "text": [
      "[[[[[[[[[1 2 3 4 5]]]]]]]]]\n"
     ]
    }
   ],
   "source": [
    "import numpy as np\n",
    "a=np.array([1,2,3,4,5],ndmin=9)\n",
    "print(a)\n"
   ]
  },
  {
   "cell_type": "code",
   "execution_count": 14,
   "id": "015fbeff-c12b-47dc-b382-aa9633cc5c3e",
   "metadata": {},
   "outputs": [
    {
     "name": "stdout",
     "output_type": "stream",
     "text": [
      "[1. 2. 3.]\n"
     ]
    }
   ],
   "source": [
    "a=np.array([1,2,3],dtype=float)\n",
    "print(a)\n"
   ]
  },
  {
   "cell_type": "code",
   "execution_count": 18,
   "id": "6437206d-4022-418b-848a-8d0a3ee838a3",
   "metadata": {},
   "outputs": [
    {
     "name": "stdout",
     "output_type": "stream",
     "text": [
      "[1.+0.j 2.+0.j 3.+0.j]\n"
     ]
    }
   ],
   "source": [
    "a=np.array([1,2,3],dtype=complex)\n",
    "print(a)\n"
   ]
  },
  {
   "cell_type": "code",
   "execution_count": 7,
   "id": "3d4e8ec3-c239-4372-b78f-215250151eb2",
   "metadata": {},
   "outputs": [
    {
     "name": "stdout",
     "output_type": "stream",
     "text": [
      "[[1 2]\n",
      " [3 4]\n",
      " [5 6]]\n"
     ]
    }
   ],
   "source": [
    "import numpy as np\n",
    "a=np.array([[1,2,3],[4,5,6]])\n",
    "a.shape=(3,2)\n",
    "print(a)"
   ]
  },
  {
   "cell_type": "code",
   "execution_count": 39,
   "id": "89245262-af94-4100-82cb-af8275cab250",
   "metadata": {},
   "outputs": [
    {
     "name": "stdout",
     "output_type": "stream",
     "text": [
      "[[1 2 3]\n",
      " [4 5 6]]\n"
     ]
    }
   ],
   "source": [
    "# it defines rows and columns \n",
    "import numpy as np\n",
    "a=np.array([[1,2,3],[4,5,6]])\n",
    "a.shape\n",
    "print(a)"
   ]
  },
  {
   "cell_type": "code",
   "execution_count": 17,
   "id": "18ab7e13-b440-491b-8b4f-b7577957ec3f",
   "metadata": {},
   "outputs": [
    {
     "name": "stdout",
     "output_type": "stream",
     "text": [
      "[[1 2 3]\n",
      " [4 5 6]]\n"
     ]
    }
   ],
   "source": [
    "import numpy as np\n",
    "a=np.array([[1,2,3],[4,5,6]])\n",
    "a.shape=(2,3)\n",
    "print(a)"
   ]
  },
  {
   "cell_type": "code",
   "execution_count": 21,
   "id": "4331722d-6608-495d-92d8-8805e9ef3213",
   "metadata": {},
   "outputs": [
    {
     "name": "stdout",
     "output_type": "stream",
     "text": [
      "[[1 2]\n",
      " [3 4]\n",
      " [5 6]]\n"
     ]
    }
   ],
   "source": [
    "# Numpy also provides a reshape functione to resize an array.\n",
    "import numpy as np\n",
    "a=np.array([[1,2,3],[4,5,6]])\n",
    "b=a.reshape(3,2)\n",
    "print(b)"
   ]
  },
  {
   "cell_type": "code",
   "execution_count": 33,
   "id": "f11c02fc-f60d-4952-9d8b-6b76a5cca3d4",
   "metadata": {},
   "outputs": [
    {
     "name": "stdout",
     "output_type": "stream",
     "text": [
      "[[0 0 0]\n",
      " [0 0 0]]\n"
     ]
    }
   ],
   "source": [
    "# it returns the array with the all zeros\n",
    "import numpy as np\n",
    "x=np.zeros((2,3),dtype=int)\n",
    "print(x)"
   ]
  },
  {
   "cell_type": "code",
   "execution_count": 35,
   "id": "28be7d01-d029-4019-9b3f-ce5440b83d08",
   "metadata": {},
   "outputs": [
    {
     "name": "stdout",
     "output_type": "stream",
     "text": [
      "[1. 1. 1. 1. 1.]\n"
     ]
    }
   ],
   "source": [
    "# numpy returns a new array of specified size type, filled with ones\n",
    "# array of five ones. Default dtype is float\n",
    "import numpy as np\n",
    "x=np.ones(5)\n",
    "print(x)"
   ]
  },
  {
   "cell_type": "code",
   "execution_count": 37,
   "id": "ea0ec7e6-3381-4529-a61f-22d6597915a5",
   "metadata": {},
   "outputs": [
    {
     "name": "stdout",
     "output_type": "stream",
     "text": [
      "[[1 1]\n",
      " [1 1]]\n"
     ]
    }
   ],
   "source": [
    "import numpy as np\n",
    "x=np.ones([2,2],dtype=int)\n",
    "print(x)"
   ]
  },
  {
   "cell_type": "code",
   "execution_count": 41,
   "id": "bffe5303-2e7f-41d8-a71e-3f1fe2ee6497",
   "metadata": {},
   "outputs": [
    {
     "name": "stdout",
     "output_type": "stream",
     "text": [
      "[1 2 3]\n",
      "<class 'numpy.ndarray'>\n"
     ]
    }
   ],
   "source": [
    "import numpy as np\n",
    "a=np.array([1,2,3])\n",
    "print(a)\n",
    "print(type(a))\n"
   ]
  },
  {
   "cell_type": "code",
   "execution_count": 43,
   "id": "960d6e02-f369-44e6-8d44-92c07f7490b3",
   "metadata": {},
   "outputs": [
    {
     "name": "stdout",
     "output_type": "stream",
     "text": [
      "[0 0 0 0 0]\n"
     ]
    },
    {
     "data": {
      "text/plain": [
       "1"
      ]
     },
     "execution_count": 43,
     "metadata": {},
     "output_type": "execute_result"
    }
   ],
   "source": [
    "a=np.zeros(5,dtype=int)\n",
    "print(a)\n",
    "a.ndim"
   ]
  },
  {
   "cell_type": "code",
   "execution_count": 45,
   "id": "852afa16-2cb1-49fa-aa8e-c1b49c59c53e",
   "metadata": {},
   "outputs": [
    {
     "data": {
      "text/plain": [
       "(5,)"
      ]
     },
     "execution_count": 45,
     "metadata": {},
     "output_type": "execute_result"
    }
   ],
   "source": [
    "a.shape"
   ]
  },
  {
   "cell_type": "code",
   "execution_count": 47,
   "id": "623d2033-e90c-4177-b229-940edb919d2d",
   "metadata": {},
   "outputs": [
    {
     "data": {
      "text/plain": [
       "5"
      ]
     },
     "execution_count": 47,
     "metadata": {},
     "output_type": "execute_result"
    }
   ],
   "source": [
    "a.size"
   ]
  },
  {
   "cell_type": "code",
   "execution_count": 49,
   "id": "ff0501d1-318a-420e-b119-c7178e423869",
   "metadata": {},
   "outputs": [
    {
     "name": "stdout",
     "output_type": "stream",
     "text": [
      "[[0. 0. 0. 0.]\n",
      " [0. 0. 0. 0.]]\n"
     ]
    }
   ],
   "source": [
    "b=np.zeros((2,4))\n",
    "print(b)"
   ]
  },
  {
   "cell_type": "code",
   "execution_count": 51,
   "id": "6377fe32-d90d-4956-b2ec-bdd9fc971329",
   "metadata": {},
   "outputs": [
    {
     "name": "stdout",
     "output_type": "stream",
     "text": [
      "[2. 2. 2. 2. 2.]\n"
     ]
    }
   ],
   "source": [
    "x=2*(np.ones(5))\n",
    "print(x)"
   ]
  },
  {
   "cell_type": "code",
   "execution_count": 53,
   "id": "d9003d0f-e71c-4b12-bf53-6926976ecfb6",
   "metadata": {},
   "outputs": [
    {
     "name": "stdout",
     "output_type": "stream",
     "text": [
      "[[1. 1. 1. 1.]\n",
      " [1. 1. 1. 1.]]\n"
     ]
    }
   ],
   "source": [
    "y=np.ones((2,4))\n",
    "print(y)"
   ]
  },
  {
   "cell_type": "code",
   "execution_count": 55,
   "id": "1f0a7a2e-5700-4246-88ec-1d3666711f9c",
   "metadata": {},
   "outputs": [
    {
     "name": "stdout",
     "output_type": "stream",
     "text": [
      "[[1. 0. 0. 0.]\n",
      " [0. 1. 0. 0.]\n",
      " [0. 0. 1. 0.]\n",
      " [0. 0. 0. 1.]]\n"
     ]
    }
   ],
   "source": [
    "# Identity matrix --- means diagnol way\n",
    "a=np.eye(4)\n",
    "print(a)"
   ]
  },
  {
   "cell_type": "code",
   "execution_count": 71,
   "id": "b7ce698f-640b-4bbb-a77f-3bf0c2d1d872",
   "metadata": {},
   "outputs": [
    {
     "name": "stdout",
     "output_type": "stream",
     "text": [
      "[[12 23 34]\n",
      " [23 66 54]\n",
      " [55 43 22]]\n",
      "[12 66 22]\n"
     ]
    }
   ],
   "source": [
    "import numpy as np\n",
    "a=np.array([[12,23,34],[23,66,54],[55,43,22]])\n",
    "print(a)\n",
    "print(np.diag(a))"
   ]
  },
  {
   "cell_type": "code",
   "execution_count": 69,
   "id": "7cf73457-097e-4e89-9b1b-3f9e0a973b0d",
   "metadata": {},
   "outputs": [
    {
     "name": "stdout",
     "output_type": "stream",
     "text": [
      "[[3 0 0 0 0]\n",
      " [0 4 0 0 0]\n",
      " [0 0 5 0 0]\n",
      " [0 0 0 6 0]\n",
      " [0 0 0 0 7]]\n"
     ]
    }
   ],
   "source": [
    "x=np.diag([3,4,5,6,7])\n",
    "print(x)"
   ]
  },
  {
   "cell_type": "code",
   "execution_count": 79,
   "id": "818d1a86-d239-429e-88b4-ae4b90cee101",
   "metadata": {},
   "outputs": [
    {
     "name": "stdout",
     "output_type": "stream",
     "text": [
      "\n",
      "3x3 matrix:\n",
      " [[2 3 4 4]\n",
      " [7 7 4 3]\n",
      " [1 2 3 4]]\n"
     ]
    }
   ],
   "source": [
    "matrix2=np.array([[2,3,4,4],[7,7,4,3],[1,2,3,4]])\n",
    "print(\"\\n3x3 matrix:\\n\",matrix2)"
   ]
  },
  {
   "cell_type": "code",
   "execution_count": 81,
   "id": "9404e000-9fbf-418f-b8ab-ff360de7737d",
   "metadata": {},
   "outputs": [
    {
     "name": "stdout",
     "output_type": "stream",
     "text": [
      "\n",
      "2x2 matrix:\n",
      " [[2 3 4 4]\n",
      " [7 7 4 3]]\n"
     ]
    }
   ],
   "source": [
    "matrix2=np.array([[2,3,4,4],[7,7,4,3]])\n",
    "print(\"\\n2x2 matrix:\\n\",matrix2)"
   ]
  },
  {
   "cell_type": "code",
   "execution_count": 85,
   "id": "ec5edf3c-a505-40c0-88e2-5070376d53ed",
   "metadata": {},
   "outputs": [
    {
     "name": "stdout",
     "output_type": "stream",
     "text": [
      "[[ 4  6  8  5]\n",
      " [14  9  8  6]]\n"
     ]
    }
   ],
   "source": [
    "matrixa=np.array([[2,3,4,4],[7,7,4,3]])\n",
    "matrixb=np.array([[2,3,4,1],[7,2,4,3]])\n",
    "matrixc=matrixa+matrixb\n",
    "print(matrixc)"
   ]
  },
  {
   "cell_type": "code",
   "execution_count": 93,
   "id": "fa3e69ec-174d-45cc-9c63-54886d781486",
   "metadata": {},
   "outputs": [
    {
     "name": "stdout",
     "output_type": "stream",
     "text": [
      "matrix1 x matrix2:\n",
      " [[25 12]\n",
      " [63 35]]\n"
     ]
    }
   ],
   "source": [
    "matrix1=np.array([[1,3],[5,7]])\n",
    "matrix2=np.array([[2,6],[4,8]])\n",
    "result=np.dot(matrix1,matrix2)\n",
    "print(\"matrix1 x matrix2:\\n\",result)\n",
    "\n",
    "\n",
    "# 1 3     2 6         1*2+3*4    1*6+3*8\n",
    "  5 7     4 8     "
   ]
  },
  {
   "cell_type": "code",
   "execution_count": 97,
   "id": "6ac0cc2a-ef1b-42b7-9ff5-574f00065a64",
   "metadata": {},
   "outputs": [
    {
     "name": "stdout",
     "output_type": "stream",
     "text": [
      "[[1 3]\n",
      " [5 7]]\n",
      "\n",
      "[[1 5]\n",
      " [3 7]]\n"
     ]
    }
   ],
   "source": [
    "matrix1=np.array([[1,3],[5,7]])\n",
    "print(matrix1)\n",
    "print()\n",
    "result=np.transpose(matrix1)\n",
    "print(result)"
   ]
  },
  {
   "cell_type": "markdown",
   "id": "7ee70b06-8fa9-40fb-9a54-7c5244c8212d",
   "metadata": {},
   "source": [
    "numpy.arange\n",
    "This function returns an ndarray object containing evenly spaced within a given range."
   ]
  },
  {
   "cell_type": "code",
   "execution_count": 102,
   "id": "2864f93a-e9c5-4548-a11a-f69d9a995e73",
   "metadata": {},
   "outputs": [
    {
     "name": "stdout",
     "output_type": "stream",
     "text": [
      "[ 0  1  2  3  4  5  6  7  8  9 10 11 12 13 14 15 16 17 18 19 20 21 22 23]\n"
     ]
    },
    {
     "data": {
      "text/plain": [
       "1"
      ]
     },
     "execution_count": 102,
     "metadata": {},
     "output_type": "execute_result"
    }
   ],
   "source": [
    "import numpy as np\n",
    "a=np.arange(24)\n",
    "print(a)\n",
    "a.ndim"
   ]
  },
  {
   "cell_type": "code",
   "execution_count": 104,
   "id": "4142c722-614b-426c-9dfa-253e4b887484",
   "metadata": {},
   "outputs": [
    {
     "name": "stdout",
     "output_type": "stream",
     "text": [
      "[[10 12 14]\n",
      " [16 18 20]]\n"
     ]
    },
    {
     "data": {
      "text/plain": [
       "1"
      ]
     },
     "execution_count": 104,
     "metadata": {},
     "output_type": "execute_result"
    }
   ],
   "source": [
    "import numpy as np\n",
    "x=(np.arange(10,22,2)).reshape(2,3)\n",
    "print(x)\n",
    "a.ndim"
   ]
  },
  {
   "cell_type": "markdown",
   "id": "b83fdb48-afd4-42f8-8853-8b872164e038",
   "metadata": {},
   "source": [
    "Comparison b/w list and arrays\n",
    "-------------------------------\n",
    "Benefits of arrays\n",
    "1.Takes less memory\n",
    "2.Fast\n",
    "3.Convininent\n",
    "\n",
    "\n",
    "A normal integer is 28 bites\n",
    "\n",
    "\n",
    "Array take 4 bits"
   ]
  },
  {
   "cell_type": "code",
   "execution_count": 107,
   "id": "03a3bbce-7b90-4c91-a5d7-e37ff58f6d85",
   "metadata": {},
   "outputs": [
    {
     "data": {
      "text/plain": [
       "28"
      ]
     },
     "execution_count": 107,
     "metadata": {},
     "output_type": "execute_result"
    }
   ],
   "source": [
    "import sys\n",
    "import time\n",
    "\n",
    "sys.getsizeof(99)--- Just integer"
   ]
  },
  {
   "cell_type": "code",
   "execution_count": 117,
   "id": "a775c5d0-5de8-4452-bc2a-97f3ace9f48f",
   "metadata": {},
   "outputs": [
    {
     "name": "stdout",
     "output_type": "stream",
     "text": [
      "5600000\n"
     ]
    }
   ],
   "source": [
    "import numpy as np\n",
    "l=range(200000)\n",
    "print(sys.getsizeof(2)*len(l))"
   ]
  },
  {
   "cell_type": "code",
   "execution_count": 119,
   "id": "8d5fbf01-406f-4303-8420-8718bb66a2e1",
   "metadata": {},
   "outputs": [
    {
     "name": "stdout",
     "output_type": "stream",
     "text": [
      "4\n",
      "\n",
      "8000000\n"
     ]
    }
   ],
   "source": [
    "import numpy as np\n",
    "a=np.arange(2000000)\n",
    "print(a.itemsize)\n",
    "print()\n",
    "\n",
    "print(a.itemsize*len(a))"
   ]
  },
  {
   "cell_type": "code",
   "execution_count": 121,
   "id": "dd07f26c-57fb-4f4d-b261-0460c5bfcb24",
   "metadata": {},
   "outputs": [
    {
     "name": "stdout",
     "output_type": "stream",
     "text": [
      "time taken: 250.93340873718262\n"
     ]
    }
   ],
   "source": [
    "a1=range(1000000)\n",
    "b1=range(1000000)\n",
    "start=time.time()\n",
    "c1=[(x+y) for x,y in zip(a1,b1)]\n",
    "print(\"time taken:\",(time.time()-start)*1000)\n",
    "    "
   ]
  },
  {
   "cell_type": "code",
   "execution_count": 123,
   "id": "127ed67b-577b-48a5-94dc-d459c85bb477",
   "metadata": {},
   "outputs": [
    {
     "data": {
      "text/plain": [
       "[(0, 0),\n",
       " (1, 1),\n",
       " (2, 2),\n",
       " (3, 3),\n",
       " (4, 4),\n",
       " (5, 5),\n",
       " (6, 6),\n",
       " (7, 7),\n",
       " (8, 8),\n",
       " (9, 9)]"
      ]
     },
     "execution_count": 123,
     "metadata": {},
     "output_type": "execute_result"
    }
   ],
   "source": [
    "a1=range(10)\n",
    "b1=range(10)\n",
    "list(zip(a1,b1))"
   ]
  },
  {
   "cell_type": "code",
   "execution_count": 133,
   "id": "70195639-3883-4268-9e2d-693c6f07a942",
   "metadata": {},
   "outputs": [
    {
     "name": "stdout",
     "output_type": "stream",
     "text": [
      "time taken by array: 0.0\n"
     ]
    }
   ],
   "source": [
    "import numpy as np\n",
    "a2=np.arange(1000000)\n",
    "b2=np.arange(1000000)\n",
    "start=time.time()\n",
    "c2=a2+b2\n",
    "print(\"time taken by array:\",(time.time()-start)*1000)\n"
   ]
  },
  {
   "cell_type": "code",
   "execution_count": 135,
   "id": "11200c93-7d6d-46a6-8075-815ad041ad65",
   "metadata": {},
   "outputs": [
    {
     "data": {
      "text/plain": [
       "array([   0,    1,    4,    9,   16,   25,   36,   49,   64,   81,  100,\n",
       "        121,  144,  169,  196,  225,  256,  289,  324,  361,  400,  441,\n",
       "        484,  529,  576,  625,  676,  729,  784,  841,  900,  961, 1024,\n",
       "       1089, 1156, 1225, 1296, 1369, 1444, 1521, 1600, 1681, 1764, 1849,\n",
       "       1936, 2025, 2116, 2209, 2304, 2401, 2500, 2601, 2704, 2809, 2916,\n",
       "       3025, 3136, 3249, 3364, 3481, 3600, 3721, 3844, 3969, 4096, 4225,\n",
       "       4356, 4489, 4624, 4761, 4900, 5041, 5184, 5329, 5476, 5625, 5776,\n",
       "       5929, 6084, 6241, 6400, 6561, 6724, 6889, 7056, 7225, 7396, 7569,\n",
       "       7744, 7921, 8100, 8281, 8464, 8649, 8836, 9025, 9216, 9409, 9604,\n",
       "       9801])"
      ]
     },
     "execution_count": 135,
     "metadata": {},
     "output_type": "execute_result"
    }
   ],
   "source": [
    "n1=np.arange(100)\n",
    "n2=np.arange(100)\n",
    "n1*n2"
   ]
  },
  {
   "cell_type": "code",
   "execution_count": 137,
   "id": "79bb45a3-a980-4dd5-b397-985a42f26bb0",
   "metadata": {},
   "outputs": [
    {
     "data": {
      "text/plain": [
       "array([ 0,  1,  2,  3,  4,  5,  6,  7,  8,  9, 10, 11, 12, 13, 14, 15, 16,\n",
       "       17, 18, 19, 20, 21, 22, 23, 24, 25, 26, 27, 28, 29, 30, 31, 32, 33,\n",
       "       34, 35, 36, 37, 38, 39, 40, 41, 42, 43, 44, 45, 46, 47, 48, 49, 50,\n",
       "       51, 52, 53, 54, 55, 56, 57, 58, 59, 60, 61, 62, 63, 64, 65, 66, 67,\n",
       "       68, 69, 70, 71, 72, 73, 74, 75, 76, 77, 78, 79, 80, 81, 82, 83, 84,\n",
       "       85, 86, 87, 88, 89, 90, 91, 92, 93, 94, 95, 96, 97, 98, 99])"
      ]
     },
     "execution_count": 137,
     "metadata": {},
     "output_type": "execute_result"
    }
   ],
   "source": [
    "n2"
   ]
  },
  {
   "cell_type": "code",
   "execution_count": 153,
   "id": "00854d23-78d5-4cb6-9125-aa38ff34aadd",
   "metadata": {},
   "outputs": [
    {
     "name": "stdout",
     "output_type": "stream",
     "text": [
      "2599153270464\n",
      "140731914664376\n"
     ]
    },
    {
     "data": {
      "text/plain": [
       "(None, None)"
      ]
     },
     "execution_count": 153,
     "metadata": {},
     "output_type": "execute_result"
    }
   ],
   "source": [
    "l=[1,\"2\",3,4,5]\n",
    "l1=l\n",
    "l1\n",
    "l1[2]=100\n",
    "l1\n",
    "1\n",
    "print(id(l1)),print(id(1))"
   ]
  },
  {
   "cell_type": "code",
   "execution_count": 155,
   "id": "d24ffb08-1a20-46c8-8b7d-623baa77572d",
   "metadata": {},
   "outputs": [
    {
     "name": "stdout",
     "output_type": "stream",
     "text": [
      "2599153270464 2599153329024\n"
     ]
    }
   ],
   "source": [
    "l2=l.copy()\n",
    "l2[1]=100\n",
    "1\n",
    "12\n",
    "print(id(l),id(l2))"
   ]
  },
  {
   "cell_type": "code",
   "execution_count": 159,
   "id": "afb3f4d5-2fe7-41d0-b124-0b5b37d81f92",
   "metadata": {},
   "outputs": [
    {
     "data": {
      "text/plain": [
       "[1, 100, 100, 100, 5]"
      ]
     },
     "execution_count": 159,
     "metadata": {},
     "output_type": "execute_result"
    }
   ],
   "source": [
    "l2[3]=100\n",
    "l2\n",
    "\n"
   ]
  },
  {
   "cell_type": "code",
   "execution_count": null,
   "id": "c416fa32-6e32-4932-bd7f-3891ef678eb7",
   "metadata": {},
   "outputs": [],
   "source": []
  }
 ],
 "metadata": {
  "kernelspec": {
   "display_name": "Python 3 (ipykernel)",
   "language": "python",
   "name": "python3"
  },
  "language_info": {
   "codemirror_mode": {
    "name": "ipython",
    "version": 3
   },
   "file_extension": ".py",
   "mimetype": "text/x-python",
   "name": "python",
   "nbconvert_exporter": "python",
   "pygments_lexer": "ipython3",
   "version": "3.12.4"
  }
 },
 "nbformat": 4,
 "nbformat_minor": 5
}
